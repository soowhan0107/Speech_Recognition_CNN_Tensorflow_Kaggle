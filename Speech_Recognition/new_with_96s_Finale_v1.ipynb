{
 "cells": [
  {
   "cell_type": "code",
   "execution_count": 2,
   "metadata": {
    "scrolled": true
   },
   "outputs": [
    {
     "data": {
      "text/html": [
       "<script type=\"text/javascript\">window.PlotlyConfig = {MathJaxConfig: 'local'};</script><script type=\"text/javascript\">if (window.MathJax) {MathJax.Hub.Config({SVG: {font: \"STIX-Web\"}});}</script><script>requirejs.config({paths: { 'plotly': ['https://cdn.plot.ly/plotly-latest.min']},});if(!window._Plotly) {require(['plotly'],function(plotly) {window._Plotly=plotly;});}</script>"
      ],
      "text/vnd.plotly.v1+html": [
       "<script type=\"text/javascript\">window.PlotlyConfig = {MathJaxConfig: 'local'};</script><script type=\"text/javascript\">if (window.MathJax) {MathJax.Hub.Config({SVG: {font: \"STIX-Web\"}});}</script><script>requirejs.config({paths: { 'plotly': ['https://cdn.plot.ly/plotly-latest.min']},});if(!window._Plotly) {require(['plotly'],function(plotly) {window._Plotly=plotly;});}</script>"
      ]
     },
     "metadata": {},
     "output_type": "display_data"
    }
   ],
   "source": [
    "import os\n",
    "from os.path import isdir, join\n",
    "from pathlib import Path\n",
    "\n",
    "#Scientific Library\n",
    "import numpy as np\n",
    "import pandas as pd\n",
    "from scipy.fftpack import fft\n",
    "from scipy import signal\n",
    "from scipy.io import wavfile\n",
    "from scipy.misc import imread\n",
    "from sklearn import metrics\n",
    "import glob\n",
    "import seaborn as sns\n",
    "import cv2\n",
    "from tensorflow.python.data import Dataset\n",
    "\n",
    "# Visualization Library\n",
    "import matplotlib.pyplot as plt\n",
    "import tensorflow as tf\n",
    "import IPython.display as ipd\n",
    "import plotly.offline as py\n",
    "py.init_notebook_mode(connected=True)\n",
    "import plotly.graph_objs as go\n",
    "    \n",
    "%matplotlib inline"
   ]
  },
  {
   "cell_type": "markdown",
   "metadata": {},
   "source": [
    "10 classes from the list : \n",
    "yes, no, up, down, left, right, on, off, stop, go\n",
    "\n",
    "2 classes below :\n",
    "1. 6 pictures from silence * randomly selected multiplication to equal 400 -> 100 (penalize).\n",
    "2. everything else to unknown\n",
    "\n",
    "Take 200 pictures from each class above - 2000 total\n",
    "and from the rest of 20 classes, take 200 pictures from each - 4000 pictures for unknown\n",
    "\n",
    "Possible Data Augmentation on 6 pictures for silence = 400 -> 50\n",
    "\n",
    "-> for now, total of 2000 + 4000 + 50 = 6050 pictures.\n",
    "Everything in order."
   ]
  },
  {
   "cell_type": "code",
   "execution_count": 49,
   "metadata": {},
   "outputs": [],
   "source": [
    "cat = os.listdir('../input/audio/cat')\n",
    "down = os.listdir('../input/audio/down')\n",
    "four = os.listdir('../input/audio/four')\n",
    "house = os.listdir('../input/audio/house')\n",
    "nine = os.listdir('../input/audio/nine')\n",
    "on = os.listdir('../input/audio/on')\n",
    "seven = os.listdir('../input/audio/seven')\n",
    "stop = os.listdir('../input/audio/stop')\n",
    "two = os.listdir('../input/audio/two')\n",
    "yes = os.listdir('../input/audio/yes')\n",
    "bed = os.listdir('../input/audio/bed')\n",
    "eight = os.listdir('../input/audio/eight')\n",
    "go = os.listdir('../input/audio/go')\n",
    "left = os.listdir('../input/audio/left')\n",
    "no = os.listdir('../input/audio/no')\n",
    "one = os.listdir('../input/audio/one')\n",
    "sheila = os.listdir('../input/audio/sheila')\n",
    "three = os.listdir('../input/audio/three')\n",
    "up = os.listdir('../input/audio/up')\n",
    "zero = os.listdir('../input/audio/zero')\n",
    "bird = os.listdir('../input/audio/bird')\n",
    "dog = os.listdir('../input/audio/dog')\n",
    "five = os.listdir('../input/audio/five')\n",
    "happy = os.listdir('../input/audio/happy')\n",
    "marvin = os.listdir('../input/audio/marvin')\n",
    "off = os.listdir('../input/audio/off')\n",
    "right = os.listdir('../input/audio/right')\n",
    "six = os.listdir('../input/audio/six')\n",
    "tree = os.listdir('../input/audio/tree')\n",
    "wow = os.listdir('../input/audio/wow')\n",
    "silence = os.listdir('../input/audio/silence')"
   ]
  },
  {
   "cell_type": "code",
   "execution_count": 50,
   "metadata": {},
   "outputs": [
    {
     "name": "stdout",
     "output_type": "stream",
     "text": [
      "2377\n"
     ]
    }
   ],
   "source": [
    "print(len(yes))"
   ]
  },
  {
   "cell_type": "markdown",
   "metadata": {},
   "source": [
    "by doing ls -R | wc -l, found out there are total of 64823 spectrogram. We will put in 100 from each first."
   ]
  },
  {
   "cell_type": "code",
   "execution_count": 51,
   "metadata": {},
   "outputs": [],
   "source": [
    "#no[2]"
   ]
  },
  {
   "cell_type": "code",
   "execution_count": 52,
   "metadata": {},
   "outputs": [],
   "source": [
    "#data = np.empty((100,129,256), dtype=np.float32)"
   ]
  },
  {
   "cell_type": "code",
   "execution_count": 53,
   "metadata": {},
   "outputs": [],
   "source": [
    "#index=0\n",
    "#image_name_list = sheila\n",
    "#for image_name in image_name_list[:100]:\n",
    "#    imageA = plt.imread('../input/audio/sheila/' + image_name)\n",
    "#    data[index] = imageA\n",
    "#    index+=1"
   ]
  },
  {
   "cell_type": "code",
   "execution_count": 54,
   "metadata": {},
   "outputs": [
    {
     "data": {
      "image/png": "[encoded data removed]",
      "text/plain": [
       "<PIL.PngImagePlugin.PngImageFile image mode=RGB size=96x96 at 0x7FEB6D740978>"
      ]
     },
     "execution_count": 54,
     "metadata": {},
     "output_type": "execute_result"
    }
   ],
   "source": [
    "from PIL import Image\n",
    "a=Image.open('../input/audio/sheila/' + sheila[9])\n",
    "a"
   ]
  },
  {
   "cell_type": "code",
   "execution_count": 55,
   "metadata": {},
   "outputs": [],
   "source": [
    "image_name_list = yes[:10]"
   ]
  },
  {
   "cell_type": "code",
   "execution_count": 56,
   "metadata": {},
   "outputs": [
    {
     "data": {
      "text/plain": [
       "['47565088_nohash_0.png',\n",
       " 'd430b3cc_nohash_0.png',\n",
       " '151bfb79_nohash_1.png',\n",
       " 'e8e960fd_nohash_0.png',\n",
       " '7096522d_nohash_0.png',\n",
       " '24c9f572_nohash_0.png',\n",
       " '5e3dde6b_nohash_1.png',\n",
       " 'c1eebc0b_nohash_0.png',\n",
       " 'a3fc7884_nohash_0.png',\n",
       " '333784b7_nohash_4.png']"
      ]
     },
     "execution_count": 56,
     "metadata": {},
     "output_type": "execute_result"
    }
   ],
   "source": [
    "image_name_list"
   ]
  },
  {
   "cell_type": "code",
   "execution_count": 57,
   "metadata": {},
   "outputs": [],
   "source": [
    "#shuffle images\n",
    "from random import shuffle"
   ]
  },
  {
   "cell_type": "code",
   "execution_count": 58,
   "metadata": {},
   "outputs": [],
   "source": [
    "shuffle(cat)\n",
    "shuffle(down)\n",
    "shuffle(four)\n",
    "shuffle(house)\n",
    "shuffle(nine)\n",
    "shuffle(on)\n",
    "shuffle(seven)\n",
    "shuffle(stop)\n",
    "shuffle(two)\n",
    "shuffle(yes)\n",
    "shuffle(bed)\n",
    "shuffle(eight)\n",
    "shuffle(go)\n",
    "shuffle(left)\n",
    "shuffle(no)\n",
    "shuffle(one)\n",
    "shuffle(sheila)\n",
    "shuffle(three)\n",
    "shuffle(up)\n",
    "shuffle(zero)\n",
    "shuffle(bird)\n",
    "shuffle(dog)\n",
    "shuffle(five)\n",
    "shuffle(happy)\n",
    "shuffle(marvin)\n",
    "shuffle(off)\n",
    "shuffle(right)\n",
    "shuffle(six)\n",
    "shuffle(tree)\n",
    "shuffle(wow)\n",
    "shuffle(silence)"
   ]
  },
  {
   "cell_type": "code",
   "execution_count": null,
   "metadata": {},
   "outputs": [],
   "source": []
  },
  {
   "cell_type": "code",
   "execution_count": null,
   "metadata": {},
   "outputs": [],
   "source": []
  },
  {
   "cell_type": "code",
   "execution_count": 59,
   "metadata": {},
   "outputs": [],
   "source": [
    "#Convert Yes Spectrogram Images to Pixels\n",
    "\n",
    "data = np.empty((6050,96,96,3), dtype=np.float32)\n",
    "\n",
    "# top 10\n",
    "\n",
    "index = 0\n",
    "image_name_list = yes\n",
    "for image_name in image_name_list[:200]:\n",
    "    imageA = Image.open('../input/audio/yes/' + image_name)\n",
    "    data[index] = imageA\n",
    "    index+=1\n",
    "    \n",
    "image_name_list = no\n",
    "for image_name in image_name_list[:200]:\n",
    "    imageA = Image.open('../input/audio/no/' + image_name)\n",
    "    data[index] = imageA\n",
    "    index+=1\n",
    "        \n",
    "image_name_list = up\n",
    "for image_name in image_name_list[:200]:\n",
    "    imageA = Image.open('../input/audio/up/' + image_name)\n",
    "    data[index] = imageA\n",
    "    index+=1\n",
    "    \n",
    "image_name_list = down\n",
    "for image_name in image_name_list[:200]:\n",
    "    imageA = Image.open('../input/audio/down/' + image_name)\n",
    "    data[index] = imageA\n",
    "    index+=1\n",
    "    \n",
    "image_name_list = left\n",
    "for image_name in image_name_list[:200]:\n",
    "    imageA = Image.open('../input/audio/left/' + image_name)\n",
    "    data[index] = imageA\n",
    "    index+=1\n",
    "    \n",
    "image_name_list = right\n",
    "for image_name in image_name_list[:200]:\n",
    "    imageA = Image.open('../input/audio/right/' + image_name)\n",
    "    data[index] = imageA\n",
    "    index+=1\n",
    "    \n",
    "image_name_list = on\n",
    "for image_name in image_name_list[:200]:\n",
    "    imageA = Image.open('../input/audio/on/' + image_name)\n",
    "    data[index] = imageA\n",
    "    index+=1\n",
    "    \n",
    "image_name_list = off\n",
    "for image_name in image_name_list[:200]:\n",
    "    imageA = Image.open('../input/audio/off/' + image_name)\n",
    "    data[index] = imageA\n",
    "    index+=1\n",
    "    \n",
    "image_name_list = stop\n",
    "for image_name in image_name_list[:200]:\n",
    "    imageA = Image.open('../input/audio/stop/' + image_name)\n",
    "    data[index] = imageA\n",
    "    index+=1\n",
    "    \n",
    "image_name_list = go\n",
    "for image_name in image_name_list[:200]:\n",
    "    imageA = Image.open('../input/audio/go/' + image_name)\n",
    "    data[index] = imageA\n",
    "    index+=1\n",
    "    \n",
    "# Top 10 done\n",
    "\n",
    "# Silence 100 pictures  \n",
    "image_name_list = silence\n",
    "for image_name in image_name_list[:50]:\n",
    "    imageA = Image.open('../input/audio/silence/' + image_name)\n",
    "    data[index] = imageA\n",
    "    index+=1    \n",
    "\n",
    "# Unknown : 20 pictures from the rest\n",
    "    \n",
    "image_name_list = cat\n",
    "for image_name in image_name_list[:200]:\n",
    "    imageA = Image.open('../input/audio/cat/' + image_name)\n",
    "    data[index] = imageA\n",
    "    index+=1\n",
    "     \n",
    "image_name_list = four\n",
    "for image_name in image_name_list[:200]:\n",
    "    imageA = Image.open('../input/audio/four/' + image_name)\n",
    "    data[index] = imageA\n",
    "    index+=1\n",
    "    \n",
    "image_name_list = house\n",
    "for image_name in image_name_list[:200]:\n",
    "    imageA = Image.open('../input/audio/house/' + image_name)\n",
    "    data[index] = imageA\n",
    "    index+=1\n",
    "    \n",
    "image_name_list = nine\n",
    "for image_name in image_name_list[:200]:\n",
    "    imageA = Image.open('../input/audio/nine/' + image_name)\n",
    "    data[index] = imageA\n",
    "    index+=1\n",
    "    \n",
    "image_name_list = seven\n",
    "for image_name in image_name_list[:200]:\n",
    "    imageA = Image.open('../input/audio/seven/' + image_name)\n",
    "    data[index] = imageA\n",
    "    index+=1\n",
    "    \n",
    "image_name_list = two\n",
    "for image_name in image_name_list[:200]:\n",
    "    imageA = Image.open('../input/audio/two/' + image_name)\n",
    "    data[index] = imageA\n",
    "    index+=1\n",
    "\n",
    "image_name_list = bed\n",
    "for image_name in image_name_list[:200]:\n",
    "    imageA = Image.open('../input/audio/bed/' + image_name)\n",
    "    data[index] = imageA\n",
    "    index+=1\n",
    "    \n",
    "image_name_list = eight\n",
    "for image_name in image_name_list[:200]:\n",
    "    imageA = Image.open('../input/audio/eight/' + image_name)\n",
    "    data[index] = imageA\n",
    "    index+=1\n",
    "    \n",
    "image_name_list = one\n",
    "for image_name in image_name_list[:200]:\n",
    "    imageA = Image.open('../input/audio/one/' + image_name)\n",
    "    data[index] = imageA\n",
    "    index+=1\n",
    "    \n",
    "image_name_list = sheila\n",
    "for image_name in image_name_list[:200]:\n",
    "    imageA = Image.open('../input/audio/sheila/' + image_name)\n",
    "    data[index] = imageA\n",
    "    index+=1\n",
    "    \n",
    "image_name_list = three\n",
    "for image_name in image_name_list[:200]:\n",
    "    imageA = plt.imread('../input/audio/three/' + image_name)\n",
    "    data[index] = imageA\n",
    "    index+=1\n",
    "    \n",
    "image_name_list = zero\n",
    "for image_name in image_name_list[:200]:\n",
    "    imageA = Image.open('../input/audio/zero/' + image_name)\n",
    "    data[index] = imageA\n",
    "    index+=1\n",
    "    \n",
    "image_name_list = bird\n",
    "for image_name in image_name_list[:200]:\n",
    "    imageA = Image.open('../input/audio/bird/' + image_name)\n",
    "    data[index] = imageA\n",
    "    index+=1\n",
    "    \n",
    "image_name_list = dog\n",
    "for image_name in image_name_list[:200]:\n",
    "    imageA = Image.open('../input/audio/dog/' + image_name)\n",
    "    data[index] = imageA\n",
    "    index+=1\n",
    "    \n",
    "image_name_list = five\n",
    "for image_name in image_name_list[:200]:\n",
    "    imageA = Image.open('../input/audio/five/' + image_name)\n",
    "    data[index] = imageA\n",
    "    index+=1\n",
    "    \n",
    "image_name_list = happy\n",
    "for image_name in image_name_list[:200]:\n",
    "    imageA = Image.open('../input/audio/happy/' + image_name)\n",
    "    data[index] = imageA\n",
    "    index+=1\n",
    "    \n",
    "image_name_list = marvin\n",
    "for image_name in image_name_list[:200]:\n",
    "    imageA = Image.open('../input/audio/marvin/' + image_name)\n",
    "    data[index] = imageA\n",
    "    index+=1 \n",
    "    \n",
    "image_name_list = six\n",
    "for image_name in image_name_list[:200]:\n",
    "    imageA = Image.open('../input/audio/six/' + image_name)\n",
    "    data[index] = imageA\n",
    "    index+=1\n",
    "    \n",
    "image_name_list = tree\n",
    "for image_name in image_name_list[:200]:\n",
    "    imageA = Image.open('../input/audio/tree/' + image_name)\n",
    "    data[index] = imageA\n",
    "    index+=1\n",
    "    \n",
    "image_name_list = wow\n",
    "for image_name in image_name_list[:200]:\n",
    "    imageA = Image.open('../input/audio/wow/' + image_name)\n",
    "    data[index] = imageA\n",
    "    index+=1"
   ]
  },
  {
   "cell_type": "code",
   "execution_count": 60,
   "metadata": {},
   "outputs": [
    {
     "data": {
      "text/plain": [
       "(6050, 96, 96, 3)"
      ]
     },
     "execution_count": 60,
     "metadata": {},
     "output_type": "execute_result"
    }
   ],
   "source": [
    "# 4800 data sets with 30 classes and 100 spectrograms in each class\n",
    "data.shape"
   ]
  },
  {
   "cell_type": "code",
   "execution_count": 61,
   "metadata": {
    "scrolled": true
   },
   "outputs": [
    {
     "data": {
      "text/plain": [
       "array([[[255., 255., 255.],\n",
       "        [255., 255., 250.],\n",
       "        [255., 255., 231.],\n",
       "        ...,\n",
       "        [255., 255., 253.],\n",
       "        [255., 255., 255.],\n",
       "        [255., 255., 255.]],\n",
       "\n",
       "       [[255., 255., 254.],\n",
       "        [255., 255., 223.],\n",
       "        [255., 255., 228.],\n",
       "        ...,\n",
       "        [255., 255., 248.],\n",
       "        [255., 255., 254.],\n",
       "        [255., 255., 239.]],\n",
       "\n",
       "       [[255., 255., 220.],\n",
       "        [255., 255., 191.],\n",
       "        [255., 255., 218.],\n",
       "        ...,\n",
       "        [255., 255., 197.],\n",
       "        [255., 255., 213.],\n",
       "        [255., 255., 181.]],\n",
       "\n",
       "       ...,\n",
       "\n",
       "       [[248.,  66.,   2.],\n",
       "        [240.,  16.,   8.],\n",
       "        [242.,  20.,   4.],\n",
       "        ...,\n",
       "        [244.,  32.,   2.],\n",
       "        [242.,  24.,   5.],\n",
       "        [244.,  34.,   3.]],\n",
       "\n",
       "       [[253., 115.,   0.],\n",
       "        [247.,  59.,   3.],\n",
       "        [244.,  38.,   4.],\n",
       "        ...,\n",
       "        [247.,  55.,   1.],\n",
       "        [247.,  61.,   4.],\n",
       "        [244.,  34.,   4.]],\n",
       "\n",
       "       [[255., 166.,   2.],\n",
       "        [255., 181.,   8.],\n",
       "        [254., 169.,  22.],\n",
       "        ...,\n",
       "        [254., 160.,  10.],\n",
       "        [254., 199., 105.],\n",
       "        [253., 162.,  78.]]], dtype=float32)"
      ]
     },
     "execution_count": 61,
     "metadata": {},
     "output_type": "execute_result"
    }
   ],
   "source": [
    "# check if the end is not empty meaning that 3000 has all been transferred\n",
    "data[-1]"
   ]
  },
  {
   "cell_type": "code",
   "execution_count": 62,
   "metadata": {},
   "outputs": [],
   "source": [
    "data = data/255"
   ]
  },
  {
   "cell_type": "code",
   "execution_count": 63,
   "metadata": {
    "scrolled": true
   },
   "outputs": [
    {
     "name": "stdout",
     "output_type": "stream",
     "text": [
      "(96, 96, 3)\n"
     ]
    },
    {
     "data": {
      "image/png": "[encoded data removed]",
      "text/plain": [
       "<Figure size 432x288 with 1 Axes>"
      ]
     },
     "metadata": {
      "needs_background": "light"
     },
     "output_type": "display_data"
    }
   ],
   "source": [
    "#show one image\n",
    "plt.imshow(data[456])\n",
    "print(data[456].shape)"
   ]
  },
  {
   "cell_type": "code",
   "execution_count": 64,
   "metadata": {},
   "outputs": [
    {
     "name": "stdout",
     "output_type": "stream",
     "text": [
      "min of pixel : 0.0\n",
      "max of pixel : 1.0\n"
     ]
    }
   ],
   "source": [
    "print(\"min of pixel : \" + str(data[0].min()))\n",
    "print(\"max of pixel : \" + str(data[0].max()))"
   ]
  },
  {
   "cell_type": "code",
   "execution_count": 65,
   "metadata": {},
   "outputs": [
    {
     "data": {
      "text/plain": [
       "'\\n#concatenate all the flattened spectrograms in order\\nfl_data = np.empty((4800,2500), dtype=np.float32)\\n\\nfor i in range(len(data)):\\n    flat = data[i].flatten()\\n    fl_data[i] = flat\\n'"
      ]
     },
     "execution_count": 65,
     "metadata": {},
     "output_type": "execute_result"
    }
   ],
   "source": [
    "\"\"\"\n",
    "#concatenate all the flattened spectrograms in order\n",
    "fl_data = np.empty((4800,2500), dtype=np.float32)\n",
    "\n",
    "for i in range(len(data)):\n",
    "    flat = data[i].flatten()\n",
    "    fl_data[i] = flat\n",
    "\"\"\""
   ]
  },
  {
   "cell_type": "code",
   "execution_count": 66,
   "metadata": {},
   "outputs": [
    {
     "data": {
      "text/plain": [
       "'\\n# check if transferred all\\nprint(\"size : \" + str(fl_data.shape))\\nprint(fl_data[-1])\\n'"
      ]
     },
     "execution_count": 66,
     "metadata": {},
     "output_type": "execute_result"
    }
   ],
   "source": [
    "\"\"\"\n",
    "# check if transferred all\n",
    "print(\"size : \" + str(fl_data.shape))\n",
    "print(fl_data[-1])\n",
    "\"\"\""
   ]
  },
  {
   "cell_type": "code",
   "execution_count": 67,
   "metadata": {},
   "outputs": [],
   "source": [
    "#for i in range(30):\n",
    "#    print(i % 10)"
   ]
  },
  {
   "cell_type": "code",
   "execution_count": 68,
   "metadata": {},
   "outputs": [],
   "source": [
    "#unique\n",
    "def unique(list1): \n",
    "  \n",
    "    # intilize a null list \n",
    "    unique_list = [] \n",
    "      \n",
    "    # traverse for all elements \n",
    "    for x in list1: \n",
    "        # check if exists in unique_list or not \n",
    "        if x not in unique_list: \n",
    "            unique_list.append(x)\n",
    "    # print list \n",
    "    for x in unique_list: \n",
    "        print (x) "
   ]
  },
  {
   "cell_type": "code",
   "execution_count": 69,
   "metadata": {},
   "outputs": [],
   "source": [
    "# create labels\n",
    "label = np.zeros((200,), dtype=int)\n",
    "\n",
    "for i in range(1, 10):\n",
    "    label = np.concatenate((label, np.repeat(i, 200)))\n",
    "    \n",
    "label = np.concatenate((label, np.repeat(10, 50)))\n",
    "label = np.concatenate((label, np.repeat(11, 4000)))"
   ]
  },
  {
   "cell_type": "code",
   "execution_count": 70,
   "metadata": {},
   "outputs": [
    {
     "name": "stdout",
     "output_type": "stream",
     "text": [
      "0\n",
      "1\n",
      "2\n",
      "3\n",
      "4\n",
      "5\n",
      "6\n",
      "7\n",
      "8\n",
      "9\n",
      "10\n",
      "11\n"
     ]
    }
   ],
   "source": [
    "# check uniques\n",
    "unique(label)"
   ]
  },
  {
   "cell_type": "code",
   "execution_count": 71,
   "metadata": {},
   "outputs": [
    {
     "name": "stdout",
     "output_type": "stream",
     "text": [
      "(6050,)\n",
      "<class 'numpy.int64'>\n"
     ]
    }
   ],
   "source": [
    "print(label.shape)\n",
    "print(type(label[0]))"
   ]
  },
  {
   "cell_type": "code",
   "execution_count": 72,
   "metadata": {},
   "outputs": [],
   "source": [
    "#label = label.reshape((4800,1))"
   ]
  },
  {
   "cell_type": "code",
   "execution_count": 73,
   "metadata": {},
   "outputs": [],
   "source": [
    "#type(np.float64(label[0][0]))"
   ]
  },
  {
   "cell_type": "code",
   "execution_count": 74,
   "metadata": {},
   "outputs": [
    {
     "data": {
      "text/plain": [
       "(6050,)"
      ]
     },
     "execution_count": 74,
     "metadata": {},
     "output_type": "execute_result"
    }
   ],
   "source": [
    "label.shape"
   ]
  },
  {
   "cell_type": "code",
   "execution_count": 75,
   "metadata": {},
   "outputs": [],
   "source": [
    "#fl_data.shape"
   ]
  },
  {
   "cell_type": "code",
   "execution_count": 76,
   "metadata": {},
   "outputs": [
    {
     "data": {
      "text/plain": [
       "'\\n#one hot encode the lable\\nb = np.zeros((label.size, label.max()+1))\\nb[np.arange(label.size), label] = 1\\n#labels = b\\n'"
      ]
     },
     "execution_count": 76,
     "metadata": {},
     "output_type": "execute_result"
    }
   ],
   "source": [
    "\"\"\"\n",
    "#one hot encode the lable\n",
    "b = np.zeros((label.size, label.max()+1))\n",
    "b[np.arange(label.size), label] = 1\n",
    "#labels = b\n",
    "\"\"\""
   ]
  },
  {
   "cell_type": "markdown",
   "metadata": {},
   "source": [
    "### check on prepared datasets"
   ]
  },
  {
   "cell_type": "code",
   "execution_count": 77,
   "metadata": {},
   "outputs": [
    {
     "data": {
      "text/plain": [
       "'\\nprint(fl_data.shape)\\nprint(labels.shape)\\n'"
      ]
     },
     "execution_count": 77,
     "metadata": {},
     "output_type": "execute_result"
    }
   ],
   "source": [
    "\"\"\"\n",
    "print(fl_data.shape)\n",
    "print(labels.shape)\n",
    "\"\"\""
   ]
  },
  {
   "cell_type": "markdown",
   "metadata": {},
   "source": [
    "### Before dividing into train and test sets, let's combine so we can shuffle"
   ]
  },
  {
   "cell_type": "code",
   "execution_count": 78,
   "metadata": {},
   "outputs": [],
   "source": [
    "#a=np.concatenate((fl_data, label), axis=1)\n",
    "#a.shape"
   ]
  },
  {
   "cell_type": "code",
   "execution_count": 79,
   "metadata": {},
   "outputs": [],
   "source": [
    "#shuffle\n",
    "#np.random.shuffle(a)"
   ]
  },
  {
   "cell_type": "code",
   "execution_count": 80,
   "metadata": {},
   "outputs": [],
   "source": [
    "#how to slice the labels again\n",
    "#new_labels=a[:,-1:]#.sum()\n",
    "#new_labels.shape"
   ]
  },
  {
   "cell_type": "code",
   "execution_count": 81,
   "metadata": {},
   "outputs": [],
   "source": [
    "#how to slice the train again\n",
    "#train_data=a[:,:2500]\n",
    "#train_data.shape"
   ]
  },
  {
   "cell_type": "code",
   "execution_count": 82,
   "metadata": {},
   "outputs": [
    {
     "data": {
      "text/plain": [
       "((4840, 96, 96, 3), (1210, 96, 96, 3), (4840,), (1210,))"
      ]
     },
     "execution_count": 82,
     "metadata": {},
     "output_type": "execute_result"
    }
   ],
   "source": [
    "from sklearn.model_selection import train_test_split\n",
    "x_train, x_val, y_train, y_val = train_test_split(data, label, test_size = 0.2)\n",
    "x_train.shape, x_val.shape, y_train.shape, y_val.shape"
   ]
  },
  {
   "cell_type": "code",
   "execution_count": 83,
   "metadata": {},
   "outputs": [
    {
     "data": {
      "text/plain": [
       "'\\nx_train = train_data[:4000]\\nprint(\"train : \" + str(x_train.shape))\\nx_val = train_data[4000:]\\nprint(\"train validation : \" + str(x_val.shape))\\ny_train = new_labels[:4000]\\ny_train = np.int64(y_train)\\nprint(\"train label : \" + str(y_train.shape))\\ny_val = new_labels[4000:]\\ny_val = np.int64(y_val)\\nprint(\"train validation label : \" + str(y_val.shape))\\n'"
      ]
     },
     "execution_count": 83,
     "metadata": {},
     "output_type": "execute_result"
    }
   ],
   "source": [
    "\"\"\"\n",
    "x_train = train_data[:4000]\n",
    "print(\"train : \" + str(x_train.shape))\n",
    "x_val = train_data[4000:]\n",
    "print(\"train validation : \" + str(x_val.shape))\n",
    "y_train = new_labels[:4000]\n",
    "y_train = np.int64(y_train)\n",
    "print(\"train label : \" + str(y_train.shape))\n",
    "y_val = new_labels[4000:]\n",
    "y_val = np.int64(y_val)\n",
    "print(\"train validation label : \" + str(y_val.shape))\n",
    "\"\"\""
   ]
  },
  {
   "cell_type": "code",
   "execution_count": 84,
   "metadata": {},
   "outputs": [
    {
     "data": {
      "text/plain": [
       "'\\n#change data types to df\\nx_train = pd.DataFrame(x_train)\\nx_val = pd.DataFrame(x_val)\\ny_train = pd.DataFrame(y_train)\\ny_val = pd.DataFrame(y_val)\\n'"
      ]
     },
     "execution_count": 84,
     "metadata": {},
     "output_type": "execute_result"
    }
   ],
   "source": [
    "\"\"\"\n",
    "#change data types to df\n",
    "x_train = pd.DataFrame(x_train)\n",
    "x_val = pd.DataFrame(x_val)\n",
    "y_train = pd.DataFrame(y_train)\n",
    "y_val = pd.DataFrame(y_val)\n",
    "\"\"\""
   ]
  },
  {
   "cell_type": "code",
   "execution_count": 85,
   "metadata": {},
   "outputs": [
    {
     "name": "stdout",
     "output_type": "stream",
     "text": [
      "<class 'numpy.ndarray'>\n",
      "<class 'numpy.int32'>\n",
      "<class 'numpy.ndarray'>\n",
      "<class 'numpy.int32'>\n"
     ]
    }
   ],
   "source": [
    "print(type(x_train[0][0][0]))\n",
    "y_train = np.int32(y_train)\n",
    "print(type(y_train[0]))\n",
    "print(type(x_val[0][0][0]))\n",
    "y_val = np.int32(y_val)\n",
    "print(type(y_val[0]))"
   ]
  },
  {
   "cell_type": "code",
   "execution_count": 86,
   "metadata": {},
   "outputs": [
    {
     "name": "stdout",
     "output_type": "stream",
     "text": [
      "(4840, 96, 96, 3)\n",
      "(4840,)\n",
      "(1210, 96, 96, 3)\n",
      "(1210,)\n"
     ]
    }
   ],
   "source": [
    "print(x_train.shape)\n",
    "print(y_train.shape)\n",
    "print(x_val.shape)\n",
    "print(y_val.shape)"
   ]
  },
  {
   "cell_type": "markdown",
   "metadata": {},
   "source": [
    "## CNN Helper f(x)"
   ]
  },
  {
   "cell_type": "code",
   "execution_count": 3,
   "metadata": {},
   "outputs": [],
   "source": [
    "def cnn_model_fn(features, labels, mode):\n",
    "  # Input Layer\n",
    "    input_layer = tf.reshape(features, [-1, 96, 96, 3])\n",
    "\n",
    "  # Convolutional Layer #1\n",
    "    conv1 = tf.layers.conv2d(\n",
    "      inputs=input_layer,\n",
    "      filters=32,\n",
    "      kernel_size=[5, 5],\n",
    "      padding=\"same\",\n",
    "      activation=tf.nn.relu)\n",
    "\n",
    "  # Pooling Layer #1\n",
    "    pool1 = tf.layers.max_pooling2d(inputs=conv1, pool_size=[2, 2], strides=2) \n",
    "\n",
    "  # Convolutional Layer #2 and Pooling Layer #2\n",
    "    conv2 = tf.layers.conv2d(\n",
    "      inputs=pool1,\n",
    "      filters=64,\n",
    "      kernel_size=[5, 5],\n",
    "      padding=\"same\",\n",
    "      activation=tf.nn.relu)\n",
    "    pool2 = tf.layers.max_pooling2d(inputs=conv2, pool_size=[2, 2], strides=2)\n",
    "\n",
    "  # Dense Layer\n",
    "    pool2_flat = tf.reshape(pool2, [-1, 36864])\n",
    "    dense = tf.layers.dense(inputs=pool2_flat, units=1024, activation=tf.nn.relu)\n",
    "    dropout = tf.layers.dropout(\n",
    "      inputs=dense, rate=0.4, training=mode == tf.estimator.ModeKeys.TRAIN)\n",
    "\n",
    "  # Logits Layer\n",
    "    logits = tf.layers.dense(inputs=dropout, units=12)\n",
    "\n",
    "    predictions = {\n",
    "      # Generate predictions (for PREDICT and EVAL mode)\n",
    "      \"classes\": tf.argmax(input=logits, axis=1),\n",
    "      # Add `softmax_tensor` to the graph. It is used for PREDICT and by the\n",
    "      # `logging_hook`.\n",
    "      \"probabilities\": tf.nn.softmax(logits, name=\"softmax_tensor\")\n",
    "    }\n",
    "    \n",
    "    if mode == tf.estimator.ModeKeys.PREDICT:\n",
    "        return tf.estimator.EstimatorSpec(mode=mode, predictions=predictions)\n",
    "\n",
    "    # Calculate Loss (for both TRAIN and EVAL modes)\n",
    "    loss = tf.losses.sparse_softmax_cross_entropy(labels=labels, logits=logits)\n",
    "    # here we define how we calculate our accuracy\n",
    "    # if you want to monitor your training accuracy you need these two lines\n",
    "    accuracy = tf.metrics.accuracy(labels=labels, predictions=predictions['classes'], name='acc_op')\n",
    "    tf.summary.scalar('accuracy', accuracy[1])\n",
    "    # Configure the Training Op (for TRAIN mode)\n",
    "    if mode == tf.estimator.ModeKeys.TRAIN:\n",
    "        optimizer = tf.train.GradientDescentOptimizer(learning_rate=0.01)\n",
    "        train_op = optimizer.minimize(\n",
    "            loss=loss,\n",
    "            global_step=tf.train.get_global_step())\n",
    "        tf.identity(accuracy[1], name='train_accuracy')\n",
    "        tf.summary.scalar('train_accuracy', accuracy[1])\n",
    "        eval_metric_ops = {'train_accuracy':accuracy}\n",
    "        return tf.estimator.EstimatorSpec(mode=mode, loss=loss, train_op=train_op, eval_metric_ops=eval_metric_ops)\n",
    "\n",
    "    # Add evaluation metrics (for EVAL mode)\n",
    "    tf.identity(accuracy[1], name='val_accuracy')\n",
    "    tf.summary.scalar('val_accuracy', accuracy[1])\n",
    "    eval_metric_ops = {'val_accuracy':accuracy}\n",
    "    #eval_metric_ops = {\n",
    "    #  \"accuracy\": tf.metrics.accuracy(\n",
    "    #      labels=labels, predictions=predictions[\"classes\"])}\n",
    "    return tf.estimator.EstimatorSpec(\n",
    "        mode=mode, loss=loss, eval_metric_ops=eval_metric_ops)"
   ]
  },
  {
   "cell_type": "code",
   "execution_count": 4,
   "metadata": {},
   "outputs": [],
   "source": [
    "def construct_feature_columns():\n",
    "    return set([tf.feature_column.numeric_column('pixels', shape=9216)])"
   ]
  },
  {
   "cell_type": "code",
   "execution_count": 5,
   "metadata": {},
   "outputs": [],
   "source": [
    "def create_predict_input_fn(features, labels, batch_size):\n",
    "    predict_input_fn = tf.estimator.inputs.numpy_input_fn(\n",
    "        x=features,\n",
    "        y=labels,\n",
    "        num_epochs=1,\n",
    "        shuffle=False)\n",
    "    return predict_input_fn\n",
    "\n",
    "def create_training_input_fn(features, labels, batch_size):\n",
    "    train_input_fn = tf.estimator.inputs.numpy_input_fn(\n",
    "        x=features,\n",
    "        y=labels,\n",
    "        batch_size=batch_size,\n",
    "        num_epochs=None,\n",
    "        shuffle=True)\n",
    "    return train_input_fn"
   ]
  },
  {
   "cell_type": "code",
   "execution_count": 6,
   "metadata": {},
   "outputs": [
    {
     "ename": "NameError",
     "evalue": "name 'x_train' is not defined",
     "output_type": "error",
     "traceback": [
      "\u001b[0;31m---------------------------------------------------------------------------\u001b[0m",
      "\u001b[0;31mNameError\u001b[0m                                 Traceback (most recent call last)",
      "\u001b[0;32m<ipython-input-6-6100f589aaca>\u001b[0m in \u001b[0;36m<module>\u001b[0;34m\u001b[0m\n\u001b[0;32m----> 1\u001b[0;31m \u001b[0mtraining_examples\u001b[0m \u001b[0;34m=\u001b[0m \u001b[0mx_train\u001b[0m\u001b[0;34m\u001b[0m\u001b[0;34m\u001b[0m\u001b[0m\n\u001b[0m\u001b[1;32m      2\u001b[0m \u001b[0mvalidation_examples\u001b[0m \u001b[0;34m=\u001b[0m \u001b[0mx_val\u001b[0m\u001b[0;34m\u001b[0m\u001b[0;34m\u001b[0m\u001b[0m\n\u001b[1;32m      3\u001b[0m \u001b[0mtraining_targets\u001b[0m \u001b[0;34m=\u001b[0m \u001b[0my_train\u001b[0m\u001b[0;34m\u001b[0m\u001b[0;34m\u001b[0m\u001b[0m\n\u001b[1;32m      4\u001b[0m \u001b[0mvalidation_targets\u001b[0m \u001b[0;34m=\u001b[0m \u001b[0my_val\u001b[0m\u001b[0;34m\u001b[0m\u001b[0;34m\u001b[0m\u001b[0m\n",
      "\u001b[0;31mNameError\u001b[0m: name 'x_train' is not defined"
     ]
    }
   ],
   "source": [
    "training_examples = x_train\n",
    "validation_examples = x_val\n",
    "training_targets = y_train\n",
    "validation_targets = y_val"
   ]
  },
  {
   "cell_type": "code",
   "execution_count": null,
   "metadata": {},
   "outputs": [],
   "source": [
    "def train_hub_classification_model(\n",
    "    learning_rate,\n",
    "    steps,\n",
    "    batch_size,\n",
    "    hidden_units,\n",
    "    training_examples,\n",
    "    training_targets,\n",
    "    validation_examples,\n",
    "    validation_targets):\n",
    "\n",
    "    periods = 10\n",
    "    steps_per_period = steps / periods \n",
    "    \n",
    "    predict_training_input_fn = create_predict_input_fn(training_examples, training_targets, batch_size)\n",
    "    predict_validation_input_fn = create_predict_input_fn(validation_examples, validation_targets, batch_size)\n",
    "  \n",
    "    training_input_fn = create_training_input_fn(training_examples, training_targets, batch_size)\n",
    "    predict_training_input_fn = create_predict_input_fn(training_examples, training_targets, batch_size)\n",
    "    \n",
    "    predict_validation_input_fn = create_predict_input_fn(validation_examples, validation_targets, batch_size)\n",
    "    training_input_fn = create_training_input_fn(training_examples, training_targets, batch_size)\n",
    "  \n",
    "    feature_columns = [tf.feature_column.numeric_column('pixels', shape=9216)]\n",
    "\n",
    "    my_optimizer = tf.train.AdagradOptimizer(learning_rate=learning_rate)\n",
    "    my_optimizer = tf.contrib.estimator.clip_gradients_by_norm(my_optimizer, 5.0)\n",
    "\n",
    "    classifier = tf.estimator.Estimator(\n",
    "    model_fn=cnn_model_fn,\n",
    "    model_dir=\"./mode_CNN_10\"\n",
    "    )\n",
    "\n",
    "    \n",
    "    print(\"Training model...\")\n",
    "    print(\"LogLoss error (on validation data):\")\n",
    "    training_errors = []\n",
    "    validation_errors = []\n",
    "    training_accu = []\n",
    "    validation_accu = []\n",
    "    for period in range (0, periods):\n",
    "        classifier.train(\n",
    "            input_fn=training_input_fn,\n",
    "            steps=steps_per_period,\n",
    "        )\n",
    "        training_predictions = list(classifier.predict(input_fn=predict_training_input_fn))\n",
    "        training_probabilities = np.array([item['probabilities'] for item in training_predictions])\n",
    "        training_pred_class_id = np.array([item['classes'] for item in training_predictions])\n",
    "        training_pred_one_hot = tf.keras.utils.to_categorical(training_pred_class_id,12) #change class number\n",
    "\n",
    "        validation_predictions = list(classifier.predict(input_fn=predict_validation_input_fn))\n",
    "        validation_probabilities = np.array([item['probabilities'] for item in validation_predictions])    \n",
    "        validation_pred_class_id = np.array([item['classes'] for item in validation_predictions])\n",
    "        validation_pred_one_hot = tf.keras.utils.to_categorical(validation_pred_class_id,12) #change class number\n",
    "\n",
    "        # Compute training and validation errors.\n",
    "        training_log_loss = metrics.log_loss(training_targets, training_pred_one_hot)\n",
    "        #training_acc = metrics.accuracy_score(training_targets, training_predictions)\n",
    "        validation_log_loss = metrics.log_loss(validation_targets, validation_pred_one_hot)\n",
    "        #validation_acc = metrics.accuracy_score(validation_targets, validation_predictions)\n",
    "        # Occasionally print the current loss.\n",
    "        print(\"  period %02d : %0.2f\" % (period, validation_log_loss))\n",
    "        # Add the loss metrics from this period to our list.\n",
    "        training_errors.append(training_log_loss)\n",
    "        validation_errors.append(validation_log_loss)\n",
    "        #training_accu.append(training_acc)\n",
    "        #validation_accu.append(validation_acc)\n",
    "        \n",
    "    print(\"Model training finished.\")\n",
    "    # Remove event files to save disk space.\n",
    "    _ = map(os.remove, glob.glob(os.path.join(classifier.model_dir, 'events.out.tfevents*')))\n",
    "\n",
    "    # Calculate final predictions (not probabilities, as above).\n",
    "    final_predictions = classifier.predict(input_fn=predict_validation_input_fn)\n",
    "    final_predictions = np.array([item['classes'] for item in final_predictions])\n",
    "\n",
    "\n",
    "    accuracy = metrics.accuracy_score(validation_targets, final_predictions)\n",
    "    print(\"Final accuracy (on validation data): %0.2f\" % accuracy)\n",
    "\n",
    "    # Output a graph of loss metrics over periods.\n",
    "    plt.ylabel(\"LogLoss\")\n",
    "    plt.xlabel(\"Periods\")\n",
    "    plt.title(\"LogLoss vs. Periods\")\n",
    "    plt.plot(training_errors, label=\"training\")\n",
    "    plt.plot(validation_errors, label=\"validation\")\n",
    "    plt.legend()\n",
    "    plt.show()\n",
    "    \n",
    "    #plt.ylabel(\"Accuracy\")\n",
    "    #plt.xlabel(\"Periods\")\n",
    "    #plt.title(\"Accuracy vs. Periods\")\n",
    "    #plt.plot(training_accu, label=\"training\")\n",
    "    #plt.plot(validation_accu, label=\"validation\")\n",
    "    #plt.legend()\n",
    "    #plt.show()\n",
    "\n",
    "    # Output a plot of the confusion matrix.\n",
    "    cm = metrics.confusion_matrix(validation_targets, final_predictions)\n",
    "    # Normalize the confusion matrix by row (i.e by the number of samples\n",
    "    # in each class).\n",
    "    cm_normalized = cm.astype(\"float\") / cm.sum(axis=1)[:, np.newaxis]\n",
    "    ax = sns.heatmap(cm_normalized, cmap=\"bone_r\")\n",
    "    ax.set_aspect(1)\n",
    "    plt.title(\"Confusion matrix\")\n",
    "    plt.ylabel(\"True label\")\n",
    "    plt.xlabel(\"Predicted label\")\n",
    "    plt.show()\n",
    "\n",
    "    return classifier"
   ]
  },
  {
   "cell_type": "code",
   "execution_count": null,
   "metadata": {},
   "outputs": [],
   "source": []
  },
  {
   "cell_type": "code",
   "execution_count": null,
   "metadata": {},
   "outputs": [],
   "source": [
    "#validation accuracy\n",
    "file_writer = tf.summary.FileWriter('./mode_CNN_10')"
   ]
  },
  {
   "cell_type": "code",
   "execution_count": null,
   "metadata": {},
   "outputs": [],
   "source": []
  },
  {
   "cell_type": "code",
   "execution_count": 92,
   "metadata": {},
   "outputs": [
    {
     "name": "stdout",
     "output_type": "stream",
     "text": [
      "(1210, 96, 96, 3)\n",
      "1210\n"
     ]
    }
   ],
   "source": [
    "#len(set(training_targets))\n",
    "#validation_targets\n",
    "print(validation_examples.shape)\n",
    "print(len(validation_examples))"
   ]
  },
  {
   "cell_type": "code",
   "execution_count": 93,
   "metadata": {},
   "outputs": [
    {
     "name": "stdout",
     "output_type": "stream",
     "text": [
      "12\n",
      "12\n"
     ]
    }
   ],
   "source": [
    "print(len(set(validation_targets)))\n",
    "print(len(set(training_targets)))"
   ]
  },
  {
   "cell_type": "code",
   "execution_count": 95,
   "metadata": {
    "scrolled": false
   },
   "outputs": [
    {
     "name": "stdout",
     "output_type": "stream",
     "text": [
      "INFO:tensorflow:Using default config.\n",
      "INFO:tensorflow:Using config: {'_model_dir': './mode_CNN_10', '_tf_random_seed': None, '_save_summary_steps': 100, '_save_checkpoints_steps': None, '_save_checkpoints_secs': 600, '_session_config': allow_soft_placement: true\n",
      "graph_options {\n",
      "  rewrite_options {\n",
      "    meta_optimizer_iterations: ONE\n",
      "  }\n",
      "}\n",
      ", '_keep_checkpoint_max': 5, '_keep_checkpoint_every_n_hours': 10000, '_log_step_count_steps': 100, '_train_distribute': None, '_device_fn': None, '_protocol': None, '_eval_distribute': None, '_experimental_distribute': None, '_service': None, '_cluster_spec': <tensorflow.python.training.server_lib.ClusterSpec object at 0x7fea5cd81e48>, '_task_type': 'worker', '_task_id': 0, '_global_id_in_cluster': 0, '_master': '', '_evaluation_master': '', '_is_chief': True, '_num_ps_replicas': 0, '_num_worker_replicas': 1}\n",
      "Training model...\n",
      "LogLoss error (on validation data):\n",
      "WARNING:tensorflow:From /usr/local/lib/python3.6/dist-packages/tensorflow/python/estimator/inputs/queues/feeding_queue_runner.py:62: QueueRunner.__init__ (from tensorflow.python.training.queue_runner_impl) is deprecated and will be removed in a future version.\n",
      "Instructions for updating:\n",
      "To construct input pipelines, use the `tf.data` module.\n",
      "WARNING:tensorflow:From /usr/local/lib/python3.6/dist-packages/tensorflow/python/estimator/inputs/queues/feeding_functions.py:500: add_queue_runner (from tensorflow.python.training.queue_runner_impl) is deprecated and will be removed in a future version.\n",
      "Instructions for updating:\n",
      "To construct input pipelines, use the `tf.data` module.\n",
      "INFO:tensorflow:Calling model_fn.\n",
      "INFO:tensorflow:Done calling model_fn.\n",
      "INFO:tensorflow:Create CheckpointSaverHook.\n",
      "INFO:tensorflow:Graph was finalized.\n",
      "INFO:tensorflow:Running local_init_op.\n",
      "INFO:tensorflow:Done running local_init_op.\n",
      "WARNING:tensorflow:From /usr/local/lib/python3.6/dist-packages/tensorflow/python/training/monitored_session.py:804: start_queue_runners (from tensorflow.python.training.queue_runner_impl) is deprecated and will be removed in a future version.\n",
      "Instructions for updating:\n",
      "To construct input pipelines, use the `tf.data` module.\n",
      "INFO:tensorflow:Saving checkpoints for 0 into ./mode_CNN_10/model.ckpt.\n",
      "INFO:tensorflow:loss = 2.508147, step = 1\n",
      "INFO:tensorflow:global_step/sec: 3.51617\n",
      "INFO:tensorflow:loss = 1.7395655, step = 101 (28.442 sec)\n",
      "INFO:tensorflow:global_step/sec: 3.51253\n",
      "INFO:tensorflow:loss = 1.1126384, step = 201 (28.470 sec)\n",
      "INFO:tensorflow:global_step/sec: 3.50115\n",
      "INFO:tensorflow:loss = 1.381472, step = 301 (28.562 sec)\n",
      "INFO:tensorflow:global_step/sec: 3.54482\n",
      "INFO:tensorflow:loss = 2.4400313, step = 401 (28.210 sec)\n",
      "INFO:tensorflow:Saving checkpoints for 500 into ./mode_CNN_10/model.ckpt.\n",
      "INFO:tensorflow:Loss for final step: 1.6632487.\n",
      "INFO:tensorflow:Calling model_fn.\n",
      "INFO:tensorflow:Done calling model_fn.\n",
      "INFO:tensorflow:Graph was finalized.\n",
      "INFO:tensorflow:Restoring parameters from ./mode_CNN_10/model.ckpt-500\n",
      "INFO:tensorflow:Running local_init_op.\n",
      "INFO:tensorflow:Done running local_init_op.\n",
      "INFO:tensorflow:Calling model_fn.\n",
      "INFO:tensorflow:Done calling model_fn.\n",
      "INFO:tensorflow:Graph was finalized.\n",
      "INFO:tensorflow:Restoring parameters from ./mode_CNN_10/model.ckpt-500\n",
      "INFO:tensorflow:Running local_init_op.\n",
      "INFO:tensorflow:Done running local_init_op.\n",
      "  period 00 : 11.05\n",
      "INFO:tensorflow:Calling model_fn.\n",
      "INFO:tensorflow:Done calling model_fn.\n",
      "INFO:tensorflow:Create CheckpointSaverHook.\n",
      "INFO:tensorflow:Graph was finalized.\n",
      "INFO:tensorflow:Restoring parameters from ./mode_CNN_10/model.ckpt-500\n",
      "INFO:tensorflow:Running local_init_op.\n",
      "INFO:tensorflow:Done running local_init_op.\n",
      "INFO:tensorflow:Saving checkpoints for 500 into ./mode_CNN_10/model.ckpt.\n",
      "INFO:tensorflow:loss = 1.2747513, step = 501\n",
      "INFO:tensorflow:global_step/sec: 3.56608\n",
      "INFO:tensorflow:loss = 0.618323, step = 601 (28.044 sec)\n",
      "INFO:tensorflow:global_step/sec: 3.56973\n",
      "INFO:tensorflow:loss = 1.8711712, step = 701 (28.014 sec)\n",
      "INFO:tensorflow:global_step/sec: 3.5521\n",
      "INFO:tensorflow:loss = 1.3770916, step = 801 (28.152 sec)\n",
      "INFO:tensorflow:global_step/sec: 3.48642\n",
      "INFO:tensorflow:loss = 0.97620755, step = 901 (28.683 sec)\n",
      "INFO:tensorflow:Saving checkpoints for 1000 into ./mode_CNN_10/model.ckpt.\n",
      "INFO:tensorflow:Loss for final step: 1.5692718.\n",
      "INFO:tensorflow:Calling model_fn.\n",
      "INFO:tensorflow:Done calling model_fn.\n",
      "INFO:tensorflow:Graph was finalized.\n",
      "INFO:tensorflow:Restoring parameters from ./mode_CNN_10/model.ckpt-1000\n",
      "INFO:tensorflow:Running local_init_op.\n",
      "INFO:tensorflow:Done running local_init_op.\n",
      "INFO:tensorflow:Calling model_fn.\n",
      "INFO:tensorflow:Done calling model_fn.\n",
      "INFO:tensorflow:Graph was finalized.\n",
      "INFO:tensorflow:Restoring parameters from ./mode_CNN_10/model.ckpt-1000\n",
      "INFO:tensorflow:Running local_init_op.\n",
      "INFO:tensorflow:Done running local_init_op.\n",
      "  period 01 : 10.88\n",
      "INFO:tensorflow:Calling model_fn.\n",
      "INFO:tensorflow:Done calling model_fn.\n",
      "INFO:tensorflow:Create CheckpointSaverHook.\n",
      "INFO:tensorflow:Graph was finalized.\n",
      "INFO:tensorflow:Restoring parameters from ./mode_CNN_10/model.ckpt-1000\n",
      "INFO:tensorflow:Running local_init_op.\n",
      "INFO:tensorflow:Done running local_init_op.\n",
      "INFO:tensorflow:Saving checkpoints for 1000 into ./mode_CNN_10/model.ckpt.\n",
      "INFO:tensorflow:loss = 0.69054174, step = 1001\n",
      "INFO:tensorflow:global_step/sec: 3.54368\n",
      "INFO:tensorflow:loss = 1.0283259, step = 1101 (28.221 sec)\n",
      "INFO:tensorflow:global_step/sec: 3.55467\n",
      "INFO:tensorflow:loss = 1.9353554, step = 1201 (28.132 sec)\n",
      "INFO:tensorflow:global_step/sec: 3.55668\n",
      "INFO:tensorflow:loss = 2.114842, step = 1301 (28.116 sec)\n",
      "INFO:tensorflow:global_step/sec: 3.53552\n",
      "INFO:tensorflow:loss = 0.69521064, step = 1401 (28.284 sec)\n",
      "INFO:tensorflow:Saving checkpoints for 1500 into ./mode_CNN_10/model.ckpt.\n",
      "INFO:tensorflow:Loss for final step: 1.4169778.\n",
      "INFO:tensorflow:Calling model_fn.\n",
      "INFO:tensorflow:Done calling model_fn.\n",
      "INFO:tensorflow:Graph was finalized.\n",
      "INFO:tensorflow:Restoring parameters from ./mode_CNN_10/model.ckpt-1500\n",
      "INFO:tensorflow:Running local_init_op.\n",
      "INFO:tensorflow:Done running local_init_op.\n",
      "INFO:tensorflow:Calling model_fn.\n",
      "INFO:tensorflow:Done calling model_fn.\n",
      "INFO:tensorflow:Graph was finalized.\n",
      "INFO:tensorflow:Restoring parameters from ./mode_CNN_10/model.ckpt-1500\n",
      "INFO:tensorflow:Running local_init_op.\n",
      "INFO:tensorflow:Done running local_init_op.\n",
      "  period 02 : 10.76\n",
      "INFO:tensorflow:Calling model_fn.\n",
      "INFO:tensorflow:Done calling model_fn.\n",
      "INFO:tensorflow:Create CheckpointSaverHook.\n",
      "INFO:tensorflow:Graph was finalized.\n",
      "INFO:tensorflow:Restoring parameters from ./mode_CNN_10/model.ckpt-1500\n",
      "INFO:tensorflow:Running local_init_op.\n",
      "INFO:tensorflow:Done running local_init_op.\n",
      "INFO:tensorflow:Saving checkpoints for 1500 into ./mode_CNN_10/model.ckpt.\n",
      "INFO:tensorflow:loss = 0.9108783, step = 1501\n",
      "INFO:tensorflow:global_step/sec: 3.53786\n",
      "INFO:tensorflow:loss = 1.7766513, step = 1601 (28.268 sec)\n",
      "INFO:tensorflow:global_step/sec: 3.45804\n",
      "INFO:tensorflow:loss = 1.0257943, step = 1701 (28.919 sec)\n",
      "INFO:tensorflow:global_step/sec: 3.50592\n",
      "INFO:tensorflow:loss = 1.5206267, step = 1801 (28.523 sec)\n",
      "INFO:tensorflow:global_step/sec: 3.51057\n",
      "INFO:tensorflow:loss = 1.4483064, step = 1901 (28.485 sec)\n",
      "INFO:tensorflow:Saving checkpoints for 2000 into ./mode_CNN_10/model.ckpt.\n",
      "INFO:tensorflow:Loss for final step: 1.7245789.\n",
      "INFO:tensorflow:Calling model_fn.\n",
      "INFO:tensorflow:Done calling model_fn.\n",
      "INFO:tensorflow:Graph was finalized.\n",
      "INFO:tensorflow:Restoring parameters from ./mode_CNN_10/model.ckpt-2000\n",
      "INFO:tensorflow:Running local_init_op.\n",
      "INFO:tensorflow:Done running local_init_op.\n",
      "INFO:tensorflow:Calling model_fn.\n",
      "INFO:tensorflow:Done calling model_fn.\n",
      "INFO:tensorflow:Graph was finalized.\n",
      "INFO:tensorflow:Restoring parameters from ./mode_CNN_10/model.ckpt-2000\n",
      "INFO:tensorflow:Running local_init_op.\n",
      "INFO:tensorflow:Done running local_init_op.\n",
      "  period 03 : 10.56\n",
      "INFO:tensorflow:Calling model_fn.\n",
      "INFO:tensorflow:Done calling model_fn.\n",
      "INFO:tensorflow:Create CheckpointSaverHook.\n",
      "INFO:tensorflow:Graph was finalized.\n",
      "INFO:tensorflow:Restoring parameters from ./mode_CNN_10/model.ckpt-2000\n",
      "INFO:tensorflow:Running local_init_op.\n",
      "INFO:tensorflow:Done running local_init_op.\n",
      "INFO:tensorflow:Saving checkpoints for 2000 into ./mode_CNN_10/model.ckpt.\n"
     ]
    },
    {
     "name": "stdout",
     "output_type": "stream",
     "text": [
      "INFO:tensorflow:loss = 0.90663093, step = 2001\n",
      "INFO:tensorflow:global_step/sec: 3.48286\n",
      "INFO:tensorflow:loss = 1.0363153, step = 2101 (28.714 sec)\n",
      "INFO:tensorflow:global_step/sec: 3.45993\n",
      "INFO:tensorflow:loss = 1.6191555, step = 2201 (28.903 sec)\n",
      "INFO:tensorflow:global_step/sec: 3.51045\n",
      "INFO:tensorflow:loss = 0.40787145, step = 2301 (28.487 sec)\n",
      "INFO:tensorflow:global_step/sec: 3.50401\n",
      "INFO:tensorflow:loss = 0.99715376, step = 2401 (28.540 sec)\n",
      "INFO:tensorflow:Saving checkpoints for 2500 into ./mode_CNN_10/model.ckpt.\n",
      "INFO:tensorflow:Loss for final step: 0.7723652.\n",
      "INFO:tensorflow:Calling model_fn.\n",
      "INFO:tensorflow:Done calling model_fn.\n",
      "INFO:tensorflow:Graph was finalized.\n",
      "INFO:tensorflow:Restoring parameters from ./mode_CNN_10/model.ckpt-2500\n",
      "INFO:tensorflow:Running local_init_op.\n",
      "INFO:tensorflow:Done running local_init_op.\n",
      "INFO:tensorflow:Calling model_fn.\n",
      "INFO:tensorflow:Done calling model_fn.\n",
      "INFO:tensorflow:Graph was finalized.\n",
      "INFO:tensorflow:Restoring parameters from ./mode_CNN_10/model.ckpt-2500\n",
      "INFO:tensorflow:Running local_init_op.\n",
      "INFO:tensorflow:Done running local_init_op.\n",
      "  period 04 : 10.19\n",
      "INFO:tensorflow:Calling model_fn.\n",
      "INFO:tensorflow:Done calling model_fn.\n",
      "INFO:tensorflow:Create CheckpointSaverHook.\n",
      "INFO:tensorflow:Graph was finalized.\n",
      "INFO:tensorflow:Restoring parameters from ./mode_CNN_10/model.ckpt-2500\n",
      "INFO:tensorflow:Running local_init_op.\n",
      "INFO:tensorflow:Done running local_init_op.\n",
      "INFO:tensorflow:Saving checkpoints for 2500 into ./mode_CNN_10/model.ckpt.\n",
      "INFO:tensorflow:loss = 0.74153835, step = 2501\n",
      "INFO:tensorflow:global_step/sec: 3.45161\n",
      "INFO:tensorflow:loss = 0.79736996, step = 2601 (28.974 sec)\n",
      "INFO:tensorflow:global_step/sec: 3.46147\n",
      "INFO:tensorflow:loss = 0.6295272, step = 2701 (28.890 sec)\n",
      "INFO:tensorflow:global_step/sec: 3.43584\n",
      "INFO:tensorflow:loss = 1.1841842, step = 2801 (29.105 sec)\n",
      "INFO:tensorflow:global_step/sec: 3.45915\n",
      "INFO:tensorflow:loss = 0.7920236, step = 2901 (28.909 sec)\n",
      "INFO:tensorflow:Saving checkpoints for 3000 into ./mode_CNN_10/model.ckpt.\n",
      "INFO:tensorflow:Loss for final step: 0.94788975.\n",
      "INFO:tensorflow:Calling model_fn.\n",
      "INFO:tensorflow:Done calling model_fn.\n",
      "INFO:tensorflow:Graph was finalized.\n",
      "INFO:tensorflow:Restoring parameters from ./mode_CNN_10/model.ckpt-3000\n",
      "INFO:tensorflow:Running local_init_op.\n",
      "INFO:tensorflow:Done running local_init_op.\n",
      "INFO:tensorflow:Calling model_fn.\n",
      "INFO:tensorflow:Done calling model_fn.\n",
      "INFO:tensorflow:Graph was finalized.\n",
      "INFO:tensorflow:Restoring parameters from ./mode_CNN_10/model.ckpt-3000\n",
      "INFO:tensorflow:Running local_init_op.\n",
      "INFO:tensorflow:Done running local_init_op.\n",
      "  period 05 : 9.16\n",
      "INFO:tensorflow:Calling model_fn.\n",
      "INFO:tensorflow:Done calling model_fn.\n",
      "INFO:tensorflow:Create CheckpointSaverHook.\n",
      "INFO:tensorflow:Graph was finalized.\n",
      "INFO:tensorflow:Restoring parameters from ./mode_CNN_10/model.ckpt-3000\n",
      "INFO:tensorflow:Running local_init_op.\n",
      "INFO:tensorflow:Done running local_init_op.\n",
      "INFO:tensorflow:Saving checkpoints for 3000 into ./mode_CNN_10/model.ckpt.\n",
      "INFO:tensorflow:loss = 0.8002254, step = 3001\n",
      "INFO:tensorflow:global_step/sec: 3.44717\n",
      "INFO:tensorflow:loss = 0.5990798, step = 3101 (29.011 sec)\n",
      "INFO:tensorflow:global_step/sec: 3.46789\n",
      "INFO:tensorflow:loss = 1.1826519, step = 3201 (28.836 sec)\n",
      "INFO:tensorflow:global_step/sec: 3.4632\n",
      "INFO:tensorflow:loss = 0.8134203, step = 3301 (28.875 sec)\n",
      "INFO:tensorflow:global_step/sec: 3.3744\n",
      "INFO:tensorflow:loss = 1.5739154, step = 3401 (29.635 sec)\n",
      "INFO:tensorflow:Saving checkpoints for 3500 into ./mode_CNN_10/model.ckpt.\n",
      "INFO:tensorflow:Loss for final step: 1.1684273.\n",
      "INFO:tensorflow:Calling model_fn.\n",
      "INFO:tensorflow:Done calling model_fn.\n",
      "INFO:tensorflow:Graph was finalized.\n",
      "INFO:tensorflow:Restoring parameters from ./mode_CNN_10/model.ckpt-3500\n",
      "INFO:tensorflow:Running local_init_op.\n",
      "INFO:tensorflow:Done running local_init_op.\n",
      "INFO:tensorflow:Calling model_fn.\n",
      "INFO:tensorflow:Done calling model_fn.\n",
      "INFO:tensorflow:Graph was finalized.\n",
      "INFO:tensorflow:Restoring parameters from ./mode_CNN_10/model.ckpt-3500\n",
      "INFO:tensorflow:Running local_init_op.\n",
      "INFO:tensorflow:Done running local_init_op.\n",
      "  period 06 : 8.79\n",
      "INFO:tensorflow:Calling model_fn.\n",
      "INFO:tensorflow:Done calling model_fn.\n",
      "INFO:tensorflow:Create CheckpointSaverHook.\n",
      "INFO:tensorflow:Graph was finalized.\n",
      "INFO:tensorflow:Restoring parameters from ./mode_CNN_10/model.ckpt-3500\n",
      "INFO:tensorflow:Running local_init_op.\n",
      "INFO:tensorflow:Done running local_init_op.\n",
      "INFO:tensorflow:Saving checkpoints for 3500 into ./mode_CNN_10/model.ckpt.\n",
      "INFO:tensorflow:loss = 0.65928406, step = 3501\n",
      "INFO:tensorflow:global_step/sec: 3.49518\n",
      "INFO:tensorflow:loss = 0.6910014, step = 3601 (28.613 sec)\n",
      "INFO:tensorflow:global_step/sec: 3.50157\n",
      "INFO:tensorflow:loss = 0.2688185, step = 3701 (28.559 sec)\n",
      "INFO:tensorflow:global_step/sec: 3.51298\n",
      "INFO:tensorflow:loss = 0.38502046, step = 3801 (28.466 sec)\n",
      "INFO:tensorflow:global_step/sec: 3.44167\n",
      "INFO:tensorflow:loss = 1.0491368, step = 3901 (29.055 sec)\n",
      "INFO:tensorflow:Saving checkpoints for 4000 into ./mode_CNN_10/model.ckpt.\n",
      "INFO:tensorflow:Loss for final step: 0.61785907.\n",
      "INFO:tensorflow:Calling model_fn.\n",
      "INFO:tensorflow:Done calling model_fn.\n",
      "INFO:tensorflow:Graph was finalized.\n",
      "INFO:tensorflow:Restoring parameters from ./mode_CNN_10/model.ckpt-4000\n",
      "INFO:tensorflow:Running local_init_op.\n",
      "INFO:tensorflow:Done running local_init_op.\n",
      "INFO:tensorflow:Calling model_fn.\n",
      "INFO:tensorflow:Done calling model_fn.\n",
      "INFO:tensorflow:Graph was finalized.\n",
      "INFO:tensorflow:Restoring parameters from ./mode_CNN_10/model.ckpt-4000\n",
      "INFO:tensorflow:Running local_init_op.\n",
      "INFO:tensorflow:Done running local_init_op.\n",
      "  period 07 : 8.42\n",
      "INFO:tensorflow:Calling model_fn.\n",
      "INFO:tensorflow:Done calling model_fn.\n",
      "INFO:tensorflow:Create CheckpointSaverHook.\n",
      "INFO:tensorflow:Graph was finalized.\n",
      "INFO:tensorflow:Restoring parameters from ./mode_CNN_10/model.ckpt-4000\n",
      "INFO:tensorflow:Running local_init_op.\n",
      "INFO:tensorflow:Done running local_init_op.\n",
      "INFO:tensorflow:Saving checkpoints for 4000 into ./mode_CNN_10/model.ckpt.\n",
      "INFO:tensorflow:loss = 0.5150041, step = 4001\n",
      "INFO:tensorflow:global_step/sec: 3.49986\n",
      "INFO:tensorflow:loss = 0.5604325, step = 4101 (28.575 sec)\n",
      "INFO:tensorflow:global_step/sec: 3.43575\n",
      "INFO:tensorflow:loss = 0.7354359, step = 4201 (29.105 sec)\n",
      "INFO:tensorflow:global_step/sec: 3.51706\n",
      "INFO:tensorflow:loss = 0.69610304, step = 4301 (28.433 sec)\n",
      "INFO:tensorflow:global_step/sec: 3.51935\n",
      "INFO:tensorflow:loss = 0.58538455, step = 4401 (28.415 sec)\n",
      "INFO:tensorflow:Saving checkpoints for 4500 into ./mode_CNN_10/model.ckpt.\n",
      "INFO:tensorflow:Loss for final step: 0.32713637.\n",
      "INFO:tensorflow:Calling model_fn.\n",
      "INFO:tensorflow:Done calling model_fn.\n",
      "INFO:tensorflow:Graph was finalized.\n",
      "INFO:tensorflow:Restoring parameters from ./mode_CNN_10/model.ckpt-4500\n",
      "INFO:tensorflow:Running local_init_op.\n",
      "INFO:tensorflow:Done running local_init_op.\n",
      "INFO:tensorflow:Calling model_fn.\n",
      "INFO:tensorflow:Done calling model_fn.\n",
      "INFO:tensorflow:Graph was finalized.\n",
      "INFO:tensorflow:Restoring parameters from ./mode_CNN_10/model.ckpt-4500\n",
      "INFO:tensorflow:Running local_init_op.\n",
      "INFO:tensorflow:Done running local_init_op.\n",
      "  period 08 : 7.56\n",
      "INFO:tensorflow:Calling model_fn.\n",
      "INFO:tensorflow:Done calling model_fn.\n",
      "INFO:tensorflow:Create CheckpointSaverHook.\n",
      "INFO:tensorflow:Graph was finalized.\n",
      "INFO:tensorflow:Restoring parameters from ./mode_CNN_10/model.ckpt-4500\n",
      "INFO:tensorflow:Running local_init_op.\n",
      "INFO:tensorflow:Done running local_init_op.\n",
      "INFO:tensorflow:Saving checkpoints for 4500 into ./mode_CNN_10/model.ckpt.\n",
      "INFO:tensorflow:loss = 0.61769825, step = 4501\n",
      "INFO:tensorflow:global_step/sec: 3.46031\n",
      "INFO:tensorflow:loss = 0.32677424, step = 4601 (28.901 sec)\n",
      "INFO:tensorflow:global_step/sec: 3.4274\n",
      "INFO:tensorflow:loss = 0.84806985, step = 4701 (29.176 sec)\n",
      "INFO:tensorflow:global_step/sec: 3.46517\n",
      "INFO:tensorflow:loss = 0.5546824, step = 4801 (28.859 sec)\n",
      "INFO:tensorflow:global_step/sec: 3.47331\n",
      "INFO:tensorflow:loss = 0.17986523, step = 4901 (28.791 sec)\n",
      "INFO:tensorflow:Saving checkpoints for 5000 into ./mode_CNN_10/model.ckpt.\n",
      "INFO:tensorflow:Loss for final step: 0.48273632.\n",
      "INFO:tensorflow:Calling model_fn.\n",
      "INFO:tensorflow:Done calling model_fn.\n",
      "INFO:tensorflow:Graph was finalized.\n"
     ]
    },
    {
     "name": "stdout",
     "output_type": "stream",
     "text": [
      "INFO:tensorflow:Restoring parameters from ./mode_CNN_10/model.ckpt-5000\n",
      "INFO:tensorflow:Running local_init_op.\n",
      "INFO:tensorflow:Done running local_init_op.\n",
      "INFO:tensorflow:Calling model_fn.\n",
      "INFO:tensorflow:Done calling model_fn.\n",
      "INFO:tensorflow:Graph was finalized.\n",
      "INFO:tensorflow:Restoring parameters from ./mode_CNN_10/model.ckpt-5000\n",
      "INFO:tensorflow:Running local_init_op.\n",
      "INFO:tensorflow:Done running local_init_op.\n",
      "  period 09 : 8.14\n",
      "Model training finished.\n",
      "INFO:tensorflow:Calling model_fn.\n",
      "INFO:tensorflow:Done calling model_fn.\n",
      "INFO:tensorflow:Graph was finalized.\n",
      "INFO:tensorflow:Restoring parameters from ./mode_CNN_10/model.ckpt-5000\n",
      "INFO:tensorflow:Running local_init_op.\n",
      "INFO:tensorflow:Done running local_init_op.\n",
      "Final accuracy (on validation data): 0.76\n"
     ]
    },
    {
     "data": {
      "image/png": "[encoded data removed]",
      "text/plain": [
       "<Figure size 432x288 with 1 Axes>"
      ]
     },
     "metadata": {
      "needs_background": "light"
     },
     "output_type": "display_data"
    },
    {
     "data": {
      "image/png": "[encoded data removed]",
      "text/plain": [
       "<Figure size 432x288 with 2 Axes>"
      ]
     },
     "metadata": {
      "needs_background": "light"
     },
     "output_type": "display_data"
    }
   ],
   "source": [
    "classifier = train_hub_classification_model(\n",
    "    learning_rate=0.001,\n",
    "    steps=5000,\n",
    "    batch_size=10,\n",
    "    hidden_units=[100, 100],\n",
    "    training_examples=training_examples,\n",
    "    training_targets=training_targets,\n",
    "    validation_examples=validation_examples,\n",
    "    validation_targets=validation_targets)"
   ]
  },
  {
   "cell_type": "code",
   "execution_count": null,
   "metadata": {},
   "outputs": [],
   "source": []
  },
  {
   "cell_type": "code",
   "execution_count": null,
   "metadata": {},
   "outputs": [],
   "source": []
  },
  {
   "cell_type": "code",
   "execution_count": 52,
   "metadata": {},
   "outputs": [
    {
     "ename": "SyntaxError",
     "evalue": "EOF while scanning triple-quoted string literal (<ipython-input-52-e4615a684824>, line 1)",
     "output_type": "error",
     "traceback": [
      "\u001b[0;36m  File \u001b[0;32m\"<ipython-input-52-e4615a684824>\"\u001b[0;36m, line \u001b[0;32m1\u001b[0m\n\u001b[0;31m    \"\"\"\u001b[0m\n\u001b[0m       ^\u001b[0m\n\u001b[0;31mSyntaxError\u001b[0m\u001b[0;31m:\u001b[0m EOF while scanning triple-quoted string literal\n"
     ]
    }
   ],
   "source": [
    "\"\"\""
   ]
  },
  {
   "cell_type": "markdown",
   "metadata": {},
   "source": [
    "# PREDS"
   ]
  },
  {
   "cell_type": "code",
   "execution_count": 7,
   "metadata": {},
   "outputs": [
    {
     "name": "stdout",
     "output_type": "stream",
     "text": [
      "INFO:tensorflow:Using default config.\n",
      "INFO:tensorflow:Using config: {'_model_dir': './mode_CNN_10', '_tf_random_seed': None, '_save_summary_steps': 100, '_save_checkpoints_steps': None, '_save_checkpoints_secs': 600, '_session_config': allow_soft_placement: true\n",
      "graph_options {\n",
      "  rewrite_options {\n",
      "    meta_optimizer_iterations: ONE\n",
      "  }\n",
      "}\n",
      ", '_keep_checkpoint_max': 5, '_keep_checkpoint_every_n_hours': 10000, '_log_step_count_steps': 100, '_train_distribute': None, '_device_fn': None, '_protocol': None, '_eval_distribute': None, '_experimental_distribute': None, '_service': None, '_cluster_spec': <tensorflow.python.training.server_lib.ClusterSpec object at 0x7f231c0d8438>, '_task_type': 'worker', '_task_id': 0, '_global_id_in_cluster': 0, '_master': '', '_evaluation_master': '', '_is_chief': True, '_num_ps_replicas': 0, '_num_worker_replicas': 1}\n"
     ]
    }
   ],
   "source": [
    "classifier = tf.estimator.Estimator(\n",
    "    model_fn=cnn_model_fn,\n",
    "    model_dir=\"./mode_CNN_10\",\n",
    "    )"
   ]
  },
  {
   "cell_type": "code",
   "execution_count": 8,
   "metadata": {},
   "outputs": [],
   "source": [
    "def my_test_input_fn(features, batch_size=1, num_epochs=None):\n",
    "    raw_features = features\n",
    "    ds = Dataset.from_tensor_slices((raw_features))\n",
    "    ds = ds.batch(batch_size).repeat(num_epochs)\n",
    "    features = ds.make_one_shot_iterator().get_next()\n",
    "    return features\n",
    "\n",
    "predict_test_input_fn = lambda: my_test_input_fn(\n",
    "    test_images,\n",
    "    num_epochs=1,)"
   ]
  },
  {
   "cell_type": "code",
   "execution_count": 9,
   "metadata": {},
   "outputs": [],
   "source": [
    "test_pict_path = '../input/audio_test/'"
   ]
  },
  {
   "cell_type": "code",
   "execution_count": 10,
   "metadata": {},
   "outputs": [
    {
     "data": {
      "text/plain": [
       "True"
      ]
     },
     "execution_count": 10,
     "metadata": {},
     "output_type": "execute_result"
    }
   ],
   "source": [
    "plt.imread('../input/audio_test/clip_000044442.png').shape==(96,96,3)"
   ]
  },
  {
   "cell_type": "code",
   "execution_count": null,
   "metadata": {},
   "outputs": [],
   "source": []
  },
  {
   "cell_type": "code",
   "execution_count": null,
   "metadata": {},
   "outputs": [],
   "source": []
  },
  {
   "cell_type": "code",
   "execution_count": null,
   "metadata": {},
   "outputs": [],
   "source": []
  },
  {
   "cell_type": "code",
   "execution_count": null,
   "metadata": {},
   "outputs": [],
   "source": []
  },
  {
   "cell_type": "code",
   "execution_count": null,
   "metadata": {},
   "outputs": [],
   "source": []
  },
  {
   "cell_type": "code",
   "execution_count": null,
   "metadata": {},
   "outputs": [],
   "source": []
  },
  {
   "cell_type": "code",
   "execution_count": null,
   "metadata": {},
   "outputs": [],
   "source": []
  },
  {
   "cell_type": "code",
   "execution_count": null,
   "metadata": {},
   "outputs": [],
   "source": []
  },
  {
   "cell_type": "markdown",
   "metadata": {},
   "source": [
    "## Sub-divide into 10,000 test files to prevent tensor 2MB error"
   ]
  },
  {
   "cell_type": "code",
   "execution_count": 100,
   "metadata": {},
   "outputs": [
    {
     "name": "stdout",
     "output_type": "stream",
     "text": [
      "<class 'list'>\n",
      "227\n"
     ]
    },
    {
     "name": "stderr",
     "output_type": "stream",
     "text": [
      "/usr/local/lib/python3.6/dist-packages/ipykernel_launcher.py:21: RuntimeWarning:\n",
      "\n",
      "invalid value encountered in true_divide\n",
      "\n"
     ]
    },
    {
     "name": "stdout",
     "output_type": "stream",
     "text": [
      "INFO:tensorflow:Calling model_fn.\n",
      "INFO:tensorflow:Done calling model_fn.\n",
      "INFO:tensorflow:Graph was finalized.\n",
      "INFO:tensorflow:Restoring parameters from ./mode_CNN_10/model.ckpt-5000\n",
      "INFO:tensorflow:Running local_init_op.\n",
      "INFO:tensorflow:Done running local_init_op.\n"
     ]
    }
   ],
   "source": [
    "\n",
    "test_images = []\n",
    "fnames = []\n",
    "all_files = [y for y in os.listdir(test_pict_path) if '.png' in y]\n",
    "print(type(all_files))\n",
    "i = 0\n",
    "corrupt = 0\n",
    "test_images = []\n",
    "fnames = []\n",
    "for file in all_files[:10000]:\n",
    "    if (plt.imread(test_pict_path + file).shape == (96,96,3)):\n",
    "        test_images.append(cv2.imread(test_pict_path + file))\n",
    "    else : \n",
    "        test_images.append(np.empty((96,96,3), dtype=np.float32))\n",
    "        corrupt = corrupt+1\n",
    "    fnames.append(file[:-4] + '.wav')\n",
    "\n",
    "print(corrupt)    \n",
    "\n",
    "test_images = np.array(test_images, dtype=\"float32\")\n",
    "test_images /= 255\n",
    "test_predictions = classifier.predict(input_fn=predict_test_input_fn)\n",
    "test_predictions = np.array([item['classes'] for item in test_predictions])\n",
    "\n",
    "my_submission = pd.DataFrame({'fname': fnames, 'label': test_predictions})\n",
    "# you could use any filename. We choose submission here\n",
    "my_submission.to_csv('speech_' + 'a' + '.csv', index=False)\n"
   ]
  },
  {
   "cell_type": "code",
   "execution_count": 101,
   "metadata": {},
   "outputs": [
    {
     "name": "stdout",
     "output_type": "stream",
     "text": [
      "<class 'list'>\n"
     ]
    },
    {
     "name": "stderr",
     "output_type": "stream",
     "text": [
      "/usr/local/lib/python3.6/dist-packages/ipykernel_launcher.py:16: RuntimeWarning:\n",
      "\n",
      "invalid value encountered in true_divide\n",
      "\n"
     ]
    },
    {
     "name": "stdout",
     "output_type": "stream",
     "text": [
      "INFO:tensorflow:Calling model_fn.\n",
      "INFO:tensorflow:Done calling model_fn.\n",
      "INFO:tensorflow:Graph was finalized.\n",
      "INFO:tensorflow:Restoring parameters from ./mode_CNN_10/model.ckpt-5000\n",
      "INFO:tensorflow:Running local_init_op.\n",
      "INFO:tensorflow:Done running local_init_op.\n"
     ]
    }
   ],
   "source": [
    "\n",
    "test_images = []\n",
    "fnames = []\n",
    "all_files = [y for y in os.listdir(test_pict_path) if '.png' in y]\n",
    "print(type(all_files))\n",
    "i = 0\n",
    "test_images = []\n",
    "fnames = []\n",
    "for file in all_files[10000:20000]:\n",
    "    if (plt.imread(test_pict_path + file).shape == (96,96,3)):\n",
    "        test_images.append(cv2.imread(test_pict_path + file))\n",
    "    else : \n",
    "        test_images.append(np.empty((96,96,3), dtype=np.float32))\n",
    "    fnames.append(file[:-4] + '.wav')\n",
    "test_images = np.array(test_images, dtype=\"float32\")\n",
    "test_images /= 255\n",
    "test_predictions = classifier.predict(input_fn=predict_test_input_fn)\n",
    "test_predictions = np.array([item['classes'] for item in test_predictions])\n",
    "\n",
    "my_submission = pd.DataFrame({'fname': fnames, 'label': test_predictions})\n",
    "# you could use any filename. We choose submission here\n",
    "my_submission.to_csv('speech_' + 'b' + '.csv', index=False)\n"
   ]
  },
  {
   "cell_type": "code",
   "execution_count": null,
   "metadata": {},
   "outputs": [
    {
     "name": "stdout",
     "output_type": "stream",
     "text": [
      "<class 'list'>\n"
     ]
    },
    {
     "name": "stderr",
     "output_type": "stream",
     "text": [
      "/usr/local/lib/python3.6/dist-packages/ipykernel_launcher.py:16: RuntimeWarning:\n",
      "\n",
      "invalid value encountered in true_divide\n",
      "\n"
     ]
    },
    {
     "name": "stdout",
     "output_type": "stream",
     "text": [
      "INFO:tensorflow:Calling model_fn.\n",
      "INFO:tensorflow:Done calling model_fn.\n",
      "INFO:tensorflow:Graph was finalized.\n",
      "INFO:tensorflow:Restoring parameters from ./mode_CNN_10/model.ckpt-5000\n",
      "INFO:tensorflow:Running local_init_op.\n",
      "INFO:tensorflow:Done running local_init_op.\n"
     ]
    }
   ],
   "source": [
    "\n",
    "test_images = []\n",
    "fnames = []\n",
    "all_files = [y for y in os.listdir(test_pict_path) if '.png' in y]\n",
    "print(type(all_files))\n",
    "i = 0\n",
    "test_images = []\n",
    "fnames = []\n",
    "for file in all_files[20000:30000]:\n",
    "    if (plt.imread(test_pict_path + file).shape == (96,96,3)):\n",
    "        test_images.append(cv2.imread(test_pict_path + file))\n",
    "    else : \n",
    "        test_images.append(np.empty((96,96,3), dtype=np.float32))\n",
    "    fnames.append(file[:-4] + '.wav')\n",
    "test_images = np.array(test_images, dtype=\"float32\")\n",
    "test_images /= 255\n",
    "test_predictions = classifier.predict(input_fn=predict_test_input_fn)\n",
    "test_predictions = np.array([item['classes'] for item in test_predictions])\n",
    "\n",
    "my_submission = pd.DataFrame({'fname': fnames, 'label': test_predictions})\n",
    "# you could use any filename. We choose submission here\n",
    "my_submission.to_csv('speech_' + 'c' + '.csv', index=False)\n"
   ]
  },
  {
   "cell_type": "code",
   "execution_count": null,
   "metadata": {},
   "outputs": [
    {
     "name": "stdout",
     "output_type": "stream",
     "text": [
      "<class 'list'>\n"
     ]
    },
    {
     "name": "stderr",
     "output_type": "stream",
     "text": [
      "/usr/local/lib/python3.6/dist-packages/ipykernel_launcher.py:18: RuntimeWarning:\n",
      "\n",
      "invalid value encountered in true_divide\n",
      "\n"
     ]
    }
   ],
   "source": [
    "\n",
    "test_images = []\n",
    "fnames = []\n",
    "all_files = [y for y in os.listdir(test_pict_path) if '.png' in y]\n",
    "print(type(all_files))\n",
    "i = 0\n",
    "\n",
    "test_images = []\n",
    "fnames = []\n",
    "for file in all_files[30000:40000]:\n",
    "    if (plt.imread(test_pict_path + file).shape == (96,96,3)):\n",
    "        test_images.append(cv2.imread(test_pict_path + file))\n",
    "    else : \n",
    "        test_images.append(np.empty((96,96,3), dtype=np.float32))\n",
    "    fnames.append(file[:-4] + '.wav')\n",
    "\n",
    "test_images = np.array(test_images, dtype=\"float32\")\n",
    "test_images /= 255\n",
    "test_predictions = classifier.predict(input_fn=predict_test_input_fn)\n",
    "test_predictions = np.array([item['classes'] for item in test_predictions])\n",
    "\n",
    "my_submission = pd.DataFrame({'fname': fnames, 'label': test_predictions})\n",
    "# you could use any filename. We choose submission here\n",
    "my_submission.to_csv('speech_' + 'd' + '.csv', index=False)\n"
   ]
  },
  {
   "cell_type": "code",
   "execution_count": null,
   "metadata": {},
   "outputs": [
    {
     "name": "stdout",
     "output_type": "stream",
     "text": [
      "<class 'list'>\n"
     ]
    },
    {
     "name": "stderr",
     "output_type": "stream",
     "text": [
      "/usr/local/lib/python3.6/dist-packages/ipykernel_launcher.py:16: RuntimeWarning:\n",
      "\n",
      "invalid value encountered in true_divide\n",
      "\n"
     ]
    },
    {
     "name": "stdout",
     "output_type": "stream",
     "text": [
      "INFO:tensorflow:Calling model_fn.\n",
      "INFO:tensorflow:Done calling model_fn.\n",
      "INFO:tensorflow:Graph was finalized.\n",
      "INFO:tensorflow:Restoring parameters from ./mode_CNN_10/model.ckpt-5000\n",
      "INFO:tensorflow:Running local_init_op.\n",
      "INFO:tensorflow:Done running local_init_op.\n"
     ]
    }
   ],
   "source": [
    "\n",
    "test_images = []\n",
    "fnames = []\n",
    "all_files = [y for y in os.listdir(test_pict_path) if '.png' in y]\n",
    "print(type(all_files))\n",
    "i = 0\n",
    "test_images = []\n",
    "fnames = []\n",
    "for file in all_files[40000:50000]:\n",
    "    if (plt.imread(test_pict_path + file).shape == (96,96,3)):\n",
    "        test_images.append(cv2.imread(test_pict_path + file))\n",
    "    else : \n",
    "        test_images.append(np.empty((96,96,3), dtype=np.float32))\n",
    "    fnames.append(file[:-4] + '.wav')\n",
    "test_images = np.array(test_images, dtype=\"float32\")\n",
    "test_images /= 255\n",
    "test_predictions = classifier.predict(input_fn=predict_test_input_fn)\n",
    "test_predictions = np.array([item['classes'] for item in test_predictions])\n",
    "\n",
    "my_submission = pd.DataFrame({'fname': fnames, 'label': test_predictions})\n",
    "# you could use any filename. We choose submission here\n",
    "my_submission.to_csv('speech_' + 'e' + '.csv', index=False)\n"
   ]
  },
  {
   "cell_type": "code",
   "execution_count": null,
   "metadata": {},
   "outputs": [
    {
     "name": "stdout",
     "output_type": "stream",
     "text": [
      "<class 'list'>\n"
     ]
    },
    {
     "name": "stderr",
     "output_type": "stream",
     "text": [
      "/usr/local/lib/python3.6/dist-packages/ipykernel_launcher.py:15: RuntimeWarning:\n",
      "\n",
      "invalid value encountered in true_divide\n",
      "\n"
     ]
    },
    {
     "name": "stdout",
     "output_type": "stream",
     "text": [
      "INFO:tensorflow:Calling model_fn.\n",
      "INFO:tensorflow:Done calling model_fn.\n",
      "INFO:tensorflow:Graph was finalized.\n",
      "INFO:tensorflow:Restoring parameters from ./mode_CNN_10/model.ckpt-5000\n",
      "INFO:tensorflow:Running local_init_op.\n",
      "INFO:tensorflow:Done running local_init_op.\n"
     ]
    }
   ],
   "source": [
    "test_images = []\n",
    "fnames = []\n",
    "all_files = [y for y in os.listdir(test_pict_path) if '.png' in y]\n",
    "print(type(all_files))\n",
    "i = 0\n",
    "test_images = []\n",
    "fnames = []\n",
    "for file in all_files[50000:60000]:\n",
    "    if (plt.imread(test_pict_path + file).shape == (96,96,3)):\n",
    "        test_images.append(cv2.imread(test_pict_path + file))\n",
    "    else : \n",
    "        test_images.append(np.empty((96,96,3), dtype=np.float32))\n",
    "    fnames.append(file[:-4] + '.wav')\n",
    "test_images = np.array(test_images, dtype=\"float32\")\n",
    "test_images /= 255\n",
    "test_predictions = classifier.predict(input_fn=predict_test_input_fn)\n",
    "test_predictions = np.array([item['classes'] for item in test_predictions])\n",
    "\n",
    "my_submission = pd.DataFrame({'fname': fnames, 'label': test_predictions})\n",
    "# you could use any filename. We choose submission here\n",
    "my_submission.to_csv('speech_' + 'f' + '.csv', index=False)"
   ]
  },
  {
   "cell_type": "code",
   "execution_count": 11,
   "metadata": {},
   "outputs": [
    {
     "name": "stdout",
     "output_type": "stream",
     "text": [
      "<class 'list'>\n"
     ]
    },
    {
     "name": "stderr",
     "output_type": "stream",
     "text": [
      "/usr/local/lib/python3.6/dist-packages/ipykernel_launcher.py:15: RuntimeWarning:\n",
      "\n",
      "invalid value encountered in true_divide\n",
      "\n"
     ]
    },
    {
     "name": "stdout",
     "output_type": "stream",
     "text": [
      "INFO:tensorflow:Calling model_fn.\n",
      "INFO:tensorflow:Done calling model_fn.\n",
      "INFO:tensorflow:Graph was finalized.\n",
      "INFO:tensorflow:Restoring parameters from ./mode_CNN_10/model.ckpt-5000\n",
      "INFO:tensorflow:Running local_init_op.\n",
      "INFO:tensorflow:Done running local_init_op.\n"
     ]
    }
   ],
   "source": [
    "test_images = []\n",
    "fnames = []\n",
    "all_files = [y for y in os.listdir(test_pict_path) if '.png' in y]\n",
    "print(type(all_files))\n",
    "i = 0\n",
    "test_images = []\n",
    "fnames = []\n",
    "for file in all_files[60000:70000]:\n",
    "    if (plt.imread(test_pict_path + file).shape == (96,96,3)):\n",
    "        test_images.append(cv2.imread(test_pict_path + file))\n",
    "    else : \n",
    "        test_images.append(np.empty((96,96,3), dtype=np.float32))\n",
    "    fnames.append(file[:-4] + '.wav')\n",
    "test_images = np.array(test_images, dtype=\"float32\")\n",
    "test_images /= 255\n",
    "test_predictions = classifier.predict(input_fn=predict_test_input_fn)\n",
    "test_predictions = np.array([item['classes'] for item in test_predictions])\n",
    "\n",
    "my_submission = pd.DataFrame({'fname': fnames, 'label': test_predictions})\n",
    "# you could use any filename. We choose submission here\n",
    "my_submission.to_csv('speech_' + 'g' + '.csv', index=False)"
   ]
  },
  {
   "cell_type": "code",
   "execution_count": 12,
   "metadata": {},
   "outputs": [
    {
     "name": "stdout",
     "output_type": "stream",
     "text": [
      "<class 'list'>\n"
     ]
    },
    {
     "name": "stderr",
     "output_type": "stream",
     "text": [
      "/usr/local/lib/python3.6/dist-packages/ipykernel_launcher.py:15: RuntimeWarning:\n",
      "\n",
      "invalid value encountered in true_divide\n",
      "\n"
     ]
    },
    {
     "name": "stdout",
     "output_type": "stream",
     "text": [
      "INFO:tensorflow:Calling model_fn.\n",
      "INFO:tensorflow:Done calling model_fn.\n",
      "INFO:tensorflow:Graph was finalized.\n",
      "INFO:tensorflow:Restoring parameters from ./mode_CNN_10/model.ckpt-5000\n",
      "INFO:tensorflow:Running local_init_op.\n",
      "INFO:tensorflow:Done running local_init_op.\n"
     ]
    }
   ],
   "source": [
    "test_images = []\n",
    "fnames = []\n",
    "all_files = [y for y in os.listdir(test_pict_path) if '.png' in y]\n",
    "print(type(all_files))\n",
    "i = 0\n",
    "test_images = []\n",
    "fnames = []\n",
    "for file in all_files[70000:80000]:\n",
    "    if (plt.imread(test_pict_path + file).shape == (96,96,3)):\n",
    "        test_images.append(cv2.imread(test_pict_path + file))\n",
    "    else : \n",
    "        test_images.append(np.empty((96,96,3), dtype=np.float32))\n",
    "    fnames.append(file[:-4] + '.wav')\n",
    "test_images = np.array(test_images, dtype=\"float32\")\n",
    "test_images /= 255\n",
    "test_predictions = classifier.predict(input_fn=predict_test_input_fn)\n",
    "test_predictions = np.array([item['classes'] for item in test_predictions])\n",
    "\n",
    "my_submission = pd.DataFrame({'fname': fnames, 'label': test_predictions})\n",
    "# you could use any filename. We choose submission here\n",
    "my_submission.to_csv('speech_' + 'h' + '.csv', index=False)"
   ]
  },
  {
   "cell_type": "code",
   "execution_count": 13,
   "metadata": {},
   "outputs": [
    {
     "name": "stdout",
     "output_type": "stream",
     "text": [
      "<class 'list'>\n"
     ]
    },
    {
     "name": "stderr",
     "output_type": "stream",
     "text": [
      "/usr/local/lib/python3.6/dist-packages/ipykernel_launcher.py:16: RuntimeWarning:\n",
      "\n",
      "invalid value encountered in true_divide\n",
      "\n"
     ]
    },
    {
     "name": "stdout",
     "output_type": "stream",
     "text": [
      "INFO:tensorflow:Calling model_fn.\n",
      "INFO:tensorflow:Done calling model_fn.\n",
      "INFO:tensorflow:Graph was finalized.\n",
      "INFO:tensorflow:Restoring parameters from ./mode_CNN_10/model.ckpt-5000\n",
      "INFO:tensorflow:Running local_init_op.\n",
      "INFO:tensorflow:Done running local_init_op.\n"
     ]
    }
   ],
   "source": [
    "\n",
    "test_images = []\n",
    "fnames = []\n",
    "all_files = [y for y in os.listdir(test_pict_path) if '.png' in y]\n",
    "print(type(all_files))\n",
    "i = 0\n",
    "test_images = []\n",
    "fnames = []\n",
    "for file in all_files[80000:90000]:\n",
    "    if (plt.imread(test_pict_path + file).shape == (96,96,3)):\n",
    "        test_images.append(cv2.imread(test_pict_path + file))\n",
    "    else : \n",
    "        test_images.append(np.empty((96,96,3), dtype=np.float32))\n",
    "    fnames.append(file[:-4] + '.wav')\n",
    "test_images = np.array(test_images, dtype=\"float32\")\n",
    "test_images /= 255\n",
    "test_predictions = classifier.predict(input_fn=predict_test_input_fn)\n",
    "test_predictions = np.array([item['classes'] for item in test_predictions])\n",
    "\n",
    "my_submission = pd.DataFrame({'fname': fnames, 'label': test_predictions})\n",
    "# you could use any filename. We choose submission here\n",
    "my_submission.to_csv('speech_' + 'i' + '.csv', index=False)\n"
   ]
  },
  {
   "cell_type": "code",
   "execution_count": 14,
   "metadata": {},
   "outputs": [
    {
     "name": "stdout",
     "output_type": "stream",
     "text": [
      "<class 'list'>\n"
     ]
    },
    {
     "name": "stderr",
     "output_type": "stream",
     "text": [
      "/usr/local/lib/python3.6/dist-packages/ipykernel_launcher.py:16: RuntimeWarning:\n",
      "\n",
      "invalid value encountered in true_divide\n",
      "\n"
     ]
    },
    {
     "name": "stdout",
     "output_type": "stream",
     "text": [
      "INFO:tensorflow:Calling model_fn.\n",
      "INFO:tensorflow:Done calling model_fn.\n",
      "INFO:tensorflow:Graph was finalized.\n",
      "INFO:tensorflow:Restoring parameters from ./mode_CNN_10/model.ckpt-5000\n",
      "INFO:tensorflow:Running local_init_op.\n",
      "INFO:tensorflow:Done running local_init_op.\n"
     ]
    }
   ],
   "source": [
    "\n",
    "test_images = []\n",
    "fnames = []\n",
    "all_files = [y for y in os.listdir(test_pict_path) if '.png' in y]\n",
    "print(type(all_files))\n",
    "i = 0\n",
    "test_images = []\n",
    "fnames = []\n",
    "for file in all_files[90000:100000]:\n",
    "    if (plt.imread(test_pict_path + file).shape == (96,96,3)):\n",
    "        test_images.append(cv2.imread(test_pict_path + file))\n",
    "    else : \n",
    "        test_images.append(np.empty((96,96,3), dtype=np.float32))\n",
    "    fnames.append(file[:-4] + '.wav')\n",
    "test_images = np.array(test_images, dtype=\"float32\")\n",
    "test_images /= 255\n",
    "test_predictions = classifier.predict(input_fn=predict_test_input_fn)\n",
    "test_predictions = np.array([item['classes'] for item in test_predictions])\n",
    "\n",
    "my_submission = pd.DataFrame({'fname': fnames, 'label': test_predictions})\n",
    "# you could use any filename. We choose submission here\n",
    "my_submission.to_csv('speech_' + 'j' + '.csv', index=False)\n"
   ]
  },
  {
   "cell_type": "code",
   "execution_count": null,
   "metadata": {},
   "outputs": [
    {
     "name": "stdout",
     "output_type": "stream",
     "text": [
      "<class 'list'>\n"
     ]
    },
    {
     "name": "stderr",
     "output_type": "stream",
     "text": [
      "/usr/local/lib/python3.6/dist-packages/ipykernel_launcher.py:16: RuntimeWarning:\n",
      "\n",
      "invalid value encountered in true_divide\n",
      "\n"
     ]
    },
    {
     "name": "stdout",
     "output_type": "stream",
     "text": [
      "INFO:tensorflow:Calling model_fn.\n",
      "INFO:tensorflow:Done calling model_fn.\n",
      "INFO:tensorflow:Graph was finalized.\n",
      "INFO:tensorflow:Restoring parameters from ./mode_CNN_10/model.ckpt-5000\n",
      "INFO:tensorflow:Running local_init_op.\n",
      "INFO:tensorflow:Done running local_init_op.\n"
     ]
    }
   ],
   "source": [
    "\n",
    "test_images = []\n",
    "fnames = []\n",
    "all_files = [y for y in os.listdir(test_pict_path) if '.png' in y]\n",
    "print(type(all_files))\n",
    "i = 0\n",
    "test_images = []\n",
    "fnames = []\n",
    "for file in all_files[100000:110000]:\n",
    "    if (plt.imread(test_pict_path + file).shape == (96,96,3)):\n",
    "        test_images.append(cv2.imread(test_pict_path + file))\n",
    "    else : \n",
    "        test_images.append(np.empty((96,96,3), dtype=np.float32))\n",
    "    fnames.append(file[:-4] + '.wav')\n",
    "test_images = np.array(test_images, dtype=\"float32\")\n",
    "test_images /= 255\n",
    "test_predictions = classifier.predict(input_fn=predict_test_input_fn)\n",
    "test_predictions = np.array([item['classes'] for item in test_predictions])\n",
    "\n",
    "my_submission = pd.DataFrame({'fname': fnames, 'label': test_predictions})\n",
    "# you could use any filename. We choose submission here\n",
    "my_submission.to_csv('speech_' + 'k' + '.csv', index=False)\n"
   ]
  },
  {
   "cell_type": "code",
   "execution_count": null,
   "metadata": {},
   "outputs": [
    {
     "name": "stdout",
     "output_type": "stream",
     "text": [
      "<class 'list'>\n"
     ]
    },
    {
     "name": "stderr",
     "output_type": "stream",
     "text": [
      "/usr/local/lib/python3.6/dist-packages/ipykernel_launcher.py:16: RuntimeWarning:\n",
      "\n",
      "invalid value encountered in true_divide\n",
      "\n"
     ]
    },
    {
     "name": "stdout",
     "output_type": "stream",
     "text": [
      "INFO:tensorflow:Calling model_fn.\n",
      "INFO:tensorflow:Done calling model_fn.\n",
      "INFO:tensorflow:Graph was finalized.\n",
      "INFO:tensorflow:Restoring parameters from ./mode_CNN_10/model.ckpt-5000\n",
      "INFO:tensorflow:Running local_init_op.\n",
      "INFO:tensorflow:Done running local_init_op.\n"
     ]
    }
   ],
   "source": [
    "\n",
    "test_images = []\n",
    "fnames = []\n",
    "all_files = [y for y in os.listdir(test_pict_path) if '.png' in y]\n",
    "print(type(all_files))\n",
    "i = 0\n",
    "test_images = []\n",
    "fnames = []\n",
    "for file in all_files[110000:120000]:\n",
    "    if (plt.imread(test_pict_path + file).shape == (96,96,3)):\n",
    "        test_images.append(cv2.imread(test_pict_path + file))\n",
    "    else : \n",
    "        test_images.append(np.empty((96,96,3), dtype=np.float32))\n",
    "    fnames.append(file[:-4] + '.wav')\n",
    "test_images = np.array(test_images, dtype=\"float32\")\n",
    "test_images /= 255\n",
    "test_predictions = classifier.predict(input_fn=predict_test_input_fn)\n",
    "test_predictions = np.array([item['classes'] for item in test_predictions])\n",
    "\n",
    "my_submission = pd.DataFrame({'fname': fnames, 'label': test_predictions})\n",
    "# you could use any filename. We choose submission here\n",
    "my_submission.to_csv('speech_' + 'l' + '.csv', index=False)\n"
   ]
  },
  {
   "cell_type": "code",
   "execution_count": null,
   "metadata": {},
   "outputs": [
    {
     "name": "stdout",
     "output_type": "stream",
     "text": [
      "<class 'list'>\n"
     ]
    },
    {
     "name": "stderr",
     "output_type": "stream",
     "text": [
      "/usr/local/lib/python3.6/dist-packages/ipykernel_launcher.py:16: RuntimeWarning:\n",
      "\n",
      "invalid value encountered in true_divide\n",
      "\n"
     ]
    },
    {
     "name": "stdout",
     "output_type": "stream",
     "text": [
      "INFO:tensorflow:Calling model_fn.\n",
      "INFO:tensorflow:Done calling model_fn.\n",
      "INFO:tensorflow:Graph was finalized.\n",
      "INFO:tensorflow:Restoring parameters from ./mode_CNN_10/model.ckpt-5000\n",
      "INFO:tensorflow:Running local_init_op.\n",
      "INFO:tensorflow:Done running local_init_op.\n"
     ]
    }
   ],
   "source": [
    "\n",
    "test_images = []\n",
    "fnames = []\n",
    "all_files = [y for y in os.listdir(test_pict_path) if '.png' in y]\n",
    "print(type(all_files))\n",
    "i = 0\n",
    "test_images = []\n",
    "fnames = []\n",
    "for file in all_files[120000:130000]:\n",
    "    if (plt.imread(test_pict_path + file).shape == (96,96,3)):\n",
    "        test_images.append(cv2.imread(test_pict_path + file))\n",
    "    else : \n",
    "        test_images.append(np.empty((96,96,3), dtype=np.float32))\n",
    "    fnames.append(file[:-4] + '.wav')\n",
    "test_images = np.array(test_images, dtype=\"float32\")\n",
    "test_images /= 255\n",
    "test_predictions = classifier.predict(input_fn=predict_test_input_fn)\n",
    "test_predictions = np.array([item['classes'] for item in test_predictions])\n",
    "\n",
    "my_submission = pd.DataFrame({'fname': fnames, 'label': test_predictions})\n",
    "# you could use any filename. We choose submission here\n",
    "my_submission.to_csv('speech_' + 'm' + '.csv', index=False)\n"
   ]
  },
  {
   "cell_type": "code",
   "execution_count": null,
   "metadata": {},
   "outputs": [
    {
     "name": "stdout",
     "output_type": "stream",
     "text": [
      "<class 'list'>\n"
     ]
    }
   ],
   "source": [
    "\n",
    "test_images = []\n",
    "fnames = []\n",
    "all_files = [y for y in os.listdir(test_pict_path) if '.png' in y]\n",
    "print(type(all_files))\n",
    "i = 0\n",
    "test_images = []\n",
    "fnames = []\n",
    "for file in all_files[130000:140000]:\n",
    "    if (plt.imread(test_pict_path + file).shape == (96,96,3)):\n",
    "        test_images.append(cv2.imread(test_pict_path + file))\n",
    "    else : \n",
    "        test_images.append(np.empty((96,96,3), dtype=np.float32))\n",
    "    fnames.append(file[:-4] + '.wav')\n",
    "test_images = np.array(test_images, dtype=\"float32\")\n",
    "test_images /= 255\n",
    "test_predictions = classifier.predict(input_fn=predict_test_input_fn)\n",
    "test_predictions = np.array([item['classes'] for item in test_predictions])\n",
    "\n",
    "my_submission = pd.DataFrame({'fname': fnames, 'label': test_predictions})\n",
    "# you could use any filename. We choose submission here\n",
    "my_submission.to_csv('speech_' + 'n' + '.csv', index=False)\n"
   ]
  },
  {
   "cell_type": "code",
   "execution_count": null,
   "metadata": {},
   "outputs": [],
   "source": [
    "test_images = []\n",
    "fnames = []\n",
    "all_files = [y for y in os.listdir(test_pict_path) if '.png' in y]\n",
    "print(type(all_files))\n",
    "i = 0\n",
    "test_images = []\n",
    "fnames = []\n",
    "for file in all_files[140000:150000]:\n",
    "    if (plt.imread(test_pict_path + file).shape == (96,96,3)):\n",
    "        test_images.append(cv2.imread(test_pict_path + file))\n",
    "    else : \n",
    "        test_images.append(np.empty((96,96,3), dtype=np.float32))\n",
    "    fnames.append(file[:-4] + '.wav')\n",
    "test_images = np.array(test_images, dtype=\"float32\")\n",
    "test_images /= 255\n",
    "test_predictions = classifier.predict(input_fn=predict_test_input_fn)\n",
    "test_predictions = np.array([item['classes'] for item in test_predictions])\n",
    "\n",
    "my_submission = pd.DataFrame({'fname': fnames, 'label': test_predictions})\n",
    "# you could use any filename. We choose submission here\n",
    "my_submission.to_csv('speech_' + 'o' + '.csv', index=False)"
   ]
  },
  {
   "cell_type": "code",
   "execution_count": null,
   "metadata": {},
   "outputs": [],
   "source": [
    "test_images = []\n",
    "fnames = []\n",
    "all_files = [y for y in os.listdir(test_pict_path) if '.png' in y]\n",
    "print(type(all_files))\n",
    "i = 0\n",
    "test_images = []\n",
    "fnames = []\n",
    "for file in all_files[150000:]:\n",
    "    if (plt.imread(test_pict_path + file).shape == (96,96,3)):\n",
    "        test_images.append(cv2.imread(test_pict_path + file))\n",
    "    else : \n",
    "        test_images.append(np.empty((96,96,3), dtype=np.float32))\n",
    "    fnames.append(file[:-4] + '.wav')\n",
    "test_images = np.array(test_images, dtype=\"float32\")\n",
    "test_images /= 255\n",
    "test_predictions = classifier.predict(input_fn=predict_test_input_fn)\n",
    "test_predictions = np.array([item['classes'] for item in test_predictions])\n",
    "\n",
    "my_submission = pd.DataFrame({'fname': fnames, 'label': test_predictions})\n",
    "# you could use any filename. We choose submission here\n",
    "my_submission.to_csv('speech_' + 'p' + '.csv', index=False)"
   ]
  },
  {
   "cell_type": "code",
   "execution_count": null,
   "metadata": {},
   "outputs": [],
   "source": []
  },
  {
   "cell_type": "code",
   "execution_count": null,
   "metadata": {},
   "outputs": [],
   "source": []
  },
  {
   "cell_type": "code",
   "execution_count": null,
   "metadata": {},
   "outputs": [],
   "source": []
  },
  {
   "cell_type": "markdown",
   "metadata": {},
   "source": [
    "## Pred Labels"
   ]
  },
  {
   "cell_type": "code",
   "execution_count": 21,
   "metadata": {},
   "outputs": [],
   "source": [
    "label_dict = {'yes':0, 'no':1, 'up':2, 'down':3, 'left':4, 'right':5, 'on':6, 'off':7, \n",
    "              'stop':8, 'go':9, 'silence':10, 'unknown':11}\n",
    "\n",
    "reverse_dict = {v: k for k, v in label_dict.items()}"
   ]
  },
  {
   "cell_type": "code",
   "execution_count": 22,
   "metadata": {},
   "outputs": [
    {
     "data": {
      "text/html": [
       "<div>\n",
       "<style scoped>\n",
       "    .dataframe tbody tr th:only-of-type {\n",
       "        vertical-align: middle;\n",
       "    }\n",
       "\n",
       "    .dataframe tbody tr th {\n",
       "        vertical-align: top;\n",
       "    }\n",
       "\n",
       "    .dataframe thead th {\n",
       "        text-align: right;\n",
       "    }\n",
       "</style>\n",
       "<table border=\"1\" class=\"dataframe\">\n",
       "  <thead>\n",
       "    <tr style=\"text-align: right;\">\n",
       "      <th></th>\n",
       "      <th>fname</th>\n",
       "      <th>label</th>\n",
       "    </tr>\n",
       "  </thead>\n",
       "  <tbody>\n",
       "    <tr>\n",
       "      <th>0</th>\n",
       "      <td>clip_25f96ade6.wav</td>\n",
       "      <td>silence</td>\n",
       "    </tr>\n",
       "    <tr>\n",
       "      <th>1</th>\n",
       "      <td>clip_ac8fa1682.wav</td>\n",
       "      <td>silence</td>\n",
       "    </tr>\n",
       "    <tr>\n",
       "      <th>2</th>\n",
       "      <td>clip_cdadf318a.wav</td>\n",
       "      <td>silence</td>\n",
       "    </tr>\n",
       "    <tr>\n",
       "      <th>3</th>\n",
       "      <td>clip_7419f0d7e.wav</td>\n",
       "      <td>silence</td>\n",
       "    </tr>\n",
       "    <tr>\n",
       "      <th>4</th>\n",
       "      <td>clip_9e83292d5.wav</td>\n",
       "      <td>on</td>\n",
       "    </tr>\n",
       "    <tr>\n",
       "      <th>5</th>\n",
       "      <td>clip_00f803721.wav</td>\n",
       "      <td>silence</td>\n",
       "    </tr>\n",
       "    <tr>\n",
       "      <th>6</th>\n",
       "      <td>clip_aafb5a6d9.wav</td>\n",
       "      <td>on</td>\n",
       "    </tr>\n",
       "    <tr>\n",
       "      <th>7</th>\n",
       "      <td>clip_0dee755a2.wav</td>\n",
       "      <td>unknown</td>\n",
       "    </tr>\n",
       "    <tr>\n",
       "      <th>8</th>\n",
       "      <td>clip_8070bb404.wav</td>\n",
       "      <td>unknown</td>\n",
       "    </tr>\n",
       "    <tr>\n",
       "      <th>9</th>\n",
       "      <td>clip_b3bef71f6.wav</td>\n",
       "      <td>silence</td>\n",
       "    </tr>\n",
       "    <tr>\n",
       "      <th>10</th>\n",
       "      <td>clip_b94577f1e.wav</td>\n",
       "      <td>silence</td>\n",
       "    </tr>\n",
       "    <tr>\n",
       "      <th>11</th>\n",
       "      <td>clip_4fd22b958.wav</td>\n",
       "      <td>on</td>\n",
       "    </tr>\n",
       "    <tr>\n",
       "      <th>12</th>\n",
       "      <td>clip_b3a950c47.wav</td>\n",
       "      <td>silence</td>\n",
       "    </tr>\n",
       "    <tr>\n",
       "      <th>13</th>\n",
       "      <td>clip_c87b8ff71.wav</td>\n",
       "      <td>silence</td>\n",
       "    </tr>\n",
       "    <tr>\n",
       "      <th>14</th>\n",
       "      <td>clip_a0039589b.wav</td>\n",
       "      <td>silence</td>\n",
       "    </tr>\n",
       "    <tr>\n",
       "      <th>15</th>\n",
       "      <td>clip_c7c4eaf1d.wav</td>\n",
       "      <td>silence</td>\n",
       "    </tr>\n",
       "    <tr>\n",
       "      <th>16</th>\n",
       "      <td>clip_f6ff9e9b5.wav</td>\n",
       "      <td>silence</td>\n",
       "    </tr>\n",
       "    <tr>\n",
       "      <th>17</th>\n",
       "      <td>clip_bfc01d316.wav</td>\n",
       "      <td>off</td>\n",
       "    </tr>\n",
       "    <tr>\n",
       "      <th>18</th>\n",
       "      <td>clip_6984491f2.wav</td>\n",
       "      <td>silence</td>\n",
       "    </tr>\n",
       "    <tr>\n",
       "      <th>19</th>\n",
       "      <td>clip_e51432c10.wav</td>\n",
       "      <td>down</td>\n",
       "    </tr>\n",
       "    <tr>\n",
       "      <th>20</th>\n",
       "      <td>clip_fe6ce335c.wav</td>\n",
       "      <td>unknown</td>\n",
       "    </tr>\n",
       "    <tr>\n",
       "      <th>21</th>\n",
       "      <td>clip_3e0ed2f0a.wav</td>\n",
       "      <td>silence</td>\n",
       "    </tr>\n",
       "    <tr>\n",
       "      <th>22</th>\n",
       "      <td>clip_c9f89457a.wav</td>\n",
       "      <td>off</td>\n",
       "    </tr>\n",
       "    <tr>\n",
       "      <th>23</th>\n",
       "      <td>clip_cc3cc2827.wav</td>\n",
       "      <td>silence</td>\n",
       "    </tr>\n",
       "    <tr>\n",
       "      <th>24</th>\n",
       "      <td>clip_7cc8f3c63.wav</td>\n",
       "      <td>silence</td>\n",
       "    </tr>\n",
       "    <tr>\n",
       "      <th>25</th>\n",
       "      <td>clip_3070880b8.wav</td>\n",
       "      <td>off</td>\n",
       "    </tr>\n",
       "    <tr>\n",
       "      <th>26</th>\n",
       "      <td>clip_6f112fd1e.wav</td>\n",
       "      <td>unknown</td>\n",
       "    </tr>\n",
       "    <tr>\n",
       "      <th>27</th>\n",
       "      <td>clip_fb1febbcd.wav</td>\n",
       "      <td>yes</td>\n",
       "    </tr>\n",
       "    <tr>\n",
       "      <th>28</th>\n",
       "      <td>clip_f8de61a7d.wav</td>\n",
       "      <td>off</td>\n",
       "    </tr>\n",
       "    <tr>\n",
       "      <th>29</th>\n",
       "      <td>clip_95442c1ad.wav</td>\n",
       "      <td>silence</td>\n",
       "    </tr>\n",
       "    <tr>\n",
       "      <th>...</th>\n",
       "      <td>...</td>\n",
       "      <td>...</td>\n",
       "    </tr>\n",
       "    <tr>\n",
       "      <th>8508</th>\n",
       "      <td>clip_a409e7c59.wav</td>\n",
       "      <td>unknown</td>\n",
       "    </tr>\n",
       "    <tr>\n",
       "      <th>8509</th>\n",
       "      <td>clip_17a284d62.wav</td>\n",
       "      <td>silence</td>\n",
       "    </tr>\n",
       "    <tr>\n",
       "      <th>8510</th>\n",
       "      <td>clip_ccc2cf3a0.wav</td>\n",
       "      <td>silence</td>\n",
       "    </tr>\n",
       "    <tr>\n",
       "      <th>8511</th>\n",
       "      <td>clip_a022d6b0f.wav</td>\n",
       "      <td>silence</td>\n",
       "    </tr>\n",
       "    <tr>\n",
       "      <th>8512</th>\n",
       "      <td>clip_e80799edd.wav</td>\n",
       "      <td>unknown</td>\n",
       "    </tr>\n",
       "    <tr>\n",
       "      <th>8513</th>\n",
       "      <td>clip_590b569d6.wav</td>\n",
       "      <td>unknown</td>\n",
       "    </tr>\n",
       "    <tr>\n",
       "      <th>8514</th>\n",
       "      <td>clip_f307872c0.wav</td>\n",
       "      <td>silence</td>\n",
       "    </tr>\n",
       "    <tr>\n",
       "      <th>8515</th>\n",
       "      <td>clip_97bddae19.wav</td>\n",
       "      <td>unknown</td>\n",
       "    </tr>\n",
       "    <tr>\n",
       "      <th>8516</th>\n",
       "      <td>clip_9a3d8e307.wav</td>\n",
       "      <td>unknown</td>\n",
       "    </tr>\n",
       "    <tr>\n",
       "      <th>8517</th>\n",
       "      <td>clip_192c4c8b7.wav</td>\n",
       "      <td>silence</td>\n",
       "    </tr>\n",
       "    <tr>\n",
       "      <th>8518</th>\n",
       "      <td>clip_aa5f97a5e.wav</td>\n",
       "      <td>silence</td>\n",
       "    </tr>\n",
       "    <tr>\n",
       "      <th>8519</th>\n",
       "      <td>clip_4d132f74e.wav</td>\n",
       "      <td>unknown</td>\n",
       "    </tr>\n",
       "    <tr>\n",
       "      <th>8520</th>\n",
       "      <td>clip_f213e6669.wav</td>\n",
       "      <td>off</td>\n",
       "    </tr>\n",
       "    <tr>\n",
       "      <th>8521</th>\n",
       "      <td>clip_cceddadaf.wav</td>\n",
       "      <td>silence</td>\n",
       "    </tr>\n",
       "    <tr>\n",
       "      <th>8522</th>\n",
       "      <td>clip_e4409418c.wav</td>\n",
       "      <td>on</td>\n",
       "    </tr>\n",
       "    <tr>\n",
       "      <th>8523</th>\n",
       "      <td>clip_3405ed2d1.wav</td>\n",
       "      <td>unknown</td>\n",
       "    </tr>\n",
       "    <tr>\n",
       "      <th>8524</th>\n",
       "      <td>clip_4b2d5d22f.wav</td>\n",
       "      <td>unknown</td>\n",
       "    </tr>\n",
       "    <tr>\n",
       "      <th>8525</th>\n",
       "      <td>clip_f7d8f27d3.wav</td>\n",
       "      <td>silence</td>\n",
       "    </tr>\n",
       "    <tr>\n",
       "      <th>8526</th>\n",
       "      <td>clip_08e2f8e78.wav</td>\n",
       "      <td>silence</td>\n",
       "    </tr>\n",
       "    <tr>\n",
       "      <th>8527</th>\n",
       "      <td>clip_1374683d1.wav</td>\n",
       "      <td>silence</td>\n",
       "    </tr>\n",
       "    <tr>\n",
       "      <th>8528</th>\n",
       "      <td>clip_135bc0720.wav</td>\n",
       "      <td>unknown</td>\n",
       "    </tr>\n",
       "    <tr>\n",
       "      <th>8529</th>\n",
       "      <td>clip_b903ccfbb.wav</td>\n",
       "      <td>unknown</td>\n",
       "    </tr>\n",
       "    <tr>\n",
       "      <th>8530</th>\n",
       "      <td>clip_d63120591.wav</td>\n",
       "      <td>silence</td>\n",
       "    </tr>\n",
       "    <tr>\n",
       "      <th>8531</th>\n",
       "      <td>clip_c0f642e3c.wav</td>\n",
       "      <td>unknown</td>\n",
       "    </tr>\n",
       "    <tr>\n",
       "      <th>8532</th>\n",
       "      <td>clip_82890a52e.wav</td>\n",
       "      <td>silence</td>\n",
       "    </tr>\n",
       "    <tr>\n",
       "      <th>8533</th>\n",
       "      <td>clip_fd9ac86a1.wav</td>\n",
       "      <td>silence</td>\n",
       "    </tr>\n",
       "    <tr>\n",
       "      <th>8534</th>\n",
       "      <td>clip_61a6cc3a0.wav</td>\n",
       "      <td>unknown</td>\n",
       "    </tr>\n",
       "    <tr>\n",
       "      <th>8535</th>\n",
       "      <td>clip_701cc7171.wav</td>\n",
       "      <td>unknown</td>\n",
       "    </tr>\n",
       "    <tr>\n",
       "      <th>8536</th>\n",
       "      <td>clip_38d480e69.wav</td>\n",
       "      <td>silence</td>\n",
       "    </tr>\n",
       "    <tr>\n",
       "      <th>8537</th>\n",
       "      <td>clip_7843dfbdb.wav</td>\n",
       "      <td>silence</td>\n",
       "    </tr>\n",
       "  </tbody>\n",
       "</table>\n",
       "<p>158538 rows × 2 columns</p>\n",
       "</div>"
      ],
      "text/plain": [
       "                   fname    label\n",
       "0     clip_25f96ade6.wav  silence\n",
       "1     clip_ac8fa1682.wav  silence\n",
       "2     clip_cdadf318a.wav  silence\n",
       "3     clip_7419f0d7e.wav  silence\n",
       "4     clip_9e83292d5.wav       on\n",
       "5     clip_00f803721.wav  silence\n",
       "6     clip_aafb5a6d9.wav       on\n",
       "7     clip_0dee755a2.wav  unknown\n",
       "8     clip_8070bb404.wav  unknown\n",
       "9     clip_b3bef71f6.wav  silence\n",
       "10    clip_b94577f1e.wav  silence\n",
       "11    clip_4fd22b958.wav       on\n",
       "12    clip_b3a950c47.wav  silence\n",
       "13    clip_c87b8ff71.wav  silence\n",
       "14    clip_a0039589b.wav  silence\n",
       "15    clip_c7c4eaf1d.wav  silence\n",
       "16    clip_f6ff9e9b5.wav  silence\n",
       "17    clip_bfc01d316.wav      off\n",
       "18    clip_6984491f2.wav  silence\n",
       "19    clip_e51432c10.wav     down\n",
       "20    clip_fe6ce335c.wav  unknown\n",
       "21    clip_3e0ed2f0a.wav  silence\n",
       "22    clip_c9f89457a.wav      off\n",
       "23    clip_cc3cc2827.wav  silence\n",
       "24    clip_7cc8f3c63.wav  silence\n",
       "25    clip_3070880b8.wav      off\n",
       "26    clip_6f112fd1e.wav  unknown\n",
       "27    clip_fb1febbcd.wav      yes\n",
       "28    clip_f8de61a7d.wav      off\n",
       "29    clip_95442c1ad.wav  silence\n",
       "...                  ...      ...\n",
       "8508  clip_a409e7c59.wav  unknown\n",
       "8509  clip_17a284d62.wav  silence\n",
       "8510  clip_ccc2cf3a0.wav  silence\n",
       "8511  clip_a022d6b0f.wav  silence\n",
       "8512  clip_e80799edd.wav  unknown\n",
       "8513  clip_590b569d6.wav  unknown\n",
       "8514  clip_f307872c0.wav  silence\n",
       "8515  clip_97bddae19.wav  unknown\n",
       "8516  clip_9a3d8e307.wav  unknown\n",
       "8517  clip_192c4c8b7.wav  silence\n",
       "8518  clip_aa5f97a5e.wav  silence\n",
       "8519  clip_4d132f74e.wav  unknown\n",
       "8520  clip_f213e6669.wav      off\n",
       "8521  clip_cceddadaf.wav  silence\n",
       "8522  clip_e4409418c.wav       on\n",
       "8523  clip_3405ed2d1.wav  unknown\n",
       "8524  clip_4b2d5d22f.wav  unknown\n",
       "8525  clip_f7d8f27d3.wav  silence\n",
       "8526  clip_08e2f8e78.wav  silence\n",
       "8527  clip_1374683d1.wav  silence\n",
       "8528  clip_135bc0720.wav  unknown\n",
       "8529  clip_b903ccfbb.wav  unknown\n",
       "8530  clip_d63120591.wav  silence\n",
       "8531  clip_c0f642e3c.wav  unknown\n",
       "8532  clip_82890a52e.wav  silence\n",
       "8533  clip_fd9ac86a1.wav  silence\n",
       "8534  clip_61a6cc3a0.wav  unknown\n",
       "8535  clip_701cc7171.wav  unknown\n",
       "8536  clip_38d480e69.wav  silence\n",
       "8537  clip_7843dfbdb.wav  silence\n",
       "\n",
       "[158538 rows x 2 columns]"
      ]
     },
     "execution_count": 22,
     "metadata": {},
     "output_type": "execute_result"
    }
   ],
   "source": [
    "d0 = pd.read_csv(\"./speech_\" + 'a' + \".csv\",sep=\",\")\n",
    "d1 = pd.read_csv(\"./speech_\" + 'b' + \".csv\",sep=\",\")\n",
    "d2 = pd.read_csv(\"./speech_\" + 'c' + \".csv\",sep=\",\")\n",
    "d3 = pd.read_csv(\"./speech_\" + 'd' + \".csv\",sep=\",\")\n",
    "d4 = pd.read_csv(\"./speech_\" + 'e' + \".csv\",sep=\",\")\n",
    "d5 = pd.read_csv(\"./speech_\" + 'f' + \".csv\",sep=\",\")\n",
    "d6 = pd.read_csv(\"./speech_\" + 'g' + \".csv\",sep=\",\")\n",
    "d7 = pd.read_csv(\"./speech_\" + 'h' + \".csv\",sep=\",\")\n",
    "d8 = pd.read_csv(\"./speech_\" + 'i' + \".csv\",sep=\",\")\n",
    "d9 = pd.read_csv(\"./speech_\" + 'j' + \".csv\",sep=\",\")\n",
    "d10 = pd.read_csv(\"./speech_\" + 'k' + \".csv\",sep=\",\")\n",
    "d11 = pd.read_csv(\"./speech_\" + 'l' + \".csv\",sep=\",\")\n",
    "d12 = pd.read_csv(\"./speech_\" + 'm' + \".csv\",sep=\",\")\n",
    "d13 = pd.read_csv(\"./speech_\" + 'n' + \".csv\",sep=\",\")\n",
    "d14 = pd.read_csv(\"./speech_\" + 'o' + \".csv\",sep=\",\")\n",
    "d15 = pd.read_csv(\"./speech_\" + 'p' + \".csv\",sep=\",\")\n",
    "\n",
    "df = [d0,d1,d2,d3,d4,d5,d6,d7,d8,d9,d10,d11,d12,d13,d14,d15]\n",
    "dx = pd.concat(df)\n",
    "\n",
    "dx = dx.replace({\"label\": reverse_dict})\n",
    "\n",
    "dx.to_csv('submission_v4.csv', index=False)\n",
    "dx"
   ]
  },
  {
   "cell_type": "code",
   "execution_count": 23,
   "metadata": {},
   "outputs": [
    {
     "data": {
      "text/html": [
       "<div>\n",
       "<style scoped>\n",
       "    .dataframe tbody tr th:only-of-type {\n",
       "        vertical-align: middle;\n",
       "    }\n",
       "\n",
       "    .dataframe tbody tr th {\n",
       "        vertical-align: top;\n",
       "    }\n",
       "\n",
       "    .dataframe thead th {\n",
       "        text-align: right;\n",
       "    }\n",
       "</style>\n",
       "<table border=\"1\" class=\"dataframe\">\n",
       "  <thead>\n",
       "    <tr style=\"text-align: right;\">\n",
       "      <th></th>\n",
       "      <th>fname</th>\n",
       "      <th>label</th>\n",
       "    </tr>\n",
       "    <tr>\n",
       "      <th>label</th>\n",
       "      <th></th>\n",
       "      <th></th>\n",
       "    </tr>\n",
       "  </thead>\n",
       "  <tbody>\n",
       "    <tr>\n",
       "      <th>down</th>\n",
       "      <td>5167</td>\n",
       "      <td>1</td>\n",
       "    </tr>\n",
       "    <tr>\n",
       "      <th>go</th>\n",
       "      <td>915</td>\n",
       "      <td>1</td>\n",
       "    </tr>\n",
       "    <tr>\n",
       "      <th>left</th>\n",
       "      <td>25</td>\n",
       "      <td>1</td>\n",
       "    </tr>\n",
       "    <tr>\n",
       "      <th>no</th>\n",
       "      <td>1</td>\n",
       "      <td>1</td>\n",
       "    </tr>\n",
       "    <tr>\n",
       "      <th>off</th>\n",
       "      <td>13678</td>\n",
       "      <td>1</td>\n",
       "    </tr>\n",
       "    <tr>\n",
       "      <th>on</th>\n",
       "      <td>4845</td>\n",
       "      <td>1</td>\n",
       "    </tr>\n",
       "    <tr>\n",
       "      <th>right</th>\n",
       "      <td>836</td>\n",
       "      <td>1</td>\n",
       "    </tr>\n",
       "    <tr>\n",
       "      <th>silence</th>\n",
       "      <td>62904</td>\n",
       "      <td>1</td>\n",
       "    </tr>\n",
       "    <tr>\n",
       "      <th>stop</th>\n",
       "      <td>4</td>\n",
       "      <td>1</td>\n",
       "    </tr>\n",
       "    <tr>\n",
       "      <th>unknown</th>\n",
       "      <td>65579</td>\n",
       "      <td>1</td>\n",
       "    </tr>\n",
       "    <tr>\n",
       "      <th>up</th>\n",
       "      <td>189</td>\n",
       "      <td>1</td>\n",
       "    </tr>\n",
       "    <tr>\n",
       "      <th>yes</th>\n",
       "      <td>4395</td>\n",
       "      <td>1</td>\n",
       "    </tr>\n",
       "  </tbody>\n",
       "</table>\n",
       "</div>"
      ],
      "text/plain": [
       "         fname  label\n",
       "label                \n",
       "down      5167      1\n",
       "go         915      1\n",
       "left        25      1\n",
       "no           1      1\n",
       "off      13678      1\n",
       "on        4845      1\n",
       "right      836      1\n",
       "silence  62904      1\n",
       "stop         4      1\n",
       "unknown  65579      1\n",
       "up         189      1\n",
       "yes       4395      1"
      ]
     },
     "execution_count": 23,
     "metadata": {},
     "output_type": "execute_result"
    }
   ],
   "source": [
    "dx.groupby('label').nunique()"
   ]
  },
  {
   "cell_type": "code",
   "execution_count": null,
   "metadata": {},
   "outputs": [],
   "source": []
  },
  {
   "cell_type": "code",
   "execution_count": null,
   "metadata": {},
   "outputs": [],
   "source": []
  }
 ],
 "metadata": {
  "kernelspec": {
   "display_name": "Python 3",
   "language": "python",
   "name": "python3"
  },
  "language_info": {
   "codemirror_mode": {
    "name": "ipython",
    "version": 3
   },
   "file_extension": ".py",
   "mimetype": "text/x-python",
   "name": "python",
   "nbconvert_exporter": "python",
   "pygments_lexer": "ipython3",
   "version": "3.6.7"
  }
 },
 "nbformat": 4,
 "nbformat_minor": 2
}
