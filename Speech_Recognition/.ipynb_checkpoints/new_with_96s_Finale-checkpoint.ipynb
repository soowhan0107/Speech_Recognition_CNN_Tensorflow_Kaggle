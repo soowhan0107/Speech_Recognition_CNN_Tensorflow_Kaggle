{
 "cells": [
  {
   "cell_type": "code",
   "execution_count": 1,
   "metadata": {
    "scrolled": true
   },
   "outputs": [
    {
     "data": {
      "text/html": [
       "<script type=\"text/javascript\">window.PlotlyConfig = {MathJaxConfig: 'local'};</script><script type=\"text/javascript\">if (window.MathJax) {MathJax.Hub.Config({SVG: {font: \"STIX-Web\"}});}</script><script>requirejs.config({paths: { 'plotly': ['https://cdn.plot.ly/plotly-latest.min']},});if(!window._Plotly) {require(['plotly'],function(plotly) {window._Plotly=plotly;});}</script>"
      ],
      "text/vnd.plotly.v1+html": [
       "<script type=\"text/javascript\">window.PlotlyConfig = {MathJaxConfig: 'local'};</script><script type=\"text/javascript\">if (window.MathJax) {MathJax.Hub.Config({SVG: {font: \"STIX-Web\"}});}</script><script>requirejs.config({paths: { 'plotly': ['https://cdn.plot.ly/plotly-latest.min']},});if(!window._Plotly) {require(['plotly'],function(plotly) {window._Plotly=plotly;});}</script>"
      ]
     },
     "metadata": {},
     "output_type": "display_data"
    }
   ],
   "source": [
    "import os\n",
    "from os.path import isdir, join\n",
    "from pathlib import Path\n",
    "\n",
    "#Scientific Library\n",
    "import numpy as np\n",
    "import pandas as pd\n",
    "from scipy.fftpack import fft\n",
    "from scipy import signal\n",
    "from scipy.io import wavfile\n",
    "from scipy.misc import imread\n",
    "from sklearn import metrics\n",
    "import glob\n",
    "import seaborn as sns\n",
    "import cv2\n",
    "from tensorflow.python.data import Dataset\n",
    "\n",
    "# Visualization Library\n",
    "import matplotlib.pyplot as plt\n",
    "import tensorflow as tf\n",
    "import IPython.display as ipd\n",
    "import plotly.offline as py\n",
    "py.init_notebook_mode(connected=True)\n",
    "import plotly.graph_objs as go\n",
    "    \n",
    "%matplotlib inline"
   ]
  },
  {
   "cell_type": "markdown",
   "metadata": {},
   "source": [
    "10 classes from the list : \n",
    "yes, no, up, down, left, right, on, off, stop, go\n",
    "\n",
    "2 classes below :\n",
    "1. 6 pictures from silence * randomly selected multiplication to equal 400 -> 100 (penalize).\n",
    "2. everything else to unknown\n",
    "\n",
    "Take 400 pictures from each class above - 4000 total\n",
    "and from the rest of 20 classes, take 20 pictures from each - 400 pictures for unknown\n",
    "\n",
    "Possible Data Augmentation on 6 pictures for silence = 400 -> 100\n",
    "\n",
    "-> for now, total of 4000 + 100 + 400 = 4500 pictures.\n",
    "Everything in order."
   ]
  },
  {
   "cell_type": "code",
   "execution_count": 2,
   "metadata": {},
   "outputs": [],
   "source": [
    "cat = os.listdir('../input/audio/cat')\n",
    "down = os.listdir('../input/audio/down')\n",
    "four = os.listdir('../input/audio/four')\n",
    "house = os.listdir('../input/audio/house')\n",
    "nine = os.listdir('../input/audio/nine')\n",
    "on = os.listdir('../input/audio/on')\n",
    "seven = os.listdir('../input/audio/seven')\n",
    "stop = os.listdir('../input/audio/stop')\n",
    "two = os.listdir('../input/audio/two')\n",
    "yes = os.listdir('../input/audio/yes')\n",
    "bed = os.listdir('../input/audio/bed')\n",
    "eight = os.listdir('../input/audio/eight')\n",
    "go = os.listdir('../input/audio/go')\n",
    "left = os.listdir('../input/audio/left')\n",
    "no = os.listdir('../input/audio/no')\n",
    "one = os.listdir('../input/audio/one')\n",
    "sheila = os.listdir('../input/audio/sheila')\n",
    "three = os.listdir('../input/audio/three')\n",
    "up = os.listdir('../input/audio/up')\n",
    "zero = os.listdir('../input/audio/zero')\n",
    "bird = os.listdir('../input/audio/bird')\n",
    "dog = os.listdir('../input/audio/dog')\n",
    "five = os.listdir('../input/audio/five')\n",
    "happy = os.listdir('../input/audio/happy')\n",
    "marvin = os.listdir('../input/audio/marvin')\n",
    "off = os.listdir('../input/audio/off')\n",
    "right = os.listdir('../input/audio/right')\n",
    "six = os.listdir('../input/audio/six')\n",
    "tree = os.listdir('../input/audio/tree')\n",
    "wow = os.listdir('../input/audio/wow')\n",
    "silence = os.listdir('../input/audio/silence')"
   ]
  },
  {
   "cell_type": "code",
   "execution_count": 3,
   "metadata": {},
   "outputs": [
    {
     "name": "stdout",
     "output_type": "stream",
     "text": [
      "2377\n"
     ]
    }
   ],
   "source": [
    "print(len(yes))"
   ]
  },
  {
   "cell_type": "markdown",
   "metadata": {},
   "source": [
    "by doing ls -R | wc -l, found out there are total of 64823 spectrogram. We will put in 100 from each first."
   ]
  },
  {
   "cell_type": "code",
   "execution_count": 4,
   "metadata": {},
   "outputs": [],
   "source": [
    "#no[2]"
   ]
  },
  {
   "cell_type": "code",
   "execution_count": 5,
   "metadata": {},
   "outputs": [],
   "source": [
    "#data = np.empty((100,129,256), dtype=np.float32)"
   ]
  },
  {
   "cell_type": "code",
   "execution_count": 6,
   "metadata": {},
   "outputs": [],
   "source": [
    "#index=0\n",
    "#image_name_list = sheila\n",
    "#for image_name in image_name_list[:100]:\n",
    "#    imageA = plt.imread('../input/audio/sheila/' + image_name)\n",
    "#    data[index] = imageA\n",
    "#    index+=1"
   ]
  },
  {
   "cell_type": "code",
   "execution_count": 7,
   "metadata": {},
   "outputs": [
    {
     "data": {
      "image/png": "[encoded data removed]",
      "text/plain": [
       "<PIL.PngImagePlugin.PngImageFile image mode=RGB size=96x96 at 0x7FDA18D43DA0>"
      ]
     },
     "execution_count": 7,
     "metadata": {},
     "output_type": "execute_result"
    }
   ],
   "source": [
    "from PIL import Image\n",
    "a=Image.open('../input/audio/sheila/' + sheila[9])\n",
    "a"
   ]
  },
  {
   "cell_type": "code",
   "execution_count": null,
   "metadata": {},
   "outputs": [],
   "source": []
  },
  {
   "cell_type": "code",
   "execution_count": null,
   "metadata": {},
   "outputs": [],
   "source": []
  },
  {
   "cell_type": "code",
   "execution_count": null,
   "metadata": {},
   "outputs": [],
   "source": []
  },
  {
   "cell_type": "code",
   "execution_count": 8,
   "metadata": {},
   "outputs": [],
   "source": [
    "#Convert Yes Spectrogram Images to Pixels\n",
    "\n",
    "data = np.empty((4500,96,96,3), dtype=np.float32)\n",
    "\n",
    "# top 10\n",
    "\n",
    "index = 0\n",
    "image_name_list = yes\n",
    "for image_name in image_name_list[:400]:\n",
    "    imageA = Image.open('../input/audio/yes/' + image_name)\n",
    "    data[index] = imageA\n",
    "    index+=1\n",
    "    \n",
    "image_name_list = no\n",
    "for image_name in image_name_list[:400]:\n",
    "    imageA = Image.open('../input/audio/no/' + image_name)\n",
    "    data[index] = imageA\n",
    "    index+=1\n",
    "        \n",
    "image_name_list = up\n",
    "for image_name in image_name_list[:400]:\n",
    "    imageA = Image.open('../input/audio/up/' + image_name)\n",
    "    data[index] = imageA\n",
    "    index+=1\n",
    "    \n",
    "image_name_list = down\n",
    "for image_name in image_name_list[:400]:\n",
    "    imageA = Image.open('../input/audio/down/' + image_name)\n",
    "    data[index] = imageA\n",
    "    index+=1\n",
    "    \n",
    "image_name_list = left\n",
    "for image_name in image_name_list[:400]:\n",
    "    imageA = Image.open('../input/audio/left/' + image_name)\n",
    "    data[index] = imageA\n",
    "    index+=1\n",
    "    \n",
    "image_name_list = right\n",
    "for image_name in image_name_list[:400]:\n",
    "    imageA = Image.open('../input/audio/right/' + image_name)\n",
    "    data[index] = imageA\n",
    "    index+=1\n",
    "    \n",
    "image_name_list = on\n",
    "for image_name in image_name_list[:400]:\n",
    "    imageA = Image.open('../input/audio/on/' + image_name)\n",
    "    data[index] = imageA\n",
    "    index+=1\n",
    "    \n",
    "image_name_list = off\n",
    "for image_name in image_name_list[:400]:\n",
    "    imageA = Image.open('../input/audio/off/' + image_name)\n",
    "    data[index] = imageA\n",
    "    index+=1\n",
    "    \n",
    "image_name_list = stop\n",
    "for image_name in image_name_list[:400]:\n",
    "    imageA = Image.open('../input/audio/stop/' + image_name)\n",
    "    data[index] = imageA\n",
    "    index+=1\n",
    "    \n",
    "image_name_list = go\n",
    "for image_name in image_name_list[:400]:\n",
    "    imageA = Image.open('../input/audio/go/' + image_name)\n",
    "    data[index] = imageA\n",
    "    index+=1\n",
    "    \n",
    "# Top 10 done\n",
    "\n",
    "# Silence 100 pictures  \n",
    "image_name_list = silence\n",
    "for image_name in image_name_list[:100]:\n",
    "    imageA = Image.open('../input/audio/silence/' + image_name)\n",
    "    data[index] = imageA\n",
    "    index+=1    \n",
    "\n",
    "# Unknown : 20 pictures from the rest\n",
    "    \n",
    "image_name_list = cat\n",
    "for image_name in image_name_list[:60]:\n",
    "    imageA = Image.open('../input/audio/cat/' + image_name)\n",
    "    data[index] = imageA\n",
    "    index+=1\n",
    "     \n",
    "image_name_list = four\n",
    "for image_name in image_name_list[:60]:\n",
    "    imageA = Image.open('../input/audio/four/' + image_name)\n",
    "    data[index] = imageA\n",
    "    index+=1\n",
    "    \n",
    "image_name_list = house\n",
    "for image_name in image_name_list[:60]:\n",
    "    imageA = Image.open('../input/audio/house/' + image_name)\n",
    "    data[index] = imageA\n",
    "    index+=1\n",
    "    \n",
    "image_name_list = nine\n",
    "for image_name in image_name_list[:60]:\n",
    "    imageA = Image.open('../input/audio/nine/' + image_name)\n",
    "    data[index] = imageA\n",
    "    index+=1\n",
    "    \n",
    "image_name_list = seven\n",
    "for image_name in image_name_list[:60]:\n",
    "    imageA = Image.open('../input/audio/seven/' + image_name)\n",
    "    data[index] = imageA\n",
    "    index+=1\n",
    "    \n",
    "image_name_list = two\n",
    "for image_name in image_name_list[:60]:\n",
    "    imageA = Image.open('../input/audio/two/' + image_name)\n",
    "    data[index] = imageA\n",
    "    index+=1\n",
    "\n",
    "image_name_list = bed\n",
    "for image_name in image_name_list[:60]:\n",
    "    imageA = Image.open('../input/audio/bed/' + image_name)\n",
    "    data[index] = imageA\n",
    "    index+=1\n",
    "    \n",
    "image_name_list = eight\n",
    "for image_name in image_name_list[:60]:\n",
    "    imageA = Image.open('../input/audio/eight/' + image_name)\n",
    "    data[index] = imageA\n",
    "    index+=1\n",
    "    \n",
    "image_name_list = one\n",
    "for image_name in image_name_list[:60]:\n",
    "    imageA = Image.open('../input/audio/one/' + image_name)\n",
    "    data[index] = imageA\n",
    "    index+=1\n",
    "    \n",
    "image_name_list = sheila\n",
    "for image_name in image_name_list[:60]:\n",
    "    imageA = Image.open('../input/audio/sheila/' + image_name)\n",
    "    data[index] = imageA\n",
    "    index+=1\n",
    "    \n",
    "image_name_list = three\n",
    "for image_name in image_name_list[:60]:\n",
    "    imageA = plt.imread('../input/audio/three/' + image_name)\n",
    "    data[index] = imageA\n",
    "    index+=1\n",
    "    \n",
    "image_name_list = zero\n",
    "for image_name in image_name_list[:60]:\n",
    "    imageA = Image.open('../input/audio/zero/' + image_name)\n",
    "    data[index] = imageA\n",
    "    index+=1\n",
    "    \n",
    "image_name_list = bird\n",
    "for image_name in image_name_list[:60]:\n",
    "    imageA = Image.open('../input/audio/bird/' + image_name)\n",
    "    data[index] = imageA\n",
    "    index+=1\n",
    "    \n",
    "image_name_list = dog\n",
    "for image_name in image_name_list[:20]:\n",
    "    imageA = Image.open('../input/audio/dog/' + image_name)\n",
    "    data[index] = imageA\n",
    "    index+=1\n",
    "    \n",
    "image_name_list = five\n",
    "for image_name in image_name_list[:20]:\n",
    "    imageA = Image.open('../input/audio/five/' + image_name)\n",
    "    data[index] = imageA\n",
    "    index+=1\n",
    "    \n",
    "image_name_list = happy\n",
    "for image_name in image_name_list[:20]:\n",
    "    imageA = Image.open('../input/audio/happy/' + image_name)\n",
    "    data[index] = imageA\n",
    "    index+=1\n",
    "    \n",
    "image_name_list = marvin\n",
    "for image_name in image_name_list[:20]:\n",
    "    imageA = Image.open('../input/audio/marvin/' + image_name)\n",
    "    data[index] = imageA\n",
    "    index+=1 \n",
    "    \n",
    "image_name_list = six\n",
    "for image_name in image_name_list[:20]:\n",
    "    imageA = Image.open('../input/audio/six/' + image_name)\n",
    "    data[index] = imageA\n",
    "    index+=1\n",
    "    \n",
    "image_name_list = tree\n",
    "for image_name in image_name_list[:20]:\n",
    "    imageA = Image.open('../input/audio/tree/' + image_name)\n",
    "    data[index] = imageA\n",
    "    index+=1\n",
    "    \n",
    "image_name_list = wow\n",
    "for image_name in image_name_list[:20]:\n",
    "    imageA = Image.open('../input/audio/wow/' + image_name)\n",
    "    data[index] = imageA\n",
    "    index+=1"
   ]
  },
  {
   "cell_type": "code",
   "execution_count": 9,
   "metadata": {},
   "outputs": [
    {
     "data": {
      "text/plain": [
       "(4500, 96, 96, 3)"
      ]
     },
     "execution_count": 9,
     "metadata": {},
     "output_type": "execute_result"
    }
   ],
   "source": [
    "# 4800 data sets with 30 classes and 100 spectrograms in each class\n",
    "data.shape"
   ]
  },
  {
   "cell_type": "code",
   "execution_count": 10,
   "metadata": {
    "scrolled": true
   },
   "outputs": [
    {
     "data": {
      "text/plain": [
       "array([[[255., 255., 254.],\n",
       "        [255., 255., 254.],\n",
       "        [255., 255., 253.],\n",
       "        ...,\n",
       "        [255., 255., 228.],\n",
       "        [255., 255., 242.],\n",
       "        [255., 255., 253.]],\n",
       "\n",
       "       [[255., 255., 250.],\n",
       "        [255., 255., 253.],\n",
       "        [255., 255., 240.],\n",
       "        ...,\n",
       "        [255., 255., 225.],\n",
       "        [255., 255., 236.],\n",
       "        [255., 255., 246.]],\n",
       "\n",
       "       [[255., 255., 249.],\n",
       "        [255., 255., 251.],\n",
       "        [255., 255., 247.],\n",
       "        ...,\n",
       "        [255., 255., 204.],\n",
       "        [255., 255., 228.],\n",
       "        [255., 255., 226.]],\n",
       "\n",
       "       ...,\n",
       "\n",
       "       [[252., 106.,   1.],\n",
       "        [254., 112.,   1.],\n",
       "        [253., 128.,   6.],\n",
       "        ...,\n",
       "        [253., 134.,  13.],\n",
       "        [252., 115.,   2.],\n",
       "        [253., 112.,   2.]],\n",
       "\n",
       "       [[229.,  18.,  30.],\n",
       "        [230.,  29.,  30.],\n",
       "        [226.,  18.,  34.],\n",
       "        ...,\n",
       "        [234.,  24.,  23.],\n",
       "        [230.,  12.,  26.],\n",
       "        [225.,  12.,  35.]],\n",
       "\n",
       "       [[204.,   0.,  71.],\n",
       "        [196.,   0.,  83.],\n",
       "        [191.,   0.,  88.],\n",
       "        ...,\n",
       "        [206.,   0.,  68.],\n",
       "        [202.,   0.,  74.],\n",
       "        [190.,   0.,  90.]]], dtype=float32)"
      ]
     },
     "execution_count": 10,
     "metadata": {},
     "output_type": "execute_result"
    }
   ],
   "source": [
    "# check if the end is not empty meaning that 3000 has all been transferred\n",
    "data[-1]"
   ]
  },
  {
   "cell_type": "code",
   "execution_count": 11,
   "metadata": {},
   "outputs": [],
   "source": [
    "data = data/255"
   ]
  },
  {
   "cell_type": "code",
   "execution_count": 12,
   "metadata": {
    "scrolled": true
   },
   "outputs": [
    {
     "name": "stdout",
     "output_type": "stream",
     "text": [
      "(96, 96, 3)\n"
     ]
    },
    {
     "data": {
      "image/png": "[encoded data removed]",
      "text/plain": [
       "<Figure size 432x288 with 1 Axes>"
      ]
     },
     "metadata": {
      "needs_background": "light"
     },
     "output_type": "display_data"
    }
   ],
   "source": [
    "#show one image\n",
    "plt.imshow(data[456])\n",
    "print(data[456].shape)"
   ]
  },
  {
   "cell_type": "code",
   "execution_count": 13,
   "metadata": {},
   "outputs": [],
   "source": [
    "# Flatten\n",
    "# 50, 50 -> 2500\n",
    "#single_image = data[0].flatten()"
   ]
  },
  {
   "cell_type": "code",
   "execution_count": 14,
   "metadata": {},
   "outputs": [],
   "source": [
    "#single_image.shape"
   ]
  },
  {
   "cell_type": "code",
   "execution_count": 15,
   "metadata": {},
   "outputs": [],
   "source": [
    "#new_image = single_image.reshape(129, 256, 3)"
   ]
  },
  {
   "cell_type": "code",
   "execution_count": 16,
   "metadata": {},
   "outputs": [],
   "source": [
    "#random_df = pd.DataFrame(single_image)"
   ]
  },
  {
   "cell_type": "code",
   "execution_count": 17,
   "metadata": {},
   "outputs": [],
   "source": [
    "#random_df = random_df.T"
   ]
  },
  {
   "cell_type": "code",
   "execution_count": 18,
   "metadata": {},
   "outputs": [],
   "source": [
    "#random_df[-1] = [0]"
   ]
  },
  {
   "cell_type": "code",
   "execution_count": 19,
   "metadata": {},
   "outputs": [],
   "source": [
    "#random_df"
   ]
  },
  {
   "cell_type": "code",
   "execution_count": 20,
   "metadata": {},
   "outputs": [],
   "source": [
    "#data = data/255"
   ]
  },
  {
   "cell_type": "code",
   "execution_count": 21,
   "metadata": {},
   "outputs": [
    {
     "name": "stdout",
     "output_type": "stream",
     "text": [
      "min of pixel : 0.0\n",
      "max of pixel : 1.0\n"
     ]
    }
   ],
   "source": [
    "print(\"min of pixel : \" + str(data[0].min()))\n",
    "print(\"max of pixel : \" + str(data[0].max()))"
   ]
  },
  {
   "cell_type": "code",
   "execution_count": 22,
   "metadata": {},
   "outputs": [
    {
     "data": {
      "text/plain": [
       "'\\n#concatenate all the flattened spectrograms in order\\nfl_data = np.empty((4800,2500), dtype=np.float32)\\n\\nfor i in range(len(data)):\\n    flat = data[i].flatten()\\n    fl_data[i] = flat\\n'"
      ]
     },
     "execution_count": 22,
     "metadata": {},
     "output_type": "execute_result"
    }
   ],
   "source": [
    "\"\"\"\n",
    "#concatenate all the flattened spectrograms in order\n",
    "fl_data = np.empty((4800,2500), dtype=np.float32)\n",
    "\n",
    "for i in range(len(data)):\n",
    "    flat = data[i].flatten()\n",
    "    fl_data[i] = flat\n",
    "\"\"\""
   ]
  },
  {
   "cell_type": "code",
   "execution_count": 23,
   "metadata": {},
   "outputs": [
    {
     "data": {
      "text/plain": [
       "'\\n# check if transferred all\\nprint(\"size : \" + str(fl_data.shape))\\nprint(fl_data[-1])\\n'"
      ]
     },
     "execution_count": 23,
     "metadata": {},
     "output_type": "execute_result"
    }
   ],
   "source": [
    "\"\"\"\n",
    "# check if transferred all\n",
    "print(\"size : \" + str(fl_data.shape))\n",
    "print(fl_data[-1])\n",
    "\"\"\""
   ]
  },
  {
   "cell_type": "code",
   "execution_count": 24,
   "metadata": {},
   "outputs": [],
   "source": [
    "#for i in range(30):\n",
    "#    print(i % 10)"
   ]
  },
  {
   "cell_type": "code",
   "execution_count": 25,
   "metadata": {},
   "outputs": [],
   "source": [
    "#unique\n",
    "def unique(list1): \n",
    "  \n",
    "    # intilize a null list \n",
    "    unique_list = [] \n",
    "      \n",
    "    # traverse for all elements \n",
    "    for x in list1: \n",
    "        # check if exists in unique_list or not \n",
    "        if x not in unique_list: \n",
    "            unique_list.append(x)\n",
    "    # print list \n",
    "    for x in unique_list: \n",
    "        print (x) "
   ]
  },
  {
   "cell_type": "code",
   "execution_count": 26,
   "metadata": {},
   "outputs": [],
   "source": [
    "# create labels\n",
    "label = np.zeros((400,), dtype=int)\n",
    "\n",
    "for i in range(1, 10):\n",
    "    label = np.concatenate((label, np.repeat(i, 400)))\n",
    "    \n",
    "label = np.concatenate((label, np.repeat(10, 100)))\n",
    "label = np.concatenate((label, np.repeat(11, 400)))"
   ]
  },
  {
   "cell_type": "code",
   "execution_count": 27,
   "metadata": {},
   "outputs": [
    {
     "name": "stdout",
     "output_type": "stream",
     "text": [
      "0\n",
      "1\n",
      "2\n",
      "3\n",
      "4\n",
      "5\n",
      "6\n",
      "7\n",
      "8\n",
      "9\n",
      "10\n",
      "11\n"
     ]
    }
   ],
   "source": [
    "# check uniques\n",
    "unique(label)"
   ]
  },
  {
   "cell_type": "code",
   "execution_count": 28,
   "metadata": {},
   "outputs": [
    {
     "name": "stdout",
     "output_type": "stream",
     "text": [
      "(4500,)\n",
      "<class 'numpy.int64'>\n"
     ]
    }
   ],
   "source": [
    "print(label.shape)\n",
    "print(type(label[0]))"
   ]
  },
  {
   "cell_type": "code",
   "execution_count": 29,
   "metadata": {},
   "outputs": [],
   "source": [
    "#label = label.reshape((4800,1))"
   ]
  },
  {
   "cell_type": "code",
   "execution_count": 30,
   "metadata": {},
   "outputs": [],
   "source": [
    "#type(np.float64(label[0][0]))"
   ]
  },
  {
   "cell_type": "code",
   "execution_count": 31,
   "metadata": {},
   "outputs": [
    {
     "data": {
      "text/plain": [
       "(4500,)"
      ]
     },
     "execution_count": 31,
     "metadata": {},
     "output_type": "execute_result"
    }
   ],
   "source": [
    "label.shape"
   ]
  },
  {
   "cell_type": "code",
   "execution_count": 32,
   "metadata": {},
   "outputs": [],
   "source": [
    "#fl_data.shape"
   ]
  },
  {
   "cell_type": "code",
   "execution_count": 33,
   "metadata": {},
   "outputs": [
    {
     "data": {
      "text/plain": [
       "'\\n#one hot encode the lable\\nb = np.zeros((label.size, label.max()+1))\\nb[np.arange(label.size), label] = 1\\n#labels = b\\n'"
      ]
     },
     "execution_count": 33,
     "metadata": {},
     "output_type": "execute_result"
    }
   ],
   "source": [
    "\"\"\"\n",
    "#one hot encode the lable\n",
    "b = np.zeros((label.size, label.max()+1))\n",
    "b[np.arange(label.size), label] = 1\n",
    "#labels = b\n",
    "\"\"\""
   ]
  },
  {
   "cell_type": "markdown",
   "metadata": {},
   "source": [
    "### check on prepared datasets"
   ]
  },
  {
   "cell_type": "code",
   "execution_count": 34,
   "metadata": {},
   "outputs": [
    {
     "data": {
      "text/plain": [
       "'\\nprint(fl_data.shape)\\nprint(labels.shape)\\n'"
      ]
     },
     "execution_count": 34,
     "metadata": {},
     "output_type": "execute_result"
    }
   ],
   "source": [
    "\"\"\"\n",
    "print(fl_data.shape)\n",
    "print(labels.shape)\n",
    "\"\"\""
   ]
  },
  {
   "cell_type": "markdown",
   "metadata": {},
   "source": [
    "### Before dividing into train and test sets, let's combine so we can shuffle"
   ]
  },
  {
   "cell_type": "code",
   "execution_count": 35,
   "metadata": {},
   "outputs": [],
   "source": [
    "#a=np.concatenate((fl_data, label), axis=1)\n",
    "#a.shape"
   ]
  },
  {
   "cell_type": "code",
   "execution_count": 36,
   "metadata": {},
   "outputs": [],
   "source": [
    "#shuffle\n",
    "#np.random.shuffle(a)"
   ]
  },
  {
   "cell_type": "code",
   "execution_count": 37,
   "metadata": {},
   "outputs": [],
   "source": [
    "#how to slice the labels again\n",
    "#new_labels=a[:,-1:]#.sum()\n",
    "#new_labels.shape"
   ]
  },
  {
   "cell_type": "code",
   "execution_count": 38,
   "metadata": {},
   "outputs": [],
   "source": [
    "#how to slice the train again\n",
    "#train_data=a[:,:2500]\n",
    "#train_data.shape"
   ]
  },
  {
   "cell_type": "code",
   "execution_count": 39,
   "metadata": {},
   "outputs": [
    {
     "data": {
      "text/plain": [
       "((3600, 96, 96, 3), (900, 96, 96, 3), (3600,), (900,))"
      ]
     },
     "execution_count": 39,
     "metadata": {},
     "output_type": "execute_result"
    }
   ],
   "source": [
    "from sklearn.model_selection import train_test_split\n",
    "x_train, x_val, y_train, y_val = train_test_split(data, label, test_size = 0.2)\n",
    "x_train.shape, x_val.shape, y_train.shape, y_val.shape"
   ]
  },
  {
   "cell_type": "code",
   "execution_count": 40,
   "metadata": {},
   "outputs": [
    {
     "data": {
      "text/plain": [
       "'\\nx_train = train_data[:4000]\\nprint(\"train : \" + str(x_train.shape))\\nx_val = train_data[4000:]\\nprint(\"train validation : \" + str(x_val.shape))\\ny_train = new_labels[:4000]\\ny_train = np.int64(y_train)\\nprint(\"train label : \" + str(y_train.shape))\\ny_val = new_labels[4000:]\\ny_val = np.int64(y_val)\\nprint(\"train validation label : \" + str(y_val.shape))\\n'"
      ]
     },
     "execution_count": 40,
     "metadata": {},
     "output_type": "execute_result"
    }
   ],
   "source": [
    "\"\"\"\n",
    "x_train = train_data[:4000]\n",
    "print(\"train : \" + str(x_train.shape))\n",
    "x_val = train_data[4000:]\n",
    "print(\"train validation : \" + str(x_val.shape))\n",
    "y_train = new_labels[:4000]\n",
    "y_train = np.int64(y_train)\n",
    "print(\"train label : \" + str(y_train.shape))\n",
    "y_val = new_labels[4000:]\n",
    "y_val = np.int64(y_val)\n",
    "print(\"train validation label : \" + str(y_val.shape))\n",
    "\"\"\""
   ]
  },
  {
   "cell_type": "code",
   "execution_count": 41,
   "metadata": {},
   "outputs": [
    {
     "data": {
      "text/plain": [
       "'\\n#change data types to df\\nx_train = pd.DataFrame(x_train)\\nx_val = pd.DataFrame(x_val)\\ny_train = pd.DataFrame(y_train)\\ny_val = pd.DataFrame(y_val)\\n'"
      ]
     },
     "execution_count": 41,
     "metadata": {},
     "output_type": "execute_result"
    }
   ],
   "source": [
    "\"\"\"\n",
    "#change data types to df\n",
    "x_train = pd.DataFrame(x_train)\n",
    "x_val = pd.DataFrame(x_val)\n",
    "y_train = pd.DataFrame(y_train)\n",
    "y_val = pd.DataFrame(y_val)\n",
    "\"\"\""
   ]
  },
  {
   "cell_type": "code",
   "execution_count": 42,
   "metadata": {},
   "outputs": [
    {
     "name": "stdout",
     "output_type": "stream",
     "text": [
      "<class 'numpy.ndarray'>\n",
      "<class 'numpy.int32'>\n",
      "<class 'numpy.ndarray'>\n",
      "<class 'numpy.int32'>\n"
     ]
    }
   ],
   "source": [
    "print(type(x_train[0][0][0]))\n",
    "y_train = np.int32(y_train)\n",
    "print(type(y_train[0]))\n",
    "print(type(x_val[0][0][0]))\n",
    "y_val = np.int32(y_val)\n",
    "print(type(y_val[0]))"
   ]
  },
  {
   "cell_type": "code",
   "execution_count": 43,
   "metadata": {},
   "outputs": [
    {
     "name": "stdout",
     "output_type": "stream",
     "text": [
      "(3600, 96, 96, 3)\n",
      "(3600,)\n",
      "(900, 96, 96, 3)\n",
      "(900,)\n"
     ]
    }
   ],
   "source": [
    "print(x_train.shape)\n",
    "print(y_train.shape)\n",
    "print(x_val.shape)\n",
    "print(y_val.shape)"
   ]
  },
  {
   "cell_type": "markdown",
   "metadata": {},
   "source": [
    "## CNN Helper f(x)"
   ]
  },
  {
   "cell_type": "code",
   "execution_count": 44,
   "metadata": {},
   "outputs": [],
   "source": [
    "def cnn_model_fn(features, labels, mode):\n",
    "  # Input Layer\n",
    "    input_layer = tf.reshape(features, [-1, 96, 96, 3])\n",
    "\n",
    "  # Convolutional Layer #1\n",
    "    conv1 = tf.layers.conv2d(\n",
    "      inputs=input_layer,\n",
    "      filters=32,\n",
    "      kernel_size=[5, 5],\n",
    "      padding=\"same\",\n",
    "      activation=tf.nn.relu)\n",
    "\n",
    "  # Pooling Layer #1\n",
    "    pool1 = tf.layers.max_pooling2d(inputs=conv1, pool_size=[2, 2], strides=2) \n",
    "\n",
    "  # Convolutional Layer #2 and Pooling Layer #2\n",
    "    conv2 = tf.layers.conv2d(\n",
    "      inputs=pool1,\n",
    "      filters=64,\n",
    "      kernel_size=[5, 5],\n",
    "      padding=\"same\",\n",
    "      activation=tf.nn.relu)\n",
    "    pool2 = tf.layers.max_pooling2d(inputs=conv2, pool_size=[2, 2], strides=2)\n",
    "\n",
    "  # Dense Layer\n",
    "    pool2_flat = tf.reshape(pool2, [-1, 36864])\n",
    "    dense = tf.layers.dense(inputs=pool2_flat, units=1024, activation=tf.nn.relu)\n",
    "    dropout = tf.layers.dropout(\n",
    "      inputs=dense, rate=0.4, training=mode == tf.estimator.ModeKeys.TRAIN)\n",
    "\n",
    "  # Logits Layer\n",
    "    logits = tf.layers.dense(inputs=dropout, units=12)\n",
    "\n",
    "    predictions = {\n",
    "      # Generate predictions (for PREDICT and EVAL mode)\n",
    "      \"classes\": tf.argmax(input=logits, axis=1),\n",
    "      # Add `softmax_tensor` to the graph. It is used for PREDICT and by the\n",
    "      # `logging_hook`.\n",
    "      \"probabilities\": tf.nn.softmax(logits, name=\"softmax_tensor\")\n",
    "    }\n",
    "    \n",
    "    if mode == tf.estimator.ModeKeys.PREDICT:\n",
    "        return tf.estimator.EstimatorSpec(mode=mode, predictions=predictions)\n",
    "\n",
    "    # Calculate Loss (for both TRAIN and EVAL modes)\n",
    "    loss = tf.losses.sparse_softmax_cross_entropy(labels=labels, logits=logits)\n",
    "    # here we define how we calculate our accuracy\n",
    "    # if you want to monitor your training accuracy you need these two lines\n",
    "    accuracy = tf.metrics.accuracy(labels=labels, predictions=predictions['classes'], name='acc_op')\n",
    "    tf.summary.scalar('accuracy', accuracy[1])\n",
    "    # Configure the Training Op (for TRAIN mode)\n",
    "    if mode == tf.estimator.ModeKeys.TRAIN:\n",
    "        optimizer = tf.train.GradientDescentOptimizer(learning_rate=0.01)\n",
    "        train_op = optimizer.minimize(\n",
    "            loss=loss,\n",
    "            global_step=tf.train.get_global_step())\n",
    "        tf.identity(accuracy[1], name='train_accuracy')\n",
    "        tf.summary.scalar('train_accuracy', accuracy[1])\n",
    "        eval_metric_ops = {'train_accuracy':accuracy}\n",
    "        return tf.estimator.EstimatorSpec(mode=mode, loss=loss, train_op=train_op, eval_metric_ops=eval_metric_ops)\n",
    "\n",
    "    # Add evaluation metrics (for EVAL mode)\n",
    "    tf.identity(accuracy[1], name='val_accuracy')\n",
    "    tf.summary.scalar('val_accuracy', accuracy[1])\n",
    "    eval_metric_ops = {'val_accuracy':accuracy}\n",
    "    #eval_metric_ops = {\n",
    "    #  \"accuracy\": tf.metrics.accuracy(\n",
    "    #      labels=labels, predictions=predictions[\"classes\"])}\n",
    "    return tf.estimator.EstimatorSpec(\n",
    "        mode=mode, loss=loss, eval_metric_ops=eval_metric_ops)"
   ]
  },
  {
   "cell_type": "code",
   "execution_count": 45,
   "metadata": {},
   "outputs": [],
   "source": [
    "def construct_feature_columns():\n",
    "    return set([tf.feature_column.numeric_column('pixels', shape=9216)])"
   ]
  },
  {
   "cell_type": "code",
   "execution_count": 46,
   "metadata": {},
   "outputs": [],
   "source": [
    "def create_predict_input_fn(features, labels, batch_size):\n",
    "    predict_input_fn = tf.estimator.inputs.numpy_input_fn(\n",
    "        x=features,\n",
    "        y=labels,\n",
    "        num_epochs=1,\n",
    "        shuffle=False)\n",
    "    return predict_input_fn\n",
    "\n",
    "def create_training_input_fn(features, labels, batch_size):\n",
    "    train_input_fn = tf.estimator.inputs.numpy_input_fn(\n",
    "        x=features,\n",
    "        y=labels,\n",
    "        batch_size=batch_size,\n",
    "        num_epochs=None,\n",
    "        shuffle=True)\n",
    "    return train_input_fn"
   ]
  },
  {
   "cell_type": "code",
   "execution_count": 47,
   "metadata": {},
   "outputs": [],
   "source": [
    "training_examples = x_train\n",
    "validation_examples = x_val\n",
    "training_targets = y_train\n",
    "validation_targets = y_val"
   ]
  },
  {
   "cell_type": "code",
   "execution_count": 48,
   "metadata": {},
   "outputs": [],
   "source": [
    "def train_hub_classification_model(\n",
    "    learning_rate,\n",
    "    steps,\n",
    "    batch_size,\n",
    "    hidden_units,\n",
    "    training_examples,\n",
    "    training_targets,\n",
    "    validation_examples,\n",
    "    validation_targets):\n",
    "\n",
    "    periods = 10\n",
    "    steps_per_period = steps / periods \n",
    "    \n",
    "    predict_training_input_fn = create_predict_input_fn(training_examples, training_targets, batch_size)\n",
    "    predict_validation_input_fn = create_predict_input_fn(validation_examples, validation_targets, batch_size)\n",
    "  \n",
    "    training_input_fn = create_training_input_fn(training_examples, training_targets, batch_size)\n",
    "    predict_training_input_fn = create_predict_input_fn(training_examples, training_targets, batch_size)\n",
    "    \n",
    "    predict_validation_input_fn = create_predict_input_fn(validation_examples, validation_targets, batch_size)\n",
    "    training_input_fn = create_training_input_fn(training_examples, training_targets, batch_size)\n",
    "  \n",
    "    feature_columns = [tf.feature_column.numeric_column('pixels', shape=9216)]\n",
    "\n",
    "    my_optimizer = tf.train.AdagradOptimizer(learning_rate=learning_rate)\n",
    "    my_optimizer = tf.contrib.estimator.clip_gradients_by_norm(my_optimizer, 5.0)\n",
    "\n",
    "    classifier = tf.estimator.Estimator(\n",
    "    model_fn=cnn_model_fn,\n",
    "    model_dir=\"./mode_CNN_5\"\n",
    "    )\n",
    "\n",
    "    \n",
    "    print(\"Training model...\")\n",
    "    print(\"LogLoss error (on validation data):\")\n",
    "    training_errors = []\n",
    "    validation_errors = []\n",
    "    training_accu = []\n",
    "    validation_accu = []\n",
    "    for period in range (0, periods):\n",
    "        classifier.train(\n",
    "            input_fn=training_input_fn,\n",
    "            steps=steps_per_period,\n",
    "        )\n",
    "        training_predictions = list(classifier.predict(input_fn=predict_training_input_fn))\n",
    "        training_probabilities = np.array([item['probabilities'] for item in training_predictions])\n",
    "        training_pred_class_id = np.array([item['classes'] for item in training_predictions])\n",
    "        training_pred_one_hot = tf.keras.utils.to_categorical(training_pred_class_id,12) #change class number\n",
    "\n",
    "        validation_predictions = list(classifier.predict(input_fn=predict_validation_input_fn))\n",
    "        validation_probabilities = np.array([item['probabilities'] for item in validation_predictions])    \n",
    "        validation_pred_class_id = np.array([item['classes'] for item in validation_predictions])\n",
    "        validation_pred_one_hot = tf.keras.utils.to_categorical(validation_pred_class_id,12) #change class number\n",
    "\n",
    "        # Compute training and validation errors.\n",
    "        training_log_loss = metrics.log_loss(training_targets, training_pred_one_hot)\n",
    "        training_acc = metrics.accuracy_score(training_targets, training_predictions)\n",
    "        validation_log_loss = metrics.log_loss(validation_targets, validation_pred_one_hot)\n",
    "        validation_acc = metrics.accuracy_score(validation_targets, validation_predictions)\n",
    "        # Occasionally print the current loss.\n",
    "        print(\"  period %02d : %0.2f\" % (period, validation_log_loss))\n",
    "        # Add the loss metrics from this period to our list.\n",
    "        training_errors.append(training_log_loss)\n",
    "        validation_errors.append(validation_log_loss)\n",
    "        training_accu.append(training_acc)\n",
    "        validation_accu.append(validation_acc)\n",
    "        \n",
    "    print(\"Model training finished.\")\n",
    "    # Remove event files to save disk space.\n",
    "    _ = map(os.remove, glob.glob(os.path.join(classifier.model_dir, 'events.out.tfevents*')))\n",
    "\n",
    "    # Calculate final predictions (not probabilities, as above).\n",
    "    final_predictions = classifier.predict(input_fn=predict_validation_input_fn)\n",
    "    final_predictions = np.array([item['classes'] for item in final_predictions])\n",
    "\n",
    "\n",
    "    accuracy = metrics.accuracy_score(validation_targets, final_predictions)\n",
    "    print(\"Final accuracy (on validation data): %0.2f\" % accuracy)\n",
    "\n",
    "    # Output a graph of loss metrics over periods.\n",
    "    plt.ylabel(\"LogLoss\")\n",
    "    plt.xlabel(\"Periods\")\n",
    "    plt.title(\"LogLoss vs. Periods\")\n",
    "    plt.plot(training_errors, label=\"training\")\n",
    "    plt.plot(validation_errors, label=\"validation\")\n",
    "    plt.legend()\n",
    "    plt.show()\n",
    "    \n",
    "    plt.ylabel(\"Accuracy\")\n",
    "    plt.xlabel(\"Periods\")\n",
    "    plt.title(\"Accuracy vs. Periods\")\n",
    "    plt.plot(training_accu, label=\"training\")\n",
    "    plt.plot(validation_accu, label=\"validation\")\n",
    "    plt.legend()\n",
    "    plt.show()\n",
    "\n",
    "    # Output a plot of the confusion matrix.\n",
    "    cm = metrics.confusion_matrix(validation_targets, final_predictions)\n",
    "    # Normalize the confusion matrix by row (i.e by the number of samples\n",
    "    # in each class).\n",
    "    cm_normalized = cm.astype(\"float\") / cm.sum(axis=1)[:, np.newaxis]\n",
    "    ax = sns.heatmap(cm_normalized, cmap=\"bone_r\")\n",
    "    ax.set_aspect(1)\n",
    "    plt.title(\"Confusion matrix\")\n",
    "    plt.ylabel(\"True label\")\n",
    "    plt.xlabel(\"Predicted label\")\n",
    "    plt.show()\n",
    "\n",
    "    return classifier"
   ]
  },
  {
   "cell_type": "code",
   "execution_count": 49,
   "metadata": {},
   "outputs": [
    {
     "name": "stdout",
     "output_type": "stream",
     "text": [
      "(900, 96, 96, 3)\n",
      "900\n"
     ]
    }
   ],
   "source": [
    "#len(set(training_targets))\n",
    "#validation_targets\n",
    "print(validation_examples.shape)\n",
    "print(len(validation_examples))"
   ]
  },
  {
   "cell_type": "code",
   "execution_count": 50,
   "metadata": {},
   "outputs": [
    {
     "name": "stdout",
     "output_type": "stream",
     "text": [
      "12\n",
      "12\n"
     ]
    }
   ],
   "source": [
    "print(len(set(validation_targets)))\n",
    "print(len(set(training_targets)))"
   ]
  },
  {
   "cell_type": "code",
   "execution_count": 57,
   "metadata": {
    "scrolled": false
   },
   "outputs": [
    {
     "name": "stdout",
     "output_type": "stream",
     "text": [
      "INFO:tensorflow:Using default config.\n",
      "INFO:tensorflow:Using config: {'_model_dir': './mode_CNN_5', '_tf_random_seed': None, '_save_summary_steps': 100, '_save_checkpoints_steps': None, '_save_checkpoints_secs': 600, '_session_config': allow_soft_placement: true\n",
      "graph_options {\n",
      "  rewrite_options {\n",
      "    meta_optimizer_iterations: ONE\n",
      "  }\n",
      "}\n",
      ", '_keep_checkpoint_max': 5, '_keep_checkpoint_every_n_hours': 10000, '_log_step_count_steps': 100, '_train_distribute': None, '_device_fn': None, '_protocol': None, '_eval_distribute': None, '_experimental_distribute': None, '_service': None, '_cluster_spec': <tensorflow.python.training.server_lib.ClusterSpec object at 0x7fd9d9958978>, '_task_type': 'worker', '_task_id': 0, '_global_id_in_cluster': 0, '_master': '', '_evaluation_master': '', '_is_chief': True, '_num_ps_replicas': 0, '_num_worker_replicas': 1}\n",
      "Training model...\n",
      "LogLoss error (on validation data):\n",
      "INFO:tensorflow:Calling model_fn.\n",
      "INFO:tensorflow:Done calling model_fn.\n",
      "INFO:tensorflow:Create CheckpointSaverHook.\n",
      "INFO:tensorflow:Graph was finalized.\n",
      "INFO:tensorflow:Restoring parameters from ./mode_CNN_5/model.ckpt-1000\n",
      "INFO:tensorflow:Running local_init_op.\n",
      "INFO:tensorflow:Done running local_init_op.\n",
      "INFO:tensorflow:Saving checkpoints for 1000 into ./mode_CNN_5/model.ckpt.\n",
      "INFO:tensorflow:loss = 1.4169334, step = 1001\n",
      "INFO:tensorflow:global_step/sec: 3.52537\n",
      "INFO:tensorflow:loss = 1.5004938, step = 1101 (28.367 sec)\n",
      "INFO:tensorflow:global_step/sec: 3.51833\n",
      "INFO:tensorflow:loss = 1.9061753, step = 1201 (28.423 sec)\n",
      "INFO:tensorflow:global_step/sec: 3.40846\n",
      "INFO:tensorflow:loss = 1.3988451, step = 1301 (29.339 sec)\n",
      "INFO:tensorflow:global_step/sec: 3.50465\n",
      "INFO:tensorflow:loss = 1.0676879, step = 1401 (28.533 sec)\n",
      "INFO:tensorflow:global_step/sec: 3.51146\n",
      "INFO:tensorflow:loss = 1.1089509, step = 1501 (28.478 sec)\n",
      "INFO:tensorflow:global_step/sec: 3.13512\n",
      "INFO:tensorflow:loss = 1.8428061, step = 1601 (31.896 sec)\n",
      "INFO:tensorflow:global_step/sec: 3.51644\n",
      "INFO:tensorflow:loss = 1.7582539, step = 1701 (28.438 sec)\n",
      "INFO:tensorflow:global_step/sec: 3.35957\n",
      "INFO:tensorflow:loss = 1.2567466, step = 1801 (29.766 sec)\n",
      "INFO:tensorflow:global_step/sec: 3.52117\n",
      "INFO:tensorflow:loss = 1.480589, step = 1901 (28.400 sec)\n",
      "INFO:tensorflow:Saving checkpoints for 2000 into ./mode_CNN_5/model.ckpt.\n",
      "INFO:tensorflow:Loss for final step: 0.768297.\n",
      "INFO:tensorflow:Calling model_fn.\n",
      "INFO:tensorflow:Done calling model_fn.\n",
      "INFO:tensorflow:Graph was finalized.\n",
      "INFO:tensorflow:Restoring parameters from ./mode_CNN_5/model.ckpt-2000\n",
      "INFO:tensorflow:Running local_init_op.\n",
      "INFO:tensorflow:Done running local_init_op.\n",
      "INFO:tensorflow:Calling model_fn.\n",
      "INFO:tensorflow:Done calling model_fn.\n",
      "INFO:tensorflow:Graph was finalized.\n",
      "INFO:tensorflow:Restoring parameters from ./mode_CNN_5/model.ckpt-2000\n",
      "INFO:tensorflow:Running local_init_op.\n",
      "INFO:tensorflow:Done running local_init_op.\n",
      "  period 00 : 13.32\n",
      "INFO:tensorflow:Calling model_fn.\n",
      "INFO:tensorflow:Done calling model_fn.\n",
      "INFO:tensorflow:Create CheckpointSaverHook.\n",
      "INFO:tensorflow:Graph was finalized.\n",
      "INFO:tensorflow:Restoring parameters from ./mode_CNN_5/model.ckpt-2000\n",
      "INFO:tensorflow:Running local_init_op.\n",
      "INFO:tensorflow:Done running local_init_op.\n",
      "INFO:tensorflow:Saving checkpoints for 2000 into ./mode_CNN_5/model.ckpt.\n",
      "INFO:tensorflow:loss = 1.3234094, step = 2001\n",
      "INFO:tensorflow:global_step/sec: 3.51815\n",
      "INFO:tensorflow:loss = 1.1929911, step = 2101 (28.426 sec)\n",
      "INFO:tensorflow:global_step/sec: 3.49339\n",
      "INFO:tensorflow:loss = 0.8396818, step = 2201 (28.626 sec)\n",
      "INFO:tensorflow:global_step/sec: 3.52901\n",
      "INFO:tensorflow:loss = 0.91984254, step = 2301 (28.336 sec)\n",
      "INFO:tensorflow:global_step/sec: 3.55507\n",
      "INFO:tensorflow:loss = 0.39003435, step = 2401 (28.129 sec)\n",
      "INFO:tensorflow:global_step/sec: 3.54904\n",
      "INFO:tensorflow:loss = 0.36659846, step = 2501 (28.177 sec)\n",
      "INFO:tensorflow:global_step/sec: 3.35906\n",
      "INFO:tensorflow:loss = 0.6456512, step = 2601 (29.770 sec)\n",
      "INFO:tensorflow:global_step/sec: 3.54089\n",
      "INFO:tensorflow:loss = 0.6043372, step = 2701 (28.242 sec)\n",
      "INFO:tensorflow:global_step/sec: 3.52854\n",
      "INFO:tensorflow:loss = 0.7349952, step = 2801 (28.341 sec)\n",
      "INFO:tensorflow:global_step/sec: 3.52112\n",
      "INFO:tensorflow:loss = 0.7368886, step = 2901 (28.400 sec)\n",
      "INFO:tensorflow:Saving checkpoints for 3000 into ./mode_CNN_5/model.ckpt.\n",
      "INFO:tensorflow:Loss for final step: 0.55824596.\n",
      "INFO:tensorflow:Calling model_fn.\n",
      "INFO:tensorflow:Done calling model_fn.\n",
      "INFO:tensorflow:Graph was finalized.\n",
      "INFO:tensorflow:Restoring parameters from ./mode_CNN_5/model.ckpt-3000\n",
      "INFO:tensorflow:Running local_init_op.\n",
      "INFO:tensorflow:Done running local_init_op.\n",
      "INFO:tensorflow:Calling model_fn.\n",
      "INFO:tensorflow:Done calling model_fn.\n",
      "INFO:tensorflow:Graph was finalized.\n",
      "INFO:tensorflow:Restoring parameters from ./mode_CNN_5/model.ckpt-3000\n",
      "INFO:tensorflow:Running local_init_op.\n",
      "INFO:tensorflow:Done running local_init_op.\n",
      "  period 01 : 11.63\n",
      "INFO:tensorflow:Calling model_fn.\n",
      "INFO:tensorflow:Done calling model_fn.\n",
      "INFO:tensorflow:Create CheckpointSaverHook.\n",
      "INFO:tensorflow:Graph was finalized.\n",
      "INFO:tensorflow:Restoring parameters from ./mode_CNN_5/model.ckpt-3000\n",
      "INFO:tensorflow:Running local_init_op.\n",
      "INFO:tensorflow:Done running local_init_op.\n",
      "INFO:tensorflow:Saving checkpoints for 3000 into ./mode_CNN_5/model.ckpt.\n",
      "INFO:tensorflow:loss = 0.38860744, step = 3001\n",
      "INFO:tensorflow:global_step/sec: 3.51469\n",
      "INFO:tensorflow:loss = 0.6944685, step = 3101 (28.454 sec)\n",
      "INFO:tensorflow:global_step/sec: 3.42875\n",
      "INFO:tensorflow:loss = 0.42956802, step = 3201 (29.165 sec)\n",
      "INFO:tensorflow:global_step/sec: 3.51498\n",
      "INFO:tensorflow:loss = 0.0884256, step = 3301 (28.450 sec)\n",
      "INFO:tensorflow:global_step/sec: 3.5036\n",
      "INFO:tensorflow:loss = 0.34463167, step = 3401 (28.542 sec)\n",
      "INFO:tensorflow:global_step/sec: 3.51898\n",
      "INFO:tensorflow:loss = 0.034460757, step = 3501 (28.417 sec)\n",
      "INFO:tensorflow:global_step/sec: 3.50861\n",
      "INFO:tensorflow:loss = 0.021546686, step = 3601 (28.501 sec)\n",
      "INFO:tensorflow:global_step/sec: 3.50708\n",
      "INFO:tensorflow:loss = 0.1592226, step = 3701 (28.514 sec)\n",
      "INFO:tensorflow:global_step/sec: 3.49282\n",
      "INFO:tensorflow:loss = 0.27651975, step = 3801 (28.630 sec)\n",
      "INFO:tensorflow:global_step/sec: 3.45288\n",
      "INFO:tensorflow:loss = 0.15853421, step = 3901 (28.961 sec)\n",
      "INFO:tensorflow:Saving checkpoints for 4000 into ./mode_CNN_5/model.ckpt.\n",
      "INFO:tensorflow:Loss for final step: 0.7168858.\n",
      "INFO:tensorflow:Calling model_fn.\n",
      "INFO:tensorflow:Done calling model_fn.\n",
      "INFO:tensorflow:Graph was finalized.\n",
      "INFO:tensorflow:Restoring parameters from ./mode_CNN_5/model.ckpt-4000\n",
      "INFO:tensorflow:Running local_init_op.\n",
      "INFO:tensorflow:Done running local_init_op.\n",
      "INFO:tensorflow:Calling model_fn.\n",
      "INFO:tensorflow:Done calling model_fn.\n",
      "INFO:tensorflow:Graph was finalized.\n",
      "INFO:tensorflow:Restoring parameters from ./mode_CNN_5/model.ckpt-4000\n",
      "INFO:tensorflow:Running local_init_op.\n",
      "INFO:tensorflow:Done running local_init_op.\n",
      "  period 02 : 10.32\n",
      "INFO:tensorflow:Calling model_fn.\n",
      "INFO:tensorflow:Done calling model_fn.\n",
      "INFO:tensorflow:Create CheckpointSaverHook.\n",
      "INFO:tensorflow:Graph was finalized.\n",
      "INFO:tensorflow:Restoring parameters from ./mode_CNN_5/model.ckpt-4000\n",
      "INFO:tensorflow:Running local_init_op.\n",
      "INFO:tensorflow:Done running local_init_op.\n",
      "INFO:tensorflow:Saving checkpoints for 4000 into ./mode_CNN_5/model.ckpt.\n",
      "INFO:tensorflow:loss = 0.14468114, step = 4001\n",
      "INFO:tensorflow:global_step/sec: 3.49304\n",
      "INFO:tensorflow:loss = 0.10422986, step = 4101 (28.630 sec)\n",
      "INFO:tensorflow:global_step/sec: 3.43604\n",
      "INFO:tensorflow:loss = 0.16498156, step = 4201 (29.103 sec)\n",
      "INFO:tensorflow:global_step/sec: 3.47611\n",
      "INFO:tensorflow:loss = 0.1713852, step = 4301 (28.768 sec)\n",
      "INFO:tensorflow:global_step/sec: 3.48059\n",
      "INFO:tensorflow:loss = 0.063004784, step = 4401 (28.731 sec)\n",
      "INFO:tensorflow:global_step/sec: 3.45766\n",
      "INFO:tensorflow:loss = 0.15577415, step = 4501 (28.921 sec)\n",
      "INFO:tensorflow:global_step/sec: 3.4806\n",
      "INFO:tensorflow:loss = 0.04570356, step = 4601 (28.730 sec)\n",
      "INFO:tensorflow:global_step/sec: 3.45663\n",
      "INFO:tensorflow:loss = 0.06410485, step = 4701 (28.930 sec)\n",
      "INFO:tensorflow:global_step/sec: 3.45608\n",
      "INFO:tensorflow:loss = 0.10328972, step = 4801 (28.934 sec)\n",
      "INFO:tensorflow:global_step/sec: 3.47827\n",
      "INFO:tensorflow:loss = 0.25588927, step = 4901 (28.750 sec)\n"
     ]
    },
    {
     "name": "stdout",
     "output_type": "stream",
     "text": [
      "INFO:tensorflow:Saving checkpoints for 5000 into ./mode_CNN_5/model.ckpt.\n",
      "INFO:tensorflow:Loss for final step: 0.30081087.\n",
      "INFO:tensorflow:Calling model_fn.\n",
      "INFO:tensorflow:Done calling model_fn.\n",
      "INFO:tensorflow:Graph was finalized.\n",
      "INFO:tensorflow:Restoring parameters from ./mode_CNN_5/model.ckpt-5000\n",
      "INFO:tensorflow:Running local_init_op.\n",
      "INFO:tensorflow:Done running local_init_op.\n",
      "INFO:tensorflow:Calling model_fn.\n",
      "INFO:tensorflow:Done calling model_fn.\n",
      "INFO:tensorflow:Graph was finalized.\n",
      "INFO:tensorflow:Restoring parameters from ./mode_CNN_5/model.ckpt-5000\n",
      "INFO:tensorflow:Running local_init_op.\n",
      "INFO:tensorflow:Done running local_init_op.\n",
      "  period 03 : 9.59\n",
      "INFO:tensorflow:Calling model_fn.\n",
      "INFO:tensorflow:Done calling model_fn.\n",
      "INFO:tensorflow:Create CheckpointSaverHook.\n",
      "INFO:tensorflow:Graph was finalized.\n",
      "INFO:tensorflow:Restoring parameters from ./mode_CNN_5/model.ckpt-5000\n",
      "INFO:tensorflow:Running local_init_op.\n",
      "INFO:tensorflow:Done running local_init_op.\n",
      "INFO:tensorflow:Saving checkpoints for 5000 into ./mode_CNN_5/model.ckpt.\n",
      "INFO:tensorflow:loss = 0.053685494, step = 5001\n",
      "INFO:tensorflow:global_step/sec: 3.43722\n",
      "INFO:tensorflow:loss = 0.47420236, step = 5101 (29.096 sec)\n",
      "INFO:tensorflow:global_step/sec: 3.43423\n",
      "INFO:tensorflow:loss = 0.042531416, step = 5201 (29.118 sec)\n",
      "INFO:tensorflow:global_step/sec: 3.48049\n",
      "INFO:tensorflow:loss = 0.019946821, step = 5301 (28.731 sec)\n",
      "INFO:tensorflow:global_step/sec: 3.49217\n",
      "INFO:tensorflow:loss = 0.25658002, step = 5401 (28.635 sec)\n",
      "INFO:tensorflow:global_step/sec: 3.46181\n",
      "INFO:tensorflow:loss = 0.06344812, step = 5501 (28.887 sec)\n",
      "INFO:tensorflow:global_step/sec: 3.42154\n",
      "INFO:tensorflow:loss = 0.021823019, step = 5601 (29.227 sec)\n",
      "INFO:tensorflow:global_step/sec: 3.48749\n",
      "INFO:tensorflow:loss = 0.004117932, step = 5701 (28.674 sec)\n",
      "INFO:tensorflow:global_step/sec: 3.47367\n",
      "INFO:tensorflow:loss = 0.12828676, step = 5801 (28.788 sec)\n",
      "INFO:tensorflow:global_step/sec: 3.48224\n",
      "INFO:tensorflow:loss = 0.033313, step = 5901 (28.717 sec)\n",
      "INFO:tensorflow:Saving checkpoints for 6000 into ./mode_CNN_5/model.ckpt.\n",
      "INFO:tensorflow:Loss for final step: 0.16310076.\n",
      "INFO:tensorflow:Calling model_fn.\n",
      "INFO:tensorflow:Done calling model_fn.\n",
      "INFO:tensorflow:Graph was finalized.\n",
      "INFO:tensorflow:Restoring parameters from ./mode_CNN_5/model.ckpt-6000\n",
      "INFO:tensorflow:Running local_init_op.\n",
      "INFO:tensorflow:Done running local_init_op.\n",
      "INFO:tensorflow:Calling model_fn.\n",
      "INFO:tensorflow:Done calling model_fn.\n",
      "INFO:tensorflow:Graph was finalized.\n",
      "INFO:tensorflow:Restoring parameters from ./mode_CNN_5/model.ckpt-6000\n",
      "INFO:tensorflow:Running local_init_op.\n",
      "INFO:tensorflow:Done running local_init_op.\n",
      "  period 04 : 9.21\n",
      "INFO:tensorflow:Calling model_fn.\n",
      "INFO:tensorflow:Done calling model_fn.\n",
      "INFO:tensorflow:Create CheckpointSaverHook.\n",
      "INFO:tensorflow:Graph was finalized.\n",
      "INFO:tensorflow:Restoring parameters from ./mode_CNN_5/model.ckpt-6000\n",
      "INFO:tensorflow:Running local_init_op.\n",
      "INFO:tensorflow:Done running local_init_op.\n",
      "INFO:tensorflow:Saving checkpoints for 6000 into ./mode_CNN_5/model.ckpt.\n",
      "INFO:tensorflow:loss = 0.044725154, step = 6001\n",
      "INFO:tensorflow:global_step/sec: 3.40579\n",
      "INFO:tensorflow:loss = 0.008220389, step = 6101 (29.363 sec)\n",
      "INFO:tensorflow:global_step/sec: 3.47932\n",
      "INFO:tensorflow:loss = 0.058664627, step = 6201 (28.742 sec)\n",
      "INFO:tensorflow:global_step/sec: 3.46871\n",
      "INFO:tensorflow:loss = 0.019754216, step = 6301 (28.829 sec)\n",
      "INFO:tensorflow:global_step/sec: 3.48365\n",
      "INFO:tensorflow:loss = 0.016383864, step = 6401 (28.705 sec)\n",
      "INFO:tensorflow:global_step/sec: 3.49414\n",
      "INFO:tensorflow:loss = 0.27120054, step = 6501 (28.620 sec)\n",
      "INFO:tensorflow:global_step/sec: 3.47327\n",
      "INFO:tensorflow:loss = 0.0039817295, step = 6601 (28.791 sec)\n",
      "INFO:tensorflow:global_step/sec: 3.49921\n",
      "INFO:tensorflow:loss = 0.0018413473, step = 6701 (28.578 sec)\n",
      "INFO:tensorflow:global_step/sec: 3.50367\n",
      "INFO:tensorflow:loss = 0.02034586, step = 6801 (28.542 sec)\n",
      "INFO:tensorflow:global_step/sec: 3.49432\n",
      "INFO:tensorflow:loss = 0.047207143, step = 6901 (28.618 sec)\n",
      "INFO:tensorflow:Saving checkpoints for 7000 into ./mode_CNN_5/model.ckpt.\n",
      "INFO:tensorflow:Loss for final step: 0.16291988.\n",
      "INFO:tensorflow:Calling model_fn.\n",
      "INFO:tensorflow:Done calling model_fn.\n",
      "INFO:tensorflow:Graph was finalized.\n",
      "INFO:tensorflow:Restoring parameters from ./mode_CNN_5/model.ckpt-7000\n",
      "INFO:tensorflow:Running local_init_op.\n",
      "INFO:tensorflow:Done running local_init_op.\n",
      "INFO:tensorflow:Calling model_fn.\n",
      "INFO:tensorflow:Done calling model_fn.\n",
      "INFO:tensorflow:Graph was finalized.\n",
      "INFO:tensorflow:Restoring parameters from ./mode_CNN_5/model.ckpt-7000\n",
      "INFO:tensorflow:Running local_init_op.\n",
      "INFO:tensorflow:Done running local_init_op.\n",
      "  period 05 : 8.86\n",
      "INFO:tensorflow:Calling model_fn.\n",
      "INFO:tensorflow:Done calling model_fn.\n",
      "INFO:tensorflow:Create CheckpointSaverHook.\n",
      "INFO:tensorflow:Graph was finalized.\n",
      "INFO:tensorflow:Restoring parameters from ./mode_CNN_5/model.ckpt-7000\n",
      "INFO:tensorflow:Running local_init_op.\n",
      "INFO:tensorflow:Done running local_init_op.\n",
      "INFO:tensorflow:Saving checkpoints for 7000 into ./mode_CNN_5/model.ckpt.\n",
      "INFO:tensorflow:loss = 0.12052721, step = 7001\n",
      "INFO:tensorflow:global_step/sec: 3.43056\n",
      "INFO:tensorflow:loss = 0.010546982, step = 7101 (29.152 sec)\n",
      "INFO:tensorflow:global_step/sec: 3.50899\n",
      "INFO:tensorflow:loss = 0.01534761, step = 7201 (28.498 sec)\n",
      "INFO:tensorflow:global_step/sec: 3.51233\n",
      "INFO:tensorflow:loss = 0.023241093, step = 7301 (28.471 sec)\n",
      "INFO:tensorflow:global_step/sec: 3.50495\n",
      "INFO:tensorflow:loss = 0.17389904, step = 7401 (28.532 sec)\n",
      "INFO:tensorflow:global_step/sec: 3.48882\n",
      "INFO:tensorflow:loss = 0.005320054, step = 7501 (28.663 sec)\n",
      "INFO:tensorflow:global_step/sec: 3.48895\n",
      "INFO:tensorflow:loss = 0.044722985, step = 7601 (28.661 sec)\n",
      "INFO:tensorflow:global_step/sec: 3.50486\n",
      "INFO:tensorflow:loss = 0.28324795, step = 7701 (28.532 sec)\n",
      "INFO:tensorflow:global_step/sec: 3.49295\n",
      "INFO:tensorflow:loss = 0.00665589, step = 7801 (28.629 sec)\n",
      "INFO:tensorflow:global_step/sec: 3.50718\n",
      "INFO:tensorflow:loss = 0.037110258, step = 7901 (28.513 sec)\n",
      "INFO:tensorflow:Saving checkpoints for 8000 into ./mode_CNN_5/model.ckpt.\n",
      "INFO:tensorflow:Loss for final step: 0.053939354.\n",
      "INFO:tensorflow:Calling model_fn.\n",
      "INFO:tensorflow:Done calling model_fn.\n",
      "INFO:tensorflow:Graph was finalized.\n",
      "INFO:tensorflow:Restoring parameters from ./mode_CNN_5/model.ckpt-8000\n",
      "INFO:tensorflow:Running local_init_op.\n",
      "INFO:tensorflow:Done running local_init_op.\n",
      "INFO:tensorflow:Calling model_fn.\n",
      "INFO:tensorflow:Done calling model_fn.\n",
      "INFO:tensorflow:Graph was finalized.\n",
      "INFO:tensorflow:Restoring parameters from ./mode_CNN_5/model.ckpt-8000\n",
      "INFO:tensorflow:Running local_init_op.\n",
      "INFO:tensorflow:Done running local_init_op.\n",
      "  period 06 : 9.56\n",
      "INFO:tensorflow:Calling model_fn.\n",
      "INFO:tensorflow:Done calling model_fn.\n",
      "INFO:tensorflow:Create CheckpointSaverHook.\n",
      "INFO:tensorflow:Graph was finalized.\n",
      "INFO:tensorflow:Restoring parameters from ./mode_CNN_5/model.ckpt-8000\n",
      "INFO:tensorflow:Running local_init_op.\n",
      "INFO:tensorflow:Done running local_init_op.\n",
      "INFO:tensorflow:Saving checkpoints for 8000 into ./mode_CNN_5/model.ckpt.\n",
      "INFO:tensorflow:loss = 0.014941528, step = 8001\n",
      "INFO:tensorflow:global_step/sec: 3.49919\n",
      "INFO:tensorflow:loss = 0.0059486497, step = 8101 (28.580 sec)\n",
      "INFO:tensorflow:global_step/sec: 3.51842\n",
      "INFO:tensorflow:loss = 0.0022646661, step = 8201 (28.422 sec)\n",
      "INFO:tensorflow:global_step/sec: 3.52068\n",
      "INFO:tensorflow:loss = 0.37844503, step = 8301 (28.403 sec)\n",
      "INFO:tensorflow:global_step/sec: 3.51304\n",
      "INFO:tensorflow:loss = 0.0040194215, step = 8401 (28.466 sec)\n",
      "INFO:tensorflow:global_step/sec: 3.50029\n",
      "INFO:tensorflow:loss = 0.0053606573, step = 8501 (28.569 sec)\n",
      "INFO:tensorflow:global_step/sec: 3.51804\n",
      "INFO:tensorflow:loss = 0.0009109866, step = 8601 (28.425 sec)\n",
      "INFO:tensorflow:global_step/sec: 3.50477\n",
      "INFO:tensorflow:loss = 0.0015030695, step = 8701 (28.533 sec)\n",
      "INFO:tensorflow:global_step/sec: 3.50518\n",
      "INFO:tensorflow:loss = 0.054552305, step = 8801 (28.529 sec)\n",
      "INFO:tensorflow:global_step/sec: 3.49106\n",
      "INFO:tensorflow:loss = 0.020124458, step = 8901 (28.645 sec)\n",
      "INFO:tensorflow:Saving checkpoints for 9000 into ./mode_CNN_5/model.ckpt.\n",
      "INFO:tensorflow:Loss for final step: 0.0026446625.\n",
      "INFO:tensorflow:Calling model_fn.\n"
     ]
    },
    {
     "name": "stdout",
     "output_type": "stream",
     "text": [
      "INFO:tensorflow:Done calling model_fn.\n",
      "INFO:tensorflow:Graph was finalized.\n",
      "INFO:tensorflow:Restoring parameters from ./mode_CNN_5/model.ckpt-9000\n",
      "INFO:tensorflow:Running local_init_op.\n",
      "INFO:tensorflow:Done running local_init_op.\n",
      "INFO:tensorflow:Calling model_fn.\n",
      "INFO:tensorflow:Done calling model_fn.\n",
      "INFO:tensorflow:Graph was finalized.\n",
      "INFO:tensorflow:Restoring parameters from ./mode_CNN_5/model.ckpt-9000\n",
      "INFO:tensorflow:Running local_init_op.\n",
      "INFO:tensorflow:Done running local_init_op.\n",
      "  period 07 : 9.56\n",
      "INFO:tensorflow:Calling model_fn.\n",
      "INFO:tensorflow:Done calling model_fn.\n",
      "INFO:tensorflow:Create CheckpointSaverHook.\n",
      "INFO:tensorflow:Graph was finalized.\n",
      "INFO:tensorflow:Restoring parameters from ./mode_CNN_5/model.ckpt-9000\n",
      "INFO:tensorflow:Running local_init_op.\n",
      "INFO:tensorflow:Done running local_init_op.\n",
      "INFO:tensorflow:Saving checkpoints for 9000 into ./mode_CNN_5/model.ckpt.\n",
      "INFO:tensorflow:loss = 0.01628133, step = 9001\n",
      "INFO:tensorflow:global_step/sec: 3.50312\n",
      "INFO:tensorflow:loss = 0.0011732044, step = 9101 (28.548 sec)\n",
      "INFO:tensorflow:global_step/sec: 3.50613\n",
      "INFO:tensorflow:loss = 0.0051876027, step = 9201 (28.521 sec)\n",
      "INFO:tensorflow:global_step/sec: 3.51088\n",
      "INFO:tensorflow:loss = 0.0002839811, step = 9301 (28.483 sec)\n",
      "INFO:tensorflow:global_step/sec: 3.51291\n",
      "INFO:tensorflow:loss = 0.00074136147, step = 9401 (28.467 sec)\n",
      "INFO:tensorflow:global_step/sec: 3.51437\n",
      "INFO:tensorflow:loss = 0.0009059513, step = 9501 (28.454 sec)\n",
      "INFO:tensorflow:global_step/sec: 3.51712\n",
      "INFO:tensorflow:loss = 0.0033809375, step = 9601 (28.432 sec)\n",
      "INFO:tensorflow:global_step/sec: 3.50167\n",
      "INFO:tensorflow:loss = 0.017421165, step = 9701 (28.558 sec)\n",
      "INFO:tensorflow:global_step/sec: 3.50569\n",
      "INFO:tensorflow:loss = 9.619545e-05, step = 9801 (28.526 sec)\n",
      "INFO:tensorflow:global_step/sec: 3.49725\n",
      "INFO:tensorflow:loss = 0.009968712, step = 9901 (28.594 sec)\n",
      "INFO:tensorflow:Saving checkpoints for 10000 into ./mode_CNN_5/model.ckpt.\n",
      "INFO:tensorflow:Loss for final step: 0.0022601844.\n",
      "INFO:tensorflow:Calling model_fn.\n",
      "INFO:tensorflow:Done calling model_fn.\n",
      "INFO:tensorflow:Graph was finalized.\n",
      "INFO:tensorflow:Restoring parameters from ./mode_CNN_5/model.ckpt-10000\n",
      "INFO:tensorflow:Running local_init_op.\n",
      "INFO:tensorflow:Done running local_init_op.\n",
      "INFO:tensorflow:Calling model_fn.\n",
      "INFO:tensorflow:Done calling model_fn.\n",
      "INFO:tensorflow:Graph was finalized.\n",
      "INFO:tensorflow:Restoring parameters from ./mode_CNN_5/model.ckpt-10000\n",
      "INFO:tensorflow:Running local_init_op.\n",
      "INFO:tensorflow:Done running local_init_op.\n",
      "  period 08 : 9.02\n",
      "INFO:tensorflow:Calling model_fn.\n",
      "INFO:tensorflow:Done calling model_fn.\n",
      "INFO:tensorflow:Create CheckpointSaverHook.\n",
      "INFO:tensorflow:Graph was finalized.\n",
      "INFO:tensorflow:Restoring parameters from ./mode_CNN_5/model.ckpt-10000\n",
      "INFO:tensorflow:Running local_init_op.\n",
      "INFO:tensorflow:Done running local_init_op.\n",
      "INFO:tensorflow:Saving checkpoints for 10000 into ./mode_CNN_5/model.ckpt.\n",
      "INFO:tensorflow:loss = 0.03720279, step = 10001\n",
      "INFO:tensorflow:global_step/sec: 3.51084\n",
      "INFO:tensorflow:loss = 0.0025743356, step = 10101 (28.485 sec)\n",
      "INFO:tensorflow:global_step/sec: 3.49927\n",
      "INFO:tensorflow:loss = 0.0012364936, step = 10201 (28.577 sec)\n",
      "INFO:tensorflow:global_step/sec: 3.54456\n",
      "INFO:tensorflow:loss = 0.015870005, step = 10301 (28.212 sec)\n",
      "INFO:tensorflow:global_step/sec: 3.50219\n",
      "INFO:tensorflow:loss = 0.07865258, step = 10401 (28.554 sec)\n",
      "INFO:tensorflow:global_step/sec: 3.52324\n",
      "INFO:tensorflow:loss = 0.01373415, step = 10501 (28.383 sec)\n",
      "INFO:tensorflow:global_step/sec: 3.51959\n",
      "INFO:tensorflow:loss = 0.03729436, step = 10601 (28.412 sec)\n",
      "INFO:tensorflow:global_step/sec: 3.53281\n",
      "INFO:tensorflow:loss = 0.0021103604, step = 10701 (28.306 sec)\n",
      "INFO:tensorflow:global_step/sec: 3.52366\n",
      "INFO:tensorflow:loss = 0.0025888965, step = 10801 (28.379 sec)\n",
      "INFO:tensorflow:global_step/sec: 3.50656\n",
      "INFO:tensorflow:loss = 0.008575505, step = 10901 (28.518 sec)\n",
      "INFO:tensorflow:Saving checkpoints for 11000 into ./mode_CNN_5/model.ckpt.\n",
      "INFO:tensorflow:Loss for final step: 0.0920778.\n",
      "INFO:tensorflow:Calling model_fn.\n",
      "INFO:tensorflow:Done calling model_fn.\n",
      "INFO:tensorflow:Graph was finalized.\n",
      "INFO:tensorflow:Restoring parameters from ./mode_CNN_5/model.ckpt-11000\n",
      "INFO:tensorflow:Running local_init_op.\n",
      "INFO:tensorflow:Done running local_init_op.\n",
      "INFO:tensorflow:Calling model_fn.\n",
      "INFO:tensorflow:Done calling model_fn.\n",
      "INFO:tensorflow:Graph was finalized.\n",
      "INFO:tensorflow:Restoring parameters from ./mode_CNN_5/model.ckpt-11000\n",
      "INFO:tensorflow:Running local_init_op.\n",
      "INFO:tensorflow:Done running local_init_op.\n",
      "  period 09 : 9.21\n",
      "Model training finished.\n",
      "INFO:tensorflow:Calling model_fn.\n",
      "INFO:tensorflow:Done calling model_fn.\n",
      "INFO:tensorflow:Graph was finalized.\n",
      "INFO:tensorflow:Restoring parameters from ./mode_CNN_5/model.ckpt-11000\n",
      "INFO:tensorflow:Running local_init_op.\n",
      "INFO:tensorflow:Done running local_init_op.\n",
      "Final accuracy (on validation data): 0.73\n"
     ]
    },
    {
     "data": {
      "image/png": "[encoded data removed]",
      "text/plain": [
       "<Figure size 432x288 with 1 Axes>"
      ]
     },
     "metadata": {
      "needs_background": "light"
     },
     "output_type": "display_data"
    },
    {
     "data": {
      "image/png": "[encoded data removed]",
      "text/plain": [
       "<Figure size 432x288 with 2 Axes>"
      ]
     },
     "metadata": {
      "needs_background": "light"
     },
     "output_type": "display_data"
    }
   ],
   "source": [
    "classifier = train_hub_classification_model(\n",
    "    learning_rate=0.001,\n",
    "    steps=10000,\n",
    "    batch_size=10,\n",
    "    hidden_units=[100, 100],\n",
    "    training_examples=training_examples,\n",
    "    training_targets=training_targets,\n",
    "    validation_examples=validation_examples,\n",
    "    validation_targets=validation_targets)"
   ]
  },
  {
   "cell_type": "code",
   "execution_count": null,
   "metadata": {},
   "outputs": [],
   "source": []
  },
  {
   "cell_type": "code",
   "execution_count": null,
   "metadata": {},
   "outputs": [],
   "source": []
  },
  {
   "cell_type": "markdown",
   "metadata": {},
   "source": [
    "# PREDS"
   ]
  },
  {
   "cell_type": "code",
   "execution_count": 58,
   "metadata": {},
   "outputs": [
    {
     "name": "stdout",
     "output_type": "stream",
     "text": [
      "INFO:tensorflow:Using default config.\n",
      "INFO:tensorflow:Using config: {'_model_dir': './mode_CNN_5', '_tf_random_seed': None, '_save_summary_steps': 100, '_save_checkpoints_steps': None, '_save_checkpoints_secs': 600, '_session_config': allow_soft_placement: true\n",
      "graph_options {\n",
      "  rewrite_options {\n",
      "    meta_optimizer_iterations: ONE\n",
      "  }\n",
      "}\n",
      ", '_keep_checkpoint_max': 5, '_keep_checkpoint_every_n_hours': 10000, '_log_step_count_steps': 100, '_train_distribute': None, '_device_fn': None, '_protocol': None, '_eval_distribute': None, '_experimental_distribute': None, '_service': None, '_cluster_spec': <tensorflow.python.training.server_lib.ClusterSpec object at 0x7fd9b771e978>, '_task_type': 'worker', '_task_id': 0, '_global_id_in_cluster': 0, '_master': '', '_evaluation_master': '', '_is_chief': True, '_num_ps_replicas': 0, '_num_worker_replicas': 1}\n"
     ]
    }
   ],
   "source": [
    "classifier = tf.estimator.Estimator(\n",
    "    model_fn=cnn_model_fn,\n",
    "    model_dir=\"./mode_CNN_5\",\n",
    "    )"
   ]
  },
  {
   "cell_type": "code",
   "execution_count": 59,
   "metadata": {},
   "outputs": [],
   "source": [
    "def my_test_input_fn(features, batch_size=1, num_epochs=None):\n",
    "    raw_features = features\n",
    "    ds = Dataset.from_tensor_slices((raw_features))\n",
    "    ds = ds.batch(batch_size).repeat(num_epochs)\n",
    "    features = ds.make_one_shot_iterator().get_next()\n",
    "    return features\n",
    "\n",
    "predict_test_input_fn = lambda: my_test_input_fn(\n",
    "    test_images,\n",
    "    num_epochs=1,)"
   ]
  },
  {
   "cell_type": "code",
   "execution_count": 60,
   "metadata": {},
   "outputs": [],
   "source": [
    "test_pict_path = '../input/audio_test/'"
   ]
  },
  {
   "cell_type": "code",
   "execution_count": null,
   "metadata": {},
   "outputs": [
    {
     "data": {
      "text/plain": [
       "True"
      ]
     },
     "execution_count": 61,
     "metadata": {},
     "output_type": "execute_result"
    }
   ],
   "source": [
    "plt.imread('../input/audio_test/clip_000044442.png').shape==(96,96,3)"
   ]
  },
  {
   "cell_type": "code",
   "execution_count": null,
   "metadata": {},
   "outputs": [],
   "source": []
  },
  {
   "cell_type": "code",
   "execution_count": null,
   "metadata": {},
   "outputs": [],
   "source": []
  },
  {
   "cell_type": "markdown",
   "metadata": {},
   "source": [
    "## Sub-divide into 10,000 test files to prevent tensor 2MB error"
   ]
  },
  {
   "cell_type": "code",
   "execution_count": null,
   "metadata": {},
   "outputs": [
    {
     "name": "stdout",
     "output_type": "stream",
     "text": [
      "<class 'list'>\n",
      "INFO:tensorflow:Calling model_fn.\n",
      "INFO:tensorflow:Done calling model_fn.\n",
      "INFO:tensorflow:Graph was finalized.\n",
      "INFO:tensorflow:Restoring parameters from ./mode_CNN_5/model.ckpt-11000\n",
      "INFO:tensorflow:Running local_init_op.\n",
      "INFO:tensorflow:Done running local_init_op.\n"
     ]
    }
   ],
   "source": [
    "\n",
    "test_images = []\n",
    "fnames = []\n",
    "all_files = [y for y in os.listdir(test_pict_path) if '.png' in y]\n",
    "print(type(all_files))\n",
    "i = 0\n",
    "test_images = []\n",
    "fnames = []\n",
    "for file in all_files[:10000]:\n",
    "    if (plt.imread(test_pict_path + file).shape == (96,96,3)):\n",
    "        test_images.append(cv2.imread(test_pict_path + file))\n",
    "    else : \n",
    "        test_images.append(np.empty((96,96,3), dtype=np.float32))\n",
    "    fnames.append(file[:-4] + '.wav')\n",
    "test_images = np.array(test_images, dtype=\"float32\")\n",
    "test_images /= 255\n",
    "test_predictions = classifier.predict(input_fn=predict_test_input_fn)\n",
    "test_predictions = np.array([item['classes'] for item in test_predictions])\n",
    "\n",
    "my_submission = pd.DataFrame({'fname': fnames, 'label': test_predictions})\n",
    "# you could use any filename. We choose submission here\n",
    "my_submission.to_csv('speech_' + 'a' + '.csv', index=False)\n"
   ]
  },
  {
   "cell_type": "code",
   "execution_count": null,
   "metadata": {},
   "outputs": [
    {
     "name": "stdout",
     "output_type": "stream",
     "text": [
      "<class 'list'>\n",
      "INFO:tensorflow:Calling model_fn.\n",
      "INFO:tensorflow:Done calling model_fn.\n",
      "INFO:tensorflow:Graph was finalized.\n",
      "INFO:tensorflow:Restoring parameters from ./mode_CNN_5/model.ckpt-11000\n",
      "INFO:tensorflow:Running local_init_op.\n",
      "INFO:tensorflow:Done running local_init_op.\n"
     ]
    }
   ],
   "source": [
    "\n",
    "test_images = []\n",
    "fnames = []\n",
    "all_files = [y for y in os.listdir(test_pict_path) if '.png' in y]\n",
    "print(type(all_files))\n",
    "i = 0\n",
    "test_images = []\n",
    "fnames = []\n",
    "for file in all_files[10000:20000]:\n",
    "    if (plt.imread(test_pict_path + file).shape == (96,96,3)):\n",
    "        test_images.append(cv2.imread(test_pict_path + file))\n",
    "    else : \n",
    "        test_images.append(np.empty((96,96,3), dtype=np.float32))\n",
    "    fnames.append(file[:-4] + '.wav')\n",
    "test_images = np.array(test_images, dtype=\"float32\")\n",
    "test_images /= 255\n",
    "test_predictions = classifier.predict(input_fn=predict_test_input_fn)\n",
    "test_predictions = np.array([item['classes'] for item in test_predictions])\n",
    "\n",
    "my_submission = pd.DataFrame({'fname': fnames, 'label': test_predictions})\n",
    "# you could use any filename. We choose submission here\n",
    "my_submission.to_csv('speech_' + 'b' + '.csv', index=False)\n"
   ]
  },
  {
   "cell_type": "code",
   "execution_count": null,
   "metadata": {},
   "outputs": [
    {
     "name": "stdout",
     "output_type": "stream",
     "text": [
      "<class 'list'>\n",
      "INFO:tensorflow:Calling model_fn.\n",
      "INFO:tensorflow:Done calling model_fn.\n",
      "INFO:tensorflow:Graph was finalized.\n",
      "INFO:tensorflow:Restoring parameters from ./mode_CNN_5/model.ckpt-11000\n",
      "INFO:tensorflow:Running local_init_op.\n",
      "INFO:tensorflow:Done running local_init_op.\n"
     ]
    }
   ],
   "source": [
    "\n",
    "test_images = []\n",
    "fnames = []\n",
    "all_files = [y for y in os.listdir(test_pict_path) if '.png' in y]\n",
    "print(type(all_files))\n",
    "i = 0\n",
    "test_images = []\n",
    "fnames = []\n",
    "for file in all_files[20000:30000]:\n",
    "    if (plt.imread(test_pict_path + file).shape == (96,96,3)):\n",
    "        test_images.append(cv2.imread(test_pict_path + file))\n",
    "    else : \n",
    "        test_images.append(np.empty((96,96,3), dtype=np.float32))\n",
    "    fnames.append(file[:-4] + '.wav')\n",
    "test_images = np.array(test_images, dtype=\"float32\")\n",
    "test_images /= 255\n",
    "test_predictions = classifier.predict(input_fn=predict_test_input_fn)\n",
    "test_predictions = np.array([item['classes'] for item in test_predictions])\n",
    "\n",
    "my_submission = pd.DataFrame({'fname': fnames, 'label': test_predictions})\n",
    "# you could use any filename. We choose submission here\n",
    "my_submission.to_csv('speech_' + 'c' + '.csv', index=False)\n"
   ]
  },
  {
   "cell_type": "code",
   "execution_count": null,
   "metadata": {},
   "outputs": [],
   "source": [
    "\n",
    "test_images = []\n",
    "fnames = []\n",
    "all_files = [y for y in os.listdir(test_pict_path) if '.png' in y]\n",
    "print(type(all_files))\n",
    "i = 0\n",
    "test_images = []\n",
    "fnames = []\n",
    "for file in all_files[30000:40000]:\n",
    "    if (plt.imread(test_pict_path + file).shape == (96,96,3)):\n",
    "        test_images.append(cv2.imread(test_pict_path + file))\n",
    "    else : \n",
    "        test_images.append(np.empty((96,96,3), dtype=np.float32))\n",
    "    fnames.append(file[:-4] + '.wav')\n",
    "test_images = np.array(test_images, dtype=\"float32\")\n",
    "test_images /= 255\n",
    "test_predictions = classifier.predict(input_fn=predict_test_input_fn)\n",
    "test_predictions = np.array([item['classes'] for item in test_predictions])\n",
    "\n",
    "my_submission = pd.DataFrame({'fname': fnames, 'label': test_predictions})\n",
    "# you could use any filename. We choose submission here\n",
    "my_submission.to_csv('speech_' + 'd' + '.csv', index=False)\n"
   ]
  },
  {
   "cell_type": "code",
   "execution_count": null,
   "metadata": {},
   "outputs": [],
   "source": [
    "\n",
    "test_images = []\n",
    "fnames = []\n",
    "all_files = [y for y in os.listdir(test_pict_path) if '.png' in y]\n",
    "print(type(all_files))\n",
    "i = 0\n",
    "test_images = []\n",
    "fnames = []\n",
    "for file in all_files[40000:50000]:\n",
    "    if (plt.imread(test_pict_path + file).shape == (96,96,3)):\n",
    "        test_images.append(cv2.imread(test_pict_path + file))\n",
    "    else : \n",
    "        test_images.append(np.empty((96,96,3), dtype=np.float32))\n",
    "    fnames.append(file[:-4] + '.wav')\n",
    "test_images = np.array(test_images, dtype=\"float32\")\n",
    "test_images /= 255\n",
    "test_predictions = classifier.predict(input_fn=predict_test_input_fn)\n",
    "test_predictions = np.array([item['classes'] for item in test_predictions])\n",
    "\n",
    "my_submission = pd.DataFrame({'fname': fnames, 'label': test_predictions})\n",
    "# you could use any filename. We choose submission here\n",
    "my_submission.to_csv('speech_' + 'e' + '.csv', index=False)\n"
   ]
  },
  {
   "cell_type": "code",
   "execution_count": null,
   "metadata": {},
   "outputs": [],
   "source": [
    "test_images = []\n",
    "fnames = []\n",
    "all_files = [y for y in os.listdir(test_pict_path) if '.png' in y]\n",
    "print(type(all_files))\n",
    "i = 0\n",
    "test_images = []\n",
    "fnames = []\n",
    "for file in all_files[50000:60000]:\n",
    "    if (plt.imread(test_pict_path + file).shape == (96,96,3)):\n",
    "        test_images.append(cv2.imread(test_pict_path + file))\n",
    "    else : \n",
    "        test_images.append(np.empty((96,96,3), dtype=np.float32))\n",
    "    fnames.append(file[:-4] + '.wav')\n",
    "test_images = np.array(test_images, dtype=\"float32\")\n",
    "test_images /= 255\n",
    "test_predictions = classifier.predict(input_fn=predict_test_input_fn)\n",
    "test_predictions = np.array([item['classes'] for item in test_predictions])\n",
    "\n",
    "my_submission = pd.DataFrame({'fname': fnames, 'label': test_predictions})\n",
    "# you could use any filename. We choose submission here\n",
    "my_submission.to_csv('speech_' + 'f' + '.csv', index=False)"
   ]
  },
  {
   "cell_type": "code",
   "execution_count": null,
   "metadata": {},
   "outputs": [],
   "source": [
    "test_images = []\n",
    "fnames = []\n",
    "all_files = [y for y in os.listdir(test_pict_path) if '.png' in y]\n",
    "print(type(all_files))\n",
    "i = 0\n",
    "test_images = []\n",
    "fnames = []\n",
    "for file in all_files[60000:70000]:\n",
    "    if (plt.imread(test_pict_path + file).shape == (96,96,3)):\n",
    "        test_images.append(cv2.imread(test_pict_path + file))\n",
    "    else : \n",
    "        test_images.append(np.empty((96,96,3), dtype=np.float32))\n",
    "    fnames.append(file[:-4] + '.wav')\n",
    "test_images = np.array(test_images, dtype=\"float32\")\n",
    "test_images /= 255\n",
    "test_predictions = classifier.predict(input_fn=predict_test_input_fn)\n",
    "test_predictions = np.array([item['classes'] for item in test_predictions])\n",
    "\n",
    "my_submission = pd.DataFrame({'fname': fnames, 'label': test_predictions})\n",
    "# you could use any filename. We choose submission here\n",
    "my_submission.to_csv('speech_' + 'g' + '.csv', index=False)"
   ]
  },
  {
   "cell_type": "code",
   "execution_count": null,
   "metadata": {},
   "outputs": [],
   "source": [
    "test_images = []\n",
    "fnames = []\n",
    "all_files = [y for y in os.listdir(test_pict_path) if '.png' in y]\n",
    "print(type(all_files))\n",
    "i = 0\n",
    "test_images = []\n",
    "fnames = []\n",
    "for file in all_files[70000:80000]:\n",
    "    if (plt.imread(test_pict_path + file).shape == (96,96,3)):\n",
    "        test_images.append(cv2.imread(test_pict_path + file))\n",
    "    else : \n",
    "        test_images.append(np.empty((96,96,3), dtype=np.float32))\n",
    "    fnames.append(file[:-4] + '.wav')\n",
    "test_images = np.array(test_images, dtype=\"float32\")\n",
    "test_images /= 255\n",
    "test_predictions = classifier.predict(input_fn=predict_test_input_fn)\n",
    "test_predictions = np.array([item['classes'] for item in test_predictions])\n",
    "\n",
    "my_submission = pd.DataFrame({'fname': fnames, 'label': test_predictions})\n",
    "# you could use any filename. We choose submission here\n",
    "my_submission.to_csv('speech_' + 'h' + '.csv', index=False)"
   ]
  },
  {
   "cell_type": "code",
   "execution_count": null,
   "metadata": {},
   "outputs": [],
   "source": [
    "\n",
    "test_images = []\n",
    "fnames = []\n",
    "all_files = [y for y in os.listdir(test_pict_path) if '.png' in y]\n",
    "print(type(all_files))\n",
    "i = 0\n",
    "test_images = []\n",
    "fnames = []\n",
    "for file in all_files[80000:90000]:\n",
    "    if (plt.imread(test_pict_path + file).shape == (96,96,3)):\n",
    "        test_images.append(cv2.imread(test_pict_path + file))\n",
    "    else : \n",
    "        test_images.append(np.empty((96,96,3), dtype=np.float32))\n",
    "    fnames.append(file[:-4] + '.wav')\n",
    "test_images = np.array(test_images, dtype=\"float32\")\n",
    "test_images /= 255\n",
    "test_predictions = classifier.predict(input_fn=predict_test_input_fn)\n",
    "test_predictions = np.array([item['classes'] for item in test_predictions])\n",
    "\n",
    "my_submission = pd.DataFrame({'fname': fnames, 'label': test_predictions})\n",
    "# you could use any filename. We choose submission here\n",
    "my_submission.to_csv('speech_' + 'i' + '.csv', index=False)\n"
   ]
  },
  {
   "cell_type": "code",
   "execution_count": null,
   "metadata": {},
   "outputs": [],
   "source": [
    "\n",
    "test_images = []\n",
    "fnames = []\n",
    "all_files = [y for y in os.listdir(test_pict_path) if '.png' in y]\n",
    "print(type(all_files))\n",
    "i = 0\n",
    "test_images = []\n",
    "fnames = []\n",
    "for file in all_files[90000:100000]:\n",
    "    if (plt.imread(test_pict_path + file).shape == (96,96,3)):\n",
    "        test_images.append(cv2.imread(test_pict_path + file))\n",
    "    else : \n",
    "        test_images.append(np.empty((96,96,3), dtype=np.float32))\n",
    "    fnames.append(file[:-4] + '.wav')\n",
    "test_images = np.array(test_images, dtype=\"float32\")\n",
    "test_images /= 255\n",
    "test_predictions = classifier.predict(input_fn=predict_test_input_fn)\n",
    "test_predictions = np.array([item['classes'] for item in test_predictions])\n",
    "\n",
    "my_submission = pd.DataFrame({'fname': fnames, 'label': test_predictions})\n",
    "# you could use any filename. We choose submission here\n",
    "my_submission.to_csv('speech_' + 'j' + '.csv', index=False)\n"
   ]
  },
  {
   "cell_type": "code",
   "execution_count": null,
   "metadata": {},
   "outputs": [],
   "source": [
    "\n",
    "test_images = []\n",
    "fnames = []\n",
    "all_files = [y for y in os.listdir(test_pict_path) if '.png' in y]\n",
    "print(type(all_files))\n",
    "i = 0\n",
    "test_images = []\n",
    "fnames = []\n",
    "for file in all_files[100000:110000]:\n",
    "    if (plt.imread(test_pict_path + file).shape == (96,96,3)):\n",
    "        test_images.append(cv2.imread(test_pict_path + file))\n",
    "    else : \n",
    "        test_images.append(np.empty((96,96,3), dtype=np.float32))\n",
    "    fnames.append(file[:-4] + '.wav')\n",
    "test_images = np.array(test_images, dtype=\"float32\")\n",
    "test_images /= 255\n",
    "test_predictions = classifier.predict(input_fn=predict_test_input_fn)\n",
    "test_predictions = np.array([item['classes'] for item in test_predictions])\n",
    "\n",
    "my_submission = pd.DataFrame({'fname': fnames, 'label': test_predictions})\n",
    "# you could use any filename. We choose submission here\n",
    "my_submission.to_csv('speech_' + 'k' + '.csv', index=False)\n"
   ]
  },
  {
   "cell_type": "code",
   "execution_count": null,
   "metadata": {},
   "outputs": [],
   "source": [
    "\n",
    "test_images = []\n",
    "fnames = []\n",
    "all_files = [y for y in os.listdir(test_pict_path) if '.png' in y]\n",
    "print(type(all_files))\n",
    "i = 0\n",
    "test_images = []\n",
    "fnames = []\n",
    "for file in all_files[110000:120000]:\n",
    "    if (plt.imread(test_pict_path + file).shape == (96,96,3)):\n",
    "        test_images.append(cv2.imread(test_pict_path + file))\n",
    "    else : \n",
    "        test_images.append(np.empty((96,96,3), dtype=np.float32))\n",
    "    fnames.append(file[:-4] + '.wav')\n",
    "test_images = np.array(test_images, dtype=\"float32\")\n",
    "test_images /= 255\n",
    "test_predictions = classifier.predict(input_fn=predict_test_input_fn)\n",
    "test_predictions = np.array([item['classes'] for item in test_predictions])\n",
    "\n",
    "my_submission = pd.DataFrame({'fname': fnames, 'label': test_predictions})\n",
    "# you could use any filename. We choose submission here\n",
    "my_submission.to_csv('speech_' + 'l' + '.csv', index=False)\n"
   ]
  },
  {
   "cell_type": "code",
   "execution_count": null,
   "metadata": {},
   "outputs": [],
   "source": [
    "\n",
    "test_images = []\n",
    "fnames = []\n",
    "all_files = [y for y in os.listdir(test_pict_path) if '.png' in y]\n",
    "print(type(all_files))\n",
    "i = 0\n",
    "test_images = []\n",
    "fnames = []\n",
    "for file in all_files[120000:130000]:\n",
    "    if (plt.imread(test_pict_path + file).shape == (96,96,3)):\n",
    "        test_images.append(cv2.imread(test_pict_path + file))\n",
    "    else : \n",
    "        test_images.append(np.empty((96,96,3), dtype=np.float32))\n",
    "    fnames.append(file[:-4] + '.wav')\n",
    "test_images = np.array(test_images, dtype=\"float32\")\n",
    "test_images /= 255\n",
    "test_predictions = classifier.predict(input_fn=predict_test_input_fn)\n",
    "test_predictions = np.array([item['classes'] for item in test_predictions])\n",
    "\n",
    "my_submission = pd.DataFrame({'fname': fnames, 'label': test_predictions})\n",
    "# you could use any filename. We choose submission here\n",
    "my_submission.to_csv('speech_' + 'm' + '.csv', index=False)\n"
   ]
  },
  {
   "cell_type": "code",
   "execution_count": null,
   "metadata": {},
   "outputs": [],
   "source": [
    "\n",
    "test_images = []\n",
    "fnames = []\n",
    "all_files = [y for y in os.listdir(test_pict_path) if '.png' in y]\n",
    "print(type(all_files))\n",
    "i = 0\n",
    "test_images = []\n",
    "fnames = []\n",
    "for file in all_files[130000:140000]:\n",
    "    if (plt.imread(test_pict_path + file).shape == (96,96,3)):\n",
    "        test_images.append(cv2.imread(test_pict_path + file))\n",
    "    else : \n",
    "        test_images.append(np.empty((96,96,3), dtype=np.float32))\n",
    "    fnames.append(file[:-4] + '.wav')\n",
    "test_images = np.array(test_images, dtype=\"float32\")\n",
    "test_images /= 255\n",
    "test_predictions = classifier.predict(input_fn=predict_test_input_fn)\n",
    "test_predictions = np.array([item['classes'] for item in test_predictions])\n",
    "\n",
    "my_submission = pd.DataFrame({'fname': fnames, 'label': test_predictions})\n",
    "# you could use any filename. We choose submission here\n",
    "my_submission.to_csv('speech_' + 'n' + '.csv', index=False)\n"
   ]
  },
  {
   "cell_type": "code",
   "execution_count": null,
   "metadata": {},
   "outputs": [],
   "source": [
    "test_images = []\n",
    "fnames = []\n",
    "all_files = [y for y in os.listdir(test_pict_path) if '.png' in y]\n",
    "print(type(all_files))\n",
    "i = 0\n",
    "test_images = []\n",
    "fnames = []\n",
    "for file in all_files[140000:150000]:\n",
    "    if (plt.imread(test_pict_path + file).shape == (96,96,3)):\n",
    "        test_images.append(cv2.imread(test_pict_path + file))\n",
    "    else : \n",
    "        test_images.append(np.empty((96,96,3), dtype=np.float32))\n",
    "    fnames.append(file[:-4] + '.wav')\n",
    "test_images = np.array(test_images, dtype=\"float32\")\n",
    "test_images /= 255\n",
    "test_predictions = classifier.predict(input_fn=predict_test_input_fn)\n",
    "test_predictions = np.array([item['classes'] for item in test_predictions])\n",
    "\n",
    "my_submission = pd.DataFrame({'fname': fnames, 'label': test_predictions})\n",
    "# you could use any filename. We choose submission here\n",
    "my_submission.to_csv('speech_' + 'o' + '.csv', index=False)"
   ]
  },
  {
   "cell_type": "code",
   "execution_count": null,
   "metadata": {},
   "outputs": [],
   "source": [
    "test_images = []\n",
    "fnames = []\n",
    "all_files = [y for y in os.listdir(test_pict_path) if '.png' in y]\n",
    "print(type(all_files))\n",
    "i = 0\n",
    "test_images = []\n",
    "fnames = []\n",
    "for file in all_files[150000:]:\n",
    "    if (plt.imread(test_pict_path + file).shape == (96,96,3)):\n",
    "        test_images.append(cv2.imread(test_pict_path + file))\n",
    "    else : \n",
    "        test_images.append(np.empty((96,96,3), dtype=np.float32))\n",
    "    fnames.append(file[:-4] + '.wav')\n",
    "test_images = np.array(test_images, dtype=\"float32\")\n",
    "test_images /= 255\n",
    "test_predictions = classifier.predict(input_fn=predict_test_input_fn)\n",
    "test_predictions = np.array([item['classes'] for item in test_predictions])\n",
    "\n",
    "my_submission = pd.DataFrame({'fname': fnames, 'label': test_predictions})\n",
    "# you could use any filename. We choose submission here\n",
    "my_submission.to_csv('speech_' + 'p' + '.csv', index=False)"
   ]
  },
  {
   "cell_type": "code",
   "execution_count": null,
   "metadata": {},
   "outputs": [],
   "source": []
  },
  {
   "cell_type": "code",
   "execution_count": null,
   "metadata": {},
   "outputs": [],
   "source": []
  },
  {
   "cell_type": "code",
   "execution_count": null,
   "metadata": {},
   "outputs": [],
   "source": []
  },
  {
   "cell_type": "markdown",
   "metadata": {},
   "source": [
    "## Pred Labels"
   ]
  },
  {
   "cell_type": "code",
   "execution_count": null,
   "metadata": {},
   "outputs": [],
   "source": [
    "label_dict = {'yes':0, 'no':1, 'up':2, 'down':3, 'left':4, 'right':5, 'on':6, 'off':7, \n",
    "              'stop':8, 'go':9, 'silence':10, 'unknown':11}\n",
    "\n",
    "reverse_dict = {v: k for k, v in label_dict.items()}"
   ]
  },
  {
   "cell_type": "code",
   "execution_count": null,
   "metadata": {},
   "outputs": [],
   "source": [
    "d0 = pd.read_csv(\"./speech_\" + 'a' + \".csv\",sep=\",\")\n",
    "d1 = pd.read_csv(\"./speech_\" + 'b' + \".csv\",sep=\",\")\n",
    "d2 = pd.read_csv(\"./speech_\" + 'c' + \".csv\",sep=\",\")\n",
    "d3 = pd.read_csv(\"./speech_\" + 'd' + \".csv\",sep=\",\")\n",
    "d4 = pd.read_csv(\"./speech_\" + 'e' + \".csv\",sep=\",\")\n",
    "d5 = pd.read_csv(\"./speech_\" + 'f' + \".csv\",sep=\",\")\n",
    "d6 = pd.read_csv(\"./speech_\" + 'g' + \".csv\",sep=\",\")\n",
    "d7 = pd.read_csv(\"./speech_\" + 'h' + \".csv\",sep=\",\")\n",
    "d8 = pd.read_csv(\"./speech_\" + 'i' + \".csv\",sep=\",\")\n",
    "d9 = pd.read_csv(\"./speech_\" + 'j' + \".csv\",sep=\",\")\n",
    "d10 = pd.read_csv(\"./speech_\" + 'k' + \".csv\",sep=\",\")\n",
    "d11 = pd.read_csv(\"./speech_\" + 'l' + \".csv\",sep=\",\")\n",
    "d12 = pd.read_csv(\"./speech_\" + 'm' + \".csv\",sep=\",\")\n",
    "d13 = pd.read_csv(\"./speech_\" + 'n' + \".csv\",sep=\",\")\n",
    "d14 = pd.read_csv(\"./speech_\" + 'o' + \".csv\",sep=\",\")\n",
    "d15 = pd.read_csv(\"./speech_\" + 'p' + \".csv\",sep=\",\")\n",
    "\n",
    "df = [d0,d1,d2,d3,d4,d5,d6,d7,d8,d9,d10,d11,d12,d13,d14,d15]\n",
    "dx = pd.concat(df)\n",
    "\n",
    "dx = dx.replace({\"label\": reverse_dict})\n",
    "\n",
    "dx.to_csv('submission.csv', index=False)\n",
    "dx"
   ]
  },
  {
   "cell_type": "code",
   "execution_count": null,
   "metadata": {},
   "outputs": [],
   "source": []
  },
  {
   "cell_type": "code",
   "execution_count": null,
   "metadata": {},
   "outputs": [],
   "source": []
  },
  {
   "cell_type": "code",
   "execution_count": null,
   "metadata": {},
   "outputs": [],
   "source": []
  }
 ],
 "metadata": {
  "kernelspec": {
   "display_name": "Python 3",
   "language": "python",
   "name": "python3"
  },
  "language_info": {
   "codemirror_mode": {
    "name": "ipython",
    "version": 3
   },
   "file_extension": ".py",
   "mimetype": "text/x-python",
   "name": "python",
   "nbconvert_exporter": "python",
   "pygments_lexer": "ipython3",
   "version": "3.6.7"
  }
 },
 "nbformat": 4,
 "nbformat_minor": 2
}
